{
  "nbformat": 4,
  "nbformat_minor": 0,
  "metadata": {
    "colab": {
      "provenance": []
    },
    "kernelspec": {
      "name": "python3",
      "display_name": "Python 3"
    },
    "language_info": {
      "name": "python"
    },
    "widgets": {
      "application/vnd.jupyter.widget-state+json": {
        "da691ac6c78b43ee9e92a85e998eba40": {
          "model_module": "@jupyter-widgets/controls",
          "model_name": "HBoxModel",
          "model_module_version": "1.5.0",
          "state": {
            "_dom_classes": [],
            "_model_module": "@jupyter-widgets/controls",
            "_model_module_version": "1.5.0",
            "_model_name": "HBoxModel",
            "_view_count": null,
            "_view_module": "@jupyter-widgets/controls",
            "_view_module_version": "1.5.0",
            "_view_name": "HBoxView",
            "box_style": "",
            "children": [
              "IPY_MODEL_2b1f5a86275a44939ac4a2d02c2fdf52",
              "IPY_MODEL_f5f6bee87996406f93cfc608dba22a3d",
              "IPY_MODEL_4725918bb15040dd86932757ccf7a1c0"
            ],
            "layout": "IPY_MODEL_b5ae9c83f91e454ba7c599fae92ff76e"
          }
        },
        "2b1f5a86275a44939ac4a2d02c2fdf52": {
          "model_module": "@jupyter-widgets/controls",
          "model_name": "HTMLModel",
          "model_module_version": "1.5.0",
          "state": {
            "_dom_classes": [],
            "_model_module": "@jupyter-widgets/controls",
            "_model_module_version": "1.5.0",
            "_model_name": "HTMLModel",
            "_view_count": null,
            "_view_module": "@jupyter-widgets/controls",
            "_view_module_version": "1.5.0",
            "_view_name": "HTMLView",
            "description": "",
            "description_tooltip": null,
            "layout": "IPY_MODEL_552003b72518452aa593585170855b98",
            "placeholder": "​",
            "style": "IPY_MODEL_59386e0ef29241a39120bd4a3b26da0e",
            "value": "Fetching 1 files: 100%"
          }
        },
        "f5f6bee87996406f93cfc608dba22a3d": {
          "model_module": "@jupyter-widgets/controls",
          "model_name": "FloatProgressModel",
          "model_module_version": "1.5.0",
          "state": {
            "_dom_classes": [],
            "_model_module": "@jupyter-widgets/controls",
            "_model_module_version": "1.5.0",
            "_model_name": "FloatProgressModel",
            "_view_count": null,
            "_view_module": "@jupyter-widgets/controls",
            "_view_module_version": "1.5.0",
            "_view_name": "ProgressView",
            "bar_style": "success",
            "description": "",
            "description_tooltip": null,
            "layout": "IPY_MODEL_eb688e8244c7487a832743478e09cab6",
            "max": 1,
            "min": 0,
            "orientation": "horizontal",
            "style": "IPY_MODEL_c00e0631cf1742c981d1aaf19a8323af",
            "value": 1
          }
        },
        "4725918bb15040dd86932757ccf7a1c0": {
          "model_module": "@jupyter-widgets/controls",
          "model_name": "HTMLModel",
          "model_module_version": "1.5.0",
          "state": {
            "_dom_classes": [],
            "_model_module": "@jupyter-widgets/controls",
            "_model_module_version": "1.5.0",
            "_model_name": "HTMLModel",
            "_view_count": null,
            "_view_module": "@jupyter-widgets/controls",
            "_view_module_version": "1.5.0",
            "_view_name": "HTMLView",
            "description": "",
            "description_tooltip": null,
            "layout": "IPY_MODEL_447015b841844a3a95a6642394918797",
            "placeholder": "​",
            "style": "IPY_MODEL_68682a2f7a4f44f0b4b5d386f042d775",
            "value": " 1/1 [00:00&lt;00:00, 83.94it/s]"
          }
        },
        "b5ae9c83f91e454ba7c599fae92ff76e": {
          "model_module": "@jupyter-widgets/base",
          "model_name": "LayoutModel",
          "model_module_version": "1.2.0",
          "state": {
            "_model_module": "@jupyter-widgets/base",
            "_model_module_version": "1.2.0",
            "_model_name": "LayoutModel",
            "_view_count": null,
            "_view_module": "@jupyter-widgets/base",
            "_view_module_version": "1.2.0",
            "_view_name": "LayoutView",
            "align_content": null,
            "align_items": null,
            "align_self": null,
            "border": null,
            "bottom": null,
            "display": null,
            "flex": null,
            "flex_flow": null,
            "grid_area": null,
            "grid_auto_columns": null,
            "grid_auto_flow": null,
            "grid_auto_rows": null,
            "grid_column": null,
            "grid_gap": null,
            "grid_row": null,
            "grid_template_areas": null,
            "grid_template_columns": null,
            "grid_template_rows": null,
            "height": null,
            "justify_content": null,
            "justify_items": null,
            "left": null,
            "margin": null,
            "max_height": null,
            "max_width": null,
            "min_height": null,
            "min_width": null,
            "object_fit": null,
            "object_position": null,
            "order": null,
            "overflow": null,
            "overflow_x": null,
            "overflow_y": null,
            "padding": null,
            "right": null,
            "top": null,
            "visibility": null,
            "width": null
          }
        },
        "552003b72518452aa593585170855b98": {
          "model_module": "@jupyter-widgets/base",
          "model_name": "LayoutModel",
          "model_module_version": "1.2.0",
          "state": {
            "_model_module": "@jupyter-widgets/base",
            "_model_module_version": "1.2.0",
            "_model_name": "LayoutModel",
            "_view_count": null,
            "_view_module": "@jupyter-widgets/base",
            "_view_module_version": "1.2.0",
            "_view_name": "LayoutView",
            "align_content": null,
            "align_items": null,
            "align_self": null,
            "border": null,
            "bottom": null,
            "display": null,
            "flex": null,
            "flex_flow": null,
            "grid_area": null,
            "grid_auto_columns": null,
            "grid_auto_flow": null,
            "grid_auto_rows": null,
            "grid_column": null,
            "grid_gap": null,
            "grid_row": null,
            "grid_template_areas": null,
            "grid_template_columns": null,
            "grid_template_rows": null,
            "height": null,
            "justify_content": null,
            "justify_items": null,
            "left": null,
            "margin": null,
            "max_height": null,
            "max_width": null,
            "min_height": null,
            "min_width": null,
            "object_fit": null,
            "object_position": null,
            "order": null,
            "overflow": null,
            "overflow_x": null,
            "overflow_y": null,
            "padding": null,
            "right": null,
            "top": null,
            "visibility": null,
            "width": null
          }
        },
        "59386e0ef29241a39120bd4a3b26da0e": {
          "model_module": "@jupyter-widgets/controls",
          "model_name": "DescriptionStyleModel",
          "model_module_version": "1.5.0",
          "state": {
            "_model_module": "@jupyter-widgets/controls",
            "_model_module_version": "1.5.0",
            "_model_name": "DescriptionStyleModel",
            "_view_count": null,
            "_view_module": "@jupyter-widgets/base",
            "_view_module_version": "1.2.0",
            "_view_name": "StyleView",
            "description_width": ""
          }
        },
        "eb688e8244c7487a832743478e09cab6": {
          "model_module": "@jupyter-widgets/base",
          "model_name": "LayoutModel",
          "model_module_version": "1.2.0",
          "state": {
            "_model_module": "@jupyter-widgets/base",
            "_model_module_version": "1.2.0",
            "_model_name": "LayoutModel",
            "_view_count": null,
            "_view_module": "@jupyter-widgets/base",
            "_view_module_version": "1.2.0",
            "_view_name": "LayoutView",
            "align_content": null,
            "align_items": null,
            "align_self": null,
            "border": null,
            "bottom": null,
            "display": null,
            "flex": null,
            "flex_flow": null,
            "grid_area": null,
            "grid_auto_columns": null,
            "grid_auto_flow": null,
            "grid_auto_rows": null,
            "grid_column": null,
            "grid_gap": null,
            "grid_row": null,
            "grid_template_areas": null,
            "grid_template_columns": null,
            "grid_template_rows": null,
            "height": null,
            "justify_content": null,
            "justify_items": null,
            "left": null,
            "margin": null,
            "max_height": null,
            "max_width": null,
            "min_height": null,
            "min_width": null,
            "object_fit": null,
            "object_position": null,
            "order": null,
            "overflow": null,
            "overflow_x": null,
            "overflow_y": null,
            "padding": null,
            "right": null,
            "top": null,
            "visibility": null,
            "width": null
          }
        },
        "c00e0631cf1742c981d1aaf19a8323af": {
          "model_module": "@jupyter-widgets/controls",
          "model_name": "ProgressStyleModel",
          "model_module_version": "1.5.0",
          "state": {
            "_model_module": "@jupyter-widgets/controls",
            "_model_module_version": "1.5.0",
            "_model_name": "ProgressStyleModel",
            "_view_count": null,
            "_view_module": "@jupyter-widgets/base",
            "_view_module_version": "1.2.0",
            "_view_name": "StyleView",
            "bar_color": null,
            "description_width": ""
          }
        },
        "447015b841844a3a95a6642394918797": {
          "model_module": "@jupyter-widgets/base",
          "model_name": "LayoutModel",
          "model_module_version": "1.2.0",
          "state": {
            "_model_module": "@jupyter-widgets/base",
            "_model_module_version": "1.2.0",
            "_model_name": "LayoutModel",
            "_view_count": null,
            "_view_module": "@jupyter-widgets/base",
            "_view_module_version": "1.2.0",
            "_view_name": "LayoutView",
            "align_content": null,
            "align_items": null,
            "align_self": null,
            "border": null,
            "bottom": null,
            "display": null,
            "flex": null,
            "flex_flow": null,
            "grid_area": null,
            "grid_auto_columns": null,
            "grid_auto_flow": null,
            "grid_auto_rows": null,
            "grid_column": null,
            "grid_gap": null,
            "grid_row": null,
            "grid_template_areas": null,
            "grid_template_columns": null,
            "grid_template_rows": null,
            "height": null,
            "justify_content": null,
            "justify_items": null,
            "left": null,
            "margin": null,
            "max_height": null,
            "max_width": null,
            "min_height": null,
            "min_width": null,
            "object_fit": null,
            "object_position": null,
            "order": null,
            "overflow": null,
            "overflow_x": null,
            "overflow_y": null,
            "padding": null,
            "right": null,
            "top": null,
            "visibility": null,
            "width": null
          }
        },
        "68682a2f7a4f44f0b4b5d386f042d775": {
          "model_module": "@jupyter-widgets/controls",
          "model_name": "DescriptionStyleModel",
          "model_module_version": "1.5.0",
          "state": {
            "_model_module": "@jupyter-widgets/controls",
            "_model_module_version": "1.5.0",
            "_model_name": "DescriptionStyleModel",
            "_view_count": null,
            "_view_module": "@jupyter-widgets/base",
            "_view_module_version": "1.2.0",
            "_view_name": "StyleView",
            "description_width": ""
          }
        }
      }
    }
  },
  "cells": [
    {
      "cell_type": "code",
      "execution_count": null,
      "metadata": {
        "colab": {
          "base_uri": "https://localhost:8080/"
        },
        "id": "8LFlB5uLZXG7",
        "outputId": "526e4bb2-ff7f-43e5-df20-4fafe3dab406"
      },
      "outputs": [
        {
          "output_type": "stream",
          "name": "stdout",
          "text": [
            "  Installing build dependencies ... \u001b[?25l\u001b[?25hdone\n",
            "  Getting requirements to build wheel ... \u001b[?25l\u001b[?25hdone\n",
            "  Preparing metadata (pyproject.toml) ... \u001b[?25l\u001b[?25hdone\n",
            "  Building wheel for openai-whisper (pyproject.toml) ... \u001b[?25l\u001b[?25hdone\n",
            "  Preparing metadata (setup.py) ... \u001b[?25l\u001b[?25hdone\n",
            "\u001b[2K   \u001b[90m━━━━━━━━━━━━━━━━━━━━━━━━━━━━━━━━━━━━━━━━\u001b[0m \u001b[32m7.2/7.2 MB\u001b[0m \u001b[31m59.7 MB/s\u001b[0m eta \u001b[36m0:00:00\u001b[0m\n",
            "\u001b[2K   \u001b[90m━━━━━━━━━━━━━━━━━━━━━━━━━━━━━━━━━━━━━━━━\u001b[0m \u001b[32m3.2/3.2 MB\u001b[0m \u001b[31m96.8 MB/s\u001b[0m eta \u001b[36m0:00:00\u001b[0m\n",
            "\u001b[?25h  Building wheel for srt (setup.py) ... \u001b[?25l\u001b[?25hdone\n",
            "\u001b[2K   \u001b[90m━━━━━━━━━━━━━━━━━━━━━━━━━━━━━━━━━━━━━━━━\u001b[0m \u001b[32m98.2/98.2 kB\u001b[0m \u001b[31m7.4 MB/s\u001b[0m eta \u001b[36m0:00:00\u001b[0m\n",
            "\u001b[?25h"
          ]
        }
      ],
      "source": [
        "!pip install -q git+https://github.com/openai/whisper.git\n",
        "!pip install -q transformers datasets jiwer soundfile torchaudio pydub vosk==0.3.45\n",
        "!pip install -q gTTS\n"
      ]
    },
    {
      "cell_type": "code",
      "metadata": {
        "colab": {
          "base_uri": "https://localhost:8080/"
        },
        "id": "ff1fcf05",
        "outputId": "34805e5a-5d4e-4da5-ff9f-581250388ca4"
      },
      "source": [
        "# Install the GitHub CLI\n",
        "!sudo apt-key adv --keyserver hkps://keyserver.ubuntu.com --recv-key C99B11F0CD218288D4989EBF118AE8FEEB5588F1\n",
        "!sudo apt-add-repository https://apt.releases.hashicorp.com $(lsb_release -cs)\n",
        "!sudo apt update\n",
        "!sudo apt install gh -y"
      ],
      "execution_count": null,
      "outputs": [
        {
          "output_type": "stream",
          "name": "stdout",
          "text": [
            "Warning: apt-key is deprecated. Manage keyring files in trusted.gpg.d instead (see apt-key(8)).\n",
            "Executing: /tmp/apt-key-gpghome.5otDzPdiFy/gpg.1.sh --keyserver hkps://keyserver.ubuntu.com --recv-key C99B11F0CD218288D4989EBF118AE8FEEB5588F1\n",
            "gpg: keyserver receive failed: No data\n",
            "Repository: 'deb https://apt.releases.hashicorp.com jammy jammy'\n",
            "Description:\n",
            "Archive for codename: jammy components: jammy\n",
            "More info: https://apt.releases.hashicorp.com\n",
            "Adding repository.\n",
            "Press [ENTER] to continue or Ctrl-c to cancel.\n",
            "Adding deb entry to /etc/apt/sources.list.d/archive_uri-https_apt_releases_hashicorp_com-jammy.list\n",
            "Adding disabled deb-src entry to /etc/apt/sources.list.d/archive_uri-https_apt_releases_hashicorp_com-jammy.list\n",
            "Get:1 https://apt.releases.hashicorp.com jammy InRelease [12.9 kB]\n",
            "Hit:2 https://cloud.r-project.org/bin/linux/ubuntu jammy-cran40/ InRelease\n",
            "Hit:3 https://developer.download.nvidia.com/compute/cuda/repos/ubuntu2204/x86_64  InRelease\n",
            "Hit:4 http://archive.ubuntu.com/ubuntu jammy InRelease\n",
            "Err:1 https://apt.releases.hashicorp.com jammy InRelease\n",
            "  The following signatures couldn't be verified because the public key is not available: NO_PUBKEY AA16FCBCA621E701\n",
            "Ign:5 https://cli.github.com/packages jammy InRelease\n",
            "Hit:6 http://archive.ubuntu.com/ubuntu jammy-updates InRelease\n",
            "Hit:7 https://cli.github.com/packages stable InRelease\n",
            "Hit:8 http://archive.ubuntu.com/ubuntu jammy-backports InRelease\n",
            "Hit:9 https://r2u.stat.illinois.edu/ubuntu jammy InRelease\n",
            "Err:10 https://cli.github.com/packages jammy Release\n",
            "  404  Not Found [IP: 185.199.108.153 443]\n",
            "Hit:11 https://ppa.launchpadcontent.net/deadsnakes/ppa/ubuntu jammy InRelease\n",
            "Hit:12 http://security.ubuntu.com/ubuntu jammy-security InRelease\n",
            "Hit:13 https://ppa.launchpadcontent.net/graphics-drivers/ppa/ubuntu jammy InRelease\n",
            "Hit:14 https://ppa.launchpadcontent.net/ubuntugis/ppa/ubuntu jammy InRelease\n",
            "Reading package lists... Done\n",
            "W: GPG error: https://apt.releases.hashicorp.com jammy InRelease: The following signatures couldn't be verified because the public key is not available: NO_PUBKEY AA16FCBCA621E701\n",
            "E: The repository 'https://apt.releases.hashicorp.com jammy InRelease' is not signed.\n",
            "N: Updating from such a repository can't be done securely, and is therefore disabled by default.\n",
            "N: See apt-secure(8) manpage for repository creation and user configuration details.\n",
            "E: The repository 'https://cli.github.com/packages jammy Release' does not have a Release file.\n",
            "N: Updating from such a repository can't be done securely, and is therefore disabled by default.\n",
            "N: See apt-secure(8) manpage for repository creation and user configuration details.\n",
            "W: Skipping acquire of configured file 'main/source/Sources' as repository 'https://r2u.stat.illinois.edu/ubuntu jammy InRelease' does not seem to provide it (sources.list entry misspelt?)\n",
            "Get:1 https://apt.releases.hashicorp.com jammy InRelease [12.9 kB]\n",
            "Hit:2 https://cloud.r-project.org/bin/linux/ubuntu jammy-cran40/ InRelease\n",
            "Hit:3 https://developer.download.nvidia.com/compute/cuda/repos/ubuntu2204/x86_64  InRelease\n",
            "Ign:4 https://cli.github.com/packages jammy InRelease\n",
            "Err:1 https://apt.releases.hashicorp.com jammy InRelease\n",
            "  The following signatures couldn't be verified because the public key is not available: NO_PUBKEY AA16FCBCA621E701\n",
            "Hit:5 https://cli.github.com/packages stable InRelease\n",
            "Err:6 https://cli.github.com/packages jammy Release\n",
            "  404  Not Found [IP: 185.199.110.153 443]\n",
            "Hit:7 http://security.ubuntu.com/ubuntu jammy-security InRelease\n",
            "Hit:8 http://archive.ubuntu.com/ubuntu jammy InRelease\n",
            "Hit:9 https://r2u.stat.illinois.edu/ubuntu jammy InRelease\n",
            "Hit:10 http://archive.ubuntu.com/ubuntu jammy-updates InRelease\n",
            "Hit:11 http://archive.ubuntu.com/ubuntu jammy-backports InRelease\n",
            "Hit:12 https://ppa.launchpadcontent.net/deadsnakes/ppa/ubuntu jammy InRelease\n",
            "Hit:13 https://ppa.launchpadcontent.net/graphics-drivers/ppa/ubuntu jammy InRelease\n",
            "Hit:14 https://ppa.launchpadcontent.net/ubuntugis/ppa/ubuntu jammy InRelease\n",
            "Reading package lists... Done\n",
            "\u001b[1;33mW: \u001b[0mGPG error: https://apt.releases.hashicorp.com jammy InRelease: The following signatures couldn't be verified because the public key is not available: NO_PUBKEY AA16FCBCA621E701\u001b[0m\n",
            "\u001b[1;31mE: \u001b[0mThe repository 'https://apt.releases.hashicorp.com jammy InRelease' is not signed.\u001b[0m\n",
            "\u001b[33mN: \u001b[0mUpdating from such a repository can't be done securely, and is therefore disabled by default.\u001b[0m\n",
            "\u001b[33mN: \u001b[0mSee apt-secure(8) manpage for repository creation and user configuration details.\u001b[0m\n",
            "\u001b[1;31mE: \u001b[0mThe repository 'https://cli.github.com/packages jammy Release' does not have a Release file.\u001b[0m\n",
            "\u001b[33mN: \u001b[0mUpdating from such a repository can't be done securely, and is therefore disabled by default.\u001b[0m\n",
            "\u001b[33mN: \u001b[0mSee apt-secure(8) manpage for repository creation and user configuration details.\u001b[0m\n",
            "\u001b[1;33mW: \u001b[0mSkipping acquire of configured file 'main/source/Sources' as repository 'https://r2u.stat.illinois.edu/ubuntu jammy InRelease' does not seem to provide it (sources.list entry misspelt?)\u001b[0m\n",
            "Reading package lists... Done\n",
            "Building dependency tree... Done\n",
            "Reading state information... Done\n",
            "gh is already the newest version (2.80.0).\n",
            "0 upgraded, 0 newly installed, 0 to remove and 51 not upgraded.\n"
          ]
        }
      ]
    },
    {
      "cell_type": "code",
      "source": [
        "import os\n",
        "from gtts import gTTS\n",
        "from pydub import AudioSegment\n",
        "\n",
        "os.makedirs(\"dataset/wavs\", exist_ok=True)\n",
        "os.makedirs(\"dataset/txt\", exist_ok=True)\n",
        "\n",
        "texts = [\n",
        " \"Good morning team. Let's start the meeting and review last week's tasks.\",\n",
        " \"We need to increase the testing coverage by twenty percent before release.\",\n",
        " \"Deadline for the proposal is next Friday; assign owners and milestones.\",\n",
        " \"Please share the document after the meeting and update the tracker.\",\n",
        " \"Any blockers should be posted to the board and flagged for review.\"\n",
        "]\n",
        "\n",
        "for i, t in enumerate(texts, start=1):\n",
        "    mp3_path = f\"dataset/wavs/sample_{i}.mp3\"\n",
        "    wav_path = f\"dataset/wavs/sample_{i}.wav\"\n",
        "    # create mp3 using gTTS\n",
        "    gTTS(text=t, lang=\"en\").save(mp3_path)\n",
        "    # convert to 16kHz mono wav\n",
        "    audio = AudioSegment.from_file(mp3_path)\n",
        "    audio = audio.set_frame_rate(16000).set_channels(1)\n",
        "    audio.export(wav_path, format=\"wav\")\n",
        "    # save ground truth\n",
        "    with open(f\"dataset/txt/sample_{i}.txt\",\"w\",encoding=\"utf-8\") as f:\n",
        "        f.write(t.lower())\n",
        "print(\"✅ Synthetic dataset ready: 5 wavs + transcripts\")\n"
      ],
      "metadata": {
        "colab": {
          "base_uri": "https://localhost:8080/"
        },
        "id": "8Y1jrMxyaXn0",
        "outputId": "5067ab5e-afd9-4bef-e342-55d3244cdf3f"
      },
      "execution_count": null,
      "outputs": [
        {
          "output_type": "stream",
          "name": "stdout",
          "text": [
            "✅ Synthetic dataset ready: 5 wavs + transcripts\n"
          ]
        }
      ]
    },
    {
      "cell_type": "code",
      "source": [
        "import json, glob, wave\n",
        "from vosk import Model, KaldiRecognizer\n",
        "\n",
        "# Download Vosk model\n",
        "model_dir = \"vosk-model-small-en-us-0.15\"\n",
        "if not os.path.exists(model_dir):\n",
        "    !wget -q https://alphacephei.com/vosk/models/vosk-model-small-en-us-0.15.zip -O /tmp/vosk.zip\n",
        "    !unzip -q /tmp/vosk.zip -d .\n",
        "    print(\"✅ Vosk model downloaded\")\n",
        "\n",
        "model = Model(model_dir)\n",
        "\n",
        "def transcribe_vosk(path):\n",
        "    wf = wave.open(path, \"rb\")\n",
        "    rec = KaldiRecognizer(model, wf.getframerate())\n",
        "    transcript = \"\"\n",
        "    while True:\n",
        "        data = wf.readframes(4000)\n",
        "        if len(data) == 0:\n",
        "            break\n",
        "        if rec.AcceptWaveform(data):\n",
        "            j = json.loads(rec.Result())\n",
        "            transcript += \" \" + j.get(\"text\",\"\")\n",
        "    j = json.loads(rec.FinalResult())\n",
        "    transcript += \" \" + j.get(\"text\",\"\")\n",
        "    return transcript.strip().lower()\n",
        "\n",
        "vosk_results = {}\n",
        "for wav in sorted(glob.glob(\"dataset/wavs/*.wav\")):\n",
        "    vosk_results[wav] = transcribe_vosk(wav)\n",
        "    print(wav, \"->\", vosk_results[wav])\n"
      ],
      "metadata": {
        "colab": {
          "base_uri": "https://localhost:8080/"
        },
        "id": "S8idRNNibnAV",
        "outputId": "fe58e40b-b75e-4107-a000-52223fb877d3"
      },
      "execution_count": null,
      "outputs": [
        {
          "output_type": "stream",
          "name": "stdout",
          "text": [
            "✅ Vosk model downloaded\n",
            "dataset/wavs/sample_1.wav -> good morning team let's start the meeting and review last week's tasks\n",
            "dataset/wavs/sample_2.wav -> we need to increase the testing coverage by twenty percent before release\n",
            "dataset/wavs/sample_3.wav -> deadline for the proposal is next friday a sign owners and milestones\n",
            "dataset/wavs/sample_4.wav -> please share the document after the meeting and update the tracker\n",
            "dataset/wavs/sample_5.wav -> any blockers should be posted to the board and flagged for review\n"
          ]
        }
      ]
    },
    {
      "cell_type": "code",
      "source": [
        "import whisper, glob\n",
        "model = whisper.load_model(\"small\")  # try \"base\" or \"small\" (avoid large on Colab CPU)\n",
        "\n",
        "whisper_results = {}\n",
        "for wav in sorted(glob.glob(\"dataset/wavs/*.wav\")):\n",
        "    r = model.transcribe(wav, fp16=False)\n",
        "    whisper_results[wav] = r[\"text\"].strip().lower()\n",
        "    print(wav, \"->\", whisper_results[wav])\n"
      ],
      "metadata": {
        "colab": {
          "base_uri": "https://localhost:8080/"
        },
        "id": "3I-91uVobnog",
        "outputId": "4aecc05e-d4eb-44b6-f567-ccfb7398eadb"
      },
      "execution_count": null,
      "outputs": [
        {
          "output_type": "stream",
          "name": "stderr",
          "text": [
            "100%|███████████████████████████████████████| 461M/461M [00:08<00:00, 56.5MiB/s]\n"
          ]
        },
        {
          "output_type": "stream",
          "name": "stdout",
          "text": [
            "dataset/wavs/sample_1.wav -> good morning team, let's start the meeting and review last week's tasks\n",
            "dataset/wavs/sample_2.wav -> we need to increase the testing coverage by 20% before release.\n",
            "dataset/wavs/sample_3.wav -> deadline for the proposal is next friday. assign owners and milestones.\n",
            "dataset/wavs/sample_4.wav -> please share the document after the meeting and update the tracker.\n",
            "dataset/wavs/sample_5.wav -> any blockers should be posted to the board and flagged for review.\n"
          ]
        }
      ]
    },
    {
      "cell_type": "code",
      "source": [
        "from transformers import pipeline\n",
        "\n",
        "asr = pipeline(\"automatic-speech-recognition\", model=\"facebook/wav2vec2-base-960h\", chunk_length_s=10)\n",
        "\n",
        "hf_results = {}\n",
        "for wav in sorted(glob.glob(\"dataset/wavs/*.wav\")):\n",
        "    out = asr(wav)\n",
        "    hf_results[wav] = out[\"text\"].strip().lower()\n",
        "    print(wav, \"->\", hf_results[wav])\n"
      ],
      "metadata": {
        "colab": {
          "base_uri": "https://localhost:8080/",
          "height": 188,
          "referenced_widgets": [
            "da691ac6c78b43ee9e92a85e998eba40",
            "2b1f5a86275a44939ac4a2d02c2fdf52",
            "f5f6bee87996406f93cfc608dba22a3d",
            "4725918bb15040dd86932757ccf7a1c0",
            "b5ae9c83f91e454ba7c599fae92ff76e",
            "552003b72518452aa593585170855b98",
            "59386e0ef29241a39120bd4a3b26da0e",
            "eb688e8244c7487a832743478e09cab6",
            "c00e0631cf1742c981d1aaf19a8323af",
            "447015b841844a3a95a6642394918797",
            "68682a2f7a4f44f0b4b5d386f042d775"
          ]
        },
        "id": "3_KcfhxRbtnO",
        "outputId": "5cfda8d6-331e-4d40-b808-f06eeac6b05e"
      },
      "execution_count": null,
      "outputs": [
        {
          "output_type": "stream",
          "name": "stderr",
          "text": [
            "Some weights of Wav2Vec2ForCTC were not initialized from the model checkpoint at facebook/wav2vec2-base-960h and are newly initialized: ['wav2vec2.masked_spec_embed']\n",
            "You should probably TRAIN this model on a down-stream task to be able to use it for predictions and inference.\n"
          ]
        },
        {
          "output_type": "display_data",
          "data": {
            "text/plain": [
              "Fetching 1 files:   0%|          | 0/1 [00:00<?, ?it/s]"
            ],
            "application/vnd.jupyter.widget-view+json": {
              "version_major": 2,
              "version_minor": 0,
              "model_id": "da691ac6c78b43ee9e92a85e998eba40"
            }
          },
          "metadata": {}
        },
        {
          "output_type": "stream",
          "name": "stderr",
          "text": [
            "Device set to use cpu\n"
          ]
        },
        {
          "output_type": "stream",
          "name": "stdout",
          "text": [
            "dataset/wavs/sample_1.wav -> good morning team let's start the meeting in review last week's tasks\n",
            "dataset/wavs/sample_2.wav -> we need to increase the testing coverage by twenty per cent before release\n",
            "dataset/wavs/sample_3.wav -> dead line for the proposal is next friday assign owners and milestones\n",
            "dataset/wavs/sample_4.wav -> please share the document after the meeting and update the tracker\n",
            "dataset/wavs/sample_5.wav -> any blockers should be posted to the board and flagged for review\n"
          ]
        }
      ]
    },
    {
      "cell_type": "code",
      "source": [
        "from jiwer import wer\n",
        "\n",
        "def load_gt(path):\n",
        "    base = os.path.splitext(os.path.basename(path))[0]\n",
        "    with open(f\"dataset/txt/{base}.txt\",\"r\",encoding=\"utf-8\") as f:\n",
        "        return f.read().strip()\n",
        "\n",
        "models = {\"vosk\": vosk_results, \"whisper\": whisper_results, \"wav2vec2\": hf_results}\n",
        "report = {}\n",
        "\n",
        "for name, res in models.items():\n",
        "    scores = []\n",
        "    for wav, hyp in res.items():\n",
        "        ref = load_gt(wav)\n",
        "        scores.append(wer(ref, hyp))\n",
        "    avg = sum(scores)/len(scores)\n",
        "    report[name] = round(avg,4)\n",
        "\n",
        "print(\"📊 WER Report (lower = better):\")\n",
        "for k,v in report.items():\n",
        "    print(f\"  {k}: {v*100:.2f}%\")\n"
      ],
      "metadata": {
        "colab": {
          "base_uri": "https://localhost:8080/"
        },
        "id": "_Lri0bQQbxXE",
        "outputId": "3dd8f97c-3219-4919-c8f5-0987bb77aa90"
      },
      "execution_count": null,
      "outputs": [
        {
          "output_type": "stream",
          "name": "stdout",
          "text": [
            "📊 WER Report (lower = better):\n",
            "  vosk: 15.76%\n",
            "  whisper: 8.48%\n",
            "  wav2vec2: 20.76%\n"
          ]
        }
      ]
    },
    {
      "cell_type": "code",
      "source": [
        "import csv\n",
        "\n",
        "with open(\"stt_benchmark_results.csv\",\"w\",newline=\"\",encoding=\"utf-8\") as csvfile:\n",
        "    w = csv.writer(csvfile)\n",
        "    w.writerow([\"wav\",\"ground_truth\",\"vosk\",\"whisper\",\"wav2vec2\"])\n",
        "    for wav in sorted(glob.glob(\"dataset/wavs/*.wav\")):\n",
        "        ref = load_gt(wav)\n",
        "        w.writerow([wav, ref, vosk_results[wav], whisper_results[wav], hf_results[wav]])\n",
        "\n",
        "print(\"✅ Results saved to stt_benchmark_results.csv\")\n"
      ],
      "metadata": {
        "colab": {
          "base_uri": "https://localhost:8080/"
        },
        "id": "YelM7SXgbzh6",
        "outputId": "5947ac21-8d5c-4ef4-8d02-821b9ff655ce"
      },
      "execution_count": null,
      "outputs": [
        {
          "output_type": "stream",
          "name": "stdout",
          "text": [
            "✅ Results saved to stt_benchmark_results.csv\n"
          ]
        }
      ]
    },
    {
      "cell_type": "code",
      "source": [],
      "metadata": {
        "id": "TerpvCul2zrL"
      },
      "execution_count": null,
      "outputs": []
    }
  ]
}