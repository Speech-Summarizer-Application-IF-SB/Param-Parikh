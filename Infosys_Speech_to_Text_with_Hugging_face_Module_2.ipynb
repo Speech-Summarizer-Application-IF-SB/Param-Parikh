{
  "cells": [
    {
      "metadata": {
        "id": "qVGKREXZwT2Q"
      },
      "cell_type": "markdown",
      "source": [
        "In this notebook we are going to see how to convert speech into text using Facebook Wav2Vec 2.0 model.Wav2Vec2 is a speech model that accepts a float array corresponding to the raw waveform of the speech signal. Wav2Vec2 model was trained using connectionist temporal classification (CTC) so the model output has to be decoded using Wav2Vec2Tokenizer.For learning more about it click on this [link](https://huggingface.co/transformers/model_doc/wav2vec2.html)"
      ]
    },
    {
      "metadata": {
        "trusted": true,
        "colab": {
          "base_uri": "https://localhost:8080/"
        },
        "id": "_EUqFttLwT2T",
        "outputId": "3a3f2993-bf11-40cb-b2fe-73a1ecf3f995"
      },
      "cell_type": "code",
      "source": [
        "!pip install --upgrade transformers"
      ],
      "execution_count": null,
      "outputs": [
        {
          "output_type": "stream",
          "name": "stdout",
          "text": [
            "Requirement already satisfied: transformers in /usr/local/lib/python3.12/dist-packages (4.56.2)\n",
            "Collecting transformers\n",
            "  Downloading transformers-4.57.0-py3-none-any.whl.metadata (41 kB)\n",
            "\u001b[2K     \u001b[90m━━━━━━━━━━━━━━━━━━━━━━━━━━━━━━━━━━━━━━━━\u001b[0m \u001b[32m41.4/41.4 kB\u001b[0m \u001b[31m2.6 MB/s\u001b[0m eta \u001b[36m0:00:00\u001b[0m\n",
            "\u001b[?25hRequirement already satisfied: filelock in /usr/local/lib/python3.12/dist-packages (from transformers) (3.19.1)\n",
            "Requirement already satisfied: huggingface-hub<1.0,>=0.34.0 in /usr/local/lib/python3.12/dist-packages (from transformers) (0.35.3)\n",
            "Requirement already satisfied: numpy>=1.17 in /usr/local/lib/python3.12/dist-packages (from transformers) (2.0.2)\n",
            "Requirement already satisfied: packaging>=20.0 in /usr/local/lib/python3.12/dist-packages (from transformers) (25.0)\n",
            "Requirement already satisfied: pyyaml>=5.1 in /usr/local/lib/python3.12/dist-packages (from transformers) (6.0.3)\n",
            "Requirement already satisfied: regex!=2019.12.17 in /usr/local/lib/python3.12/dist-packages (from transformers) (2024.11.6)\n",
            "Requirement already satisfied: requests in /usr/local/lib/python3.12/dist-packages (from transformers) (2.32.4)\n",
            "Requirement already satisfied: tokenizers<=0.23.0,>=0.22.0 in /usr/local/lib/python3.12/dist-packages (from transformers) (0.22.1)\n",
            "Requirement already satisfied: safetensors>=0.4.3 in /usr/local/lib/python3.12/dist-packages (from transformers) (0.6.2)\n",
            "Requirement already satisfied: tqdm>=4.27 in /usr/local/lib/python3.12/dist-packages (from transformers) (4.67.1)\n",
            "Requirement already satisfied: fsspec>=2023.5.0 in /usr/local/lib/python3.12/dist-packages (from huggingface-hub<1.0,>=0.34.0->transformers) (2025.3.0)\n",
            "Requirement already satisfied: typing-extensions>=3.7.4.3 in /usr/local/lib/python3.12/dist-packages (from huggingface-hub<1.0,>=0.34.0->transformers) (4.15.0)\n",
            "Requirement already satisfied: hf-xet<2.0.0,>=1.1.3 in /usr/local/lib/python3.12/dist-packages (from huggingface-hub<1.0,>=0.34.0->transformers) (1.1.10)\n",
            "Requirement already satisfied: charset_normalizer<4,>=2 in /usr/local/lib/python3.12/dist-packages (from requests->transformers) (3.4.3)\n",
            "Requirement already satisfied: idna<4,>=2.5 in /usr/local/lib/python3.12/dist-packages (from requests->transformers) (3.10)\n",
            "Requirement already satisfied: urllib3<3,>=1.21.1 in /usr/local/lib/python3.12/dist-packages (from requests->transformers) (2.5.0)\n",
            "Requirement already satisfied: certifi>=2017.4.17 in /usr/local/lib/python3.12/dist-packages (from requests->transformers) (2025.8.3)\n",
            "Downloading transformers-4.57.0-py3-none-any.whl (12.0 MB)\n",
            "\u001b[2K   \u001b[90m━━━━━━━━━━━━━━━━━━━━━━━━━━━━━━━━━━━━━━━━\u001b[0m \u001b[32m12.0/12.0 MB\u001b[0m \u001b[31m132.4 MB/s\u001b[0m eta \u001b[36m0:00:00\u001b[0m\n",
            "\u001b[?25hInstalling collected packages: transformers\n",
            "  Attempting uninstall: transformers\n",
            "    Found existing installation: transformers 4.56.2\n",
            "    Uninstalling transformers-4.56.2:\n",
            "      Successfully uninstalled transformers-4.56.2\n",
            "Successfully installed transformers-4.57.0\n"
          ]
        }
      ]
    },
    {
      "metadata": {
        "trusted": true,
        "colab": {
          "base_uri": "https://localhost:8080/"
        },
        "id": "4tZktCGnwT2U",
        "outputId": "14cfc521-86d7-4f17-bbf2-19c2406e7d4b"
      },
      "cell_type": "code",
      "source": [
        "import transformers\n",
        "print(transformers.__version__)"
      ],
      "execution_count": null,
      "outputs": [
        {
          "output_type": "stream",
          "name": "stdout",
          "text": [
            "4.57.0\n"
          ]
        }
      ]
    },
    {
      "metadata": {
        "id": "479F2kyUwT2U"
      },
      "cell_type": "markdown",
      "source": [
        "If you don't see at least 4.3.0 version,then upgrade it"
      ]
    },
    {
      "metadata": {
        "id": "E5FsYFr_wT2U"
      },
      "cell_type": "markdown",
      "source": [
        "### Import Libraries"
      ]
    },
    {
      "metadata": {
        "trusted": true,
        "id": "f6wAwPxowT2V"
      },
      "cell_type": "code",
      "source": [
        "import librosa\n",
        "import torch\n",
        "import IPython.display as display\n",
        "from transformers import Wav2Vec2ForCTC, Wav2Vec2Tokenizer\n",
        "import numpy as np"
      ],
      "execution_count": null,
      "outputs": []
    },
    {
      "metadata": {
        "id": "dhvgZlvWwT2V"
      },
      "cell_type": "markdown",
      "source": [
        "### Load pre-trained Wav2Vec model"
      ]
    },
    {
      "metadata": {
        "trusted": true,
        "colab": {
          "base_uri": "https://localhost:8080/",
          "height": 318,
          "referenced_widgets": [
            "5b2f7e08340e427ba5df26376d26616a",
            "55e9adb6417d47c78f365355242b9eab",
            "6219417496ba458d804d0ecd66796ba9",
            "a732a95c15cc4d58836ecabb22a78d50",
            "12c0dc7598964530b3ae6292f5635a86",
            "4e0ed397a38c430788f3a2f99a942d33",
            "8896dfc6c8e94e4e8faffb7f113e8e8d",
            "ec509aad45cf4c948d71b633174abf1b",
            "ddacab950cb849b29f9e6d79a3bd2e40",
            "3787367e990f476886e30b4a7902e7c5",
            "10e3190d4e8248d981a721e768baae52",
            "57b8defaac18497698d0dfef8a25cb24",
            "920812e291d74885b4c87dac89ffa6a0",
            "b2c884882016444f8f16ea191b953686",
            "1fe022444dcd408e80857444642e2d9b",
            "4a136e5e4f394f20883525021d5b15e1",
            "1a4c7774f08746009e7a618197b29866",
            "768345e92a9b4a0c9e663d3c6e0472f0",
            "f959cd5d96cc43338ed9cd69d95ce587",
            "e97734b616834d1fa1c59304fa78afd5",
            "d98d5053a0c24754ae7e59b3130ddace",
            "60b328f4bbd54af997c63ab71a447373",
            "4fe1663d33fc428297d458c0246d45cd",
            "6e0085c0eec7485fa3fab52bb86cfc25",
            "f82cb6cfba9f464999b6e916a6ee26a3",
            "6eaeaa9a7ae546699e51fd2465ae2ba4",
            "b86cffbda480468ca87661036585638e",
            "0edc4145381c4d6ab9677f861468300f",
            "6c3c2f695f214c84bef9cd91ef7937aa",
            "b2e5d448c54844918b9aa99b2ace0b94",
            "27a02905835c44a68aee4b16dbdc6096",
            "a7cf45a9490d418198017bac27f755eb",
            "af156c2efc02422cab1fa2db620f4fd1",
            "986a39d5d72b4f2db472b947468cb2d7",
            "b1d9313dde4d4f6a90e68432813e8689",
            "8d4929a297944bc8b32bf986cc6caa8c",
            "a687f7ea7bee4f0b8a6a3077f86ec7a0",
            "c5a99076d91f459c8228f351efa7f3f8",
            "6fd657a8ad144ba7ac10017ac48a74ed",
            "e8b3be4148f645a58c6156080a01415f",
            "ad93cdc66eca4c95bbf696262f3a2347",
            "0823df56effa4077b5c710ca61236537",
            "a4340013d1ca4600b21b50ab9a632b31",
            "3770752568fd4d7bbfade6a8c4404126",
            "61e4b82111354add864538b886588f2a",
            "f4eab0da795c41c8902a76d91506d1c9",
            "c1ec704ad24f4b6bb7b2421e50a3d0c2",
            "ad85fbe2a99344888518f83974044505",
            "a94d3dac146b4fe08c1fabf544827be8",
            "dc2af22758f84ef891186a2147e6d51a",
            "e97f067345f642839d2fdfd3e1c57353",
            "9a916fdea98044e0adc003421c2fd8d3",
            "a5bf03686a104ba58a9de7c1bf5165d7",
            "c7e53e6ea3a345bfaa449960b7f2dd2b",
            "125f2e69167a409babbf88d51078e38b"
          ]
        },
        "id": "rmg8jooIwT2V",
        "outputId": "53261cde-9936-4adf-c018-107595ee796a"
      },
      "cell_type": "code",
      "source": [
        "#load pre-trained model and tokenizer\n",
        "tokenizer = Wav2Vec2Tokenizer.from_pretrained(\"facebook/wav2vec2-base-960h\")\n",
        "model = Wav2Vec2ForCTC.from_pretrained(\"facebook/wav2vec2-base-960h\")"
      ],
      "execution_count": null,
      "outputs": [
        {
          "output_type": "display_data",
          "data": {
            "text/plain": [
              "tokenizer_config.json:   0%|          | 0.00/163 [00:00<?, ?B/s]"
            ],
            "application/vnd.jupyter.widget-view+json": {
              "version_major": 2,
              "version_minor": 0,
              "model_id": "5b2f7e08340e427ba5df26376d26616a"
            }
          },
          "metadata": {}
        },
        {
          "output_type": "display_data",
          "data": {
            "text/plain": [
              "vocab.json:   0%|          | 0.00/291 [00:00<?, ?B/s]"
            ],
            "application/vnd.jupyter.widget-view+json": {
              "version_major": 2,
              "version_minor": 0,
              "model_id": "57b8defaac18497698d0dfef8a25cb24"
            }
          },
          "metadata": {}
        },
        {
          "output_type": "display_data",
          "data": {
            "text/plain": [
              "special_tokens_map.json:   0%|          | 0.00/85.0 [00:00<?, ?B/s]"
            ],
            "application/vnd.jupyter.widget-view+json": {
              "version_major": 2,
              "version_minor": 0,
              "model_id": "4fe1663d33fc428297d458c0246d45cd"
            }
          },
          "metadata": {}
        },
        {
          "output_type": "display_data",
          "data": {
            "text/plain": [
              "config.json: 0.00B [00:00, ?B/s]"
            ],
            "application/vnd.jupyter.widget-view+json": {
              "version_major": 2,
              "version_minor": 0,
              "model_id": "986a39d5d72b4f2db472b947468cb2d7"
            }
          },
          "metadata": {}
        },
        {
          "output_type": "stream",
          "name": "stderr",
          "text": [
            "The tokenizer class you load from this checkpoint is not the same type as the class this function is called from. It may result in unexpected tokenization. \n",
            "The tokenizer class you load from this checkpoint is 'Wav2Vec2CTCTokenizer'. \n",
            "The class this function is called from is 'Wav2Vec2Tokenizer'.\n",
            "/usr/local/lib/python3.12/dist-packages/transformers/models/wav2vec2/tokenization_wav2vec2.py:720: FutureWarning: The class `Wav2Vec2Tokenizer` is deprecated and will be removed in version 5 of Transformers. Please use `Wav2Vec2Processor` or `Wav2Vec2CTCTokenizer` instead.\n",
            "  warnings.warn(\n"
          ]
        },
        {
          "output_type": "display_data",
          "data": {
            "text/plain": [
              "model.safetensors:   0%|          | 0.00/378M [00:00<?, ?B/s]"
            ],
            "application/vnd.jupyter.widget-view+json": {
              "version_major": 2,
              "version_minor": 0,
              "model_id": "61e4b82111354add864538b886588f2a"
            }
          },
          "metadata": {}
        },
        {
          "output_type": "stream",
          "name": "stderr",
          "text": [
            "Some weights of Wav2Vec2ForCTC were not initialized from the model checkpoint at facebook/wav2vec2-base-960h and are newly initialized: ['wav2vec2.masked_spec_embed']\n",
            "You should probably TRAIN this model on a down-stream task to be able to use it for predictions and inference.\n"
          ]
        }
      ]
    },
    {
      "metadata": {
        "id": "cS5MPQ1awT2V"
      },
      "cell_type": "markdown",
      "source": [
        "### Load Audio file"
      ]
    },
    {
      "metadata": {
        "trusted": true,
        "colab": {
          "base_uri": "https://localhost:8080/"
        },
        "id": "HgrbJdQewT2W",
        "outputId": "1ad337ea-2275-42be-9006-07ada0774189"
      },
      "cell_type": "code",
      "source": [
        "#load audio file\n",
        "# Replace '/content/audiofile.m4a' with the actual path if you uploaded it to a different location\n",
        "audio, sampling_rate = librosa.load('/content/audiofile.m4a', sr=16000)"
      ],
      "execution_count": null,
      "outputs": [
        {
          "output_type": "stream",
          "name": "stderr",
          "text": [
            "/tmp/ipython-input-669518037.py:3: UserWarning: PySoundFile failed. Trying audioread instead.\n",
            "  audio, sampling_rate = librosa.load('/content/audiofile.m4a', sr=16000)\n",
            "/usr/local/lib/python3.12/dist-packages/librosa/core/audio.py:184: FutureWarning: librosa.core.audio.__audioread_load\n",
            "\tDeprecated as of librosa version 0.10.0.\n",
            "\tIt will be removed in librosa version 1.0.\n",
            "  y, sr_native = __audioread_load(path, offset, duration, dtype)\n"
          ]
        }
      ]
    },
    {
      "metadata": {
        "trusted": true,
        "colab": {
          "base_uri": "https://localhost:8080/"
        },
        "id": "_Q7aI0dBwT2W",
        "outputId": "1014b9d3-c95f-4b2a-f36a-aed71a3abca6"
      },
      "cell_type": "code",
      "source": [
        "audio,sampling_rate"
      ],
      "execution_count": null,
      "outputs": [
        {
          "output_type": "execute_result",
          "data": {
            "text/plain": [
              "(array([-1.38280475e-05, -2.14298852e-05,  2.24593077e-06, ...,\n",
              "         5.63148569e-06, -5.96416794e-06,  0.00000000e+00], dtype=float32),\n",
              " 16000)"
            ]
          },
          "metadata": {},
          "execution_count": 17
        }
      ]
    },
    {
      "metadata": {
        "id": "_wCEKewtwT2W"
      },
      "cell_type": "markdown",
      "source": [
        "# Play the Audio"
      ]
    },
    {
      "metadata": {
        "trusted": true,
        "colab": {
          "base_uri": "https://localhost:8080/",
          "height": 76
        },
        "id": "7hwjXK1awT2W",
        "outputId": "0339400c-46e2-46b4-ddcb-ef394f9fd353"
      },
      "cell_type": "code",
      "source": [
        "# audio\n",
        "display.Audio(\"/content/audiofile.m4a\", autoplay=True)"
      ],
      "execution_count": null,
      "outputs": [
        {
          "output_type": "execute_result",
          "data": {
            "text/plain": [
              "<IPython.lib.display.Audio object>"
            ],
            "text/html": [
              "\n",
              "                <audio  controls=\"controls\" autoplay=\"autoplay\">\n",
              "                    <source src=\"data:audio/mp4;base64,AAAAHGZ0eXBNNEEgAAACAE00QSBpc29taXNvMgAAAAhmcmVlAACGGW1kYXTcAExhdmM2MS4zLjEwMAABxGpAUYyoMjXzU1k3w1N3rcuVz5yVeRsLqqvIFrnxiJUY8DqHwf9jozAMRnO/KDJXMDGyppbp4Ozsqy29OypiolOUCyhBi+7n9YS3qDvmdpPLRcazZxjAllTAGg2mIRQJKmDQHIIl7dsu4iIPDUwZwAiRx6Eu/LlWh2FoIpEx2HQx6hPBMYs8d+hMM2nOEdMB6TWe3GCxiuwA02w9PUjSGILAMxdSQW4VKjYivBLdSd5tP2/4jozUBH7w23/9gDhyKT8d/b5WfMB63MWrggoMNgCBjnMw+3+x9c0G3Xso2AAByv+N+J4h8QR6hp7ekAN3R3dGbvwA5DUb40Q/bzW/1/OtVMyZ5TfCoqSopKxKqIJdAkaGQChQsPMiwKZTElJEgKIQTG4X03XVzvS5XrjSCpA3VtkXbzuaTwn0JIacaa2ZKW0ydZZ1ke61KaVKbn35gWUNw7eqKZ+R8Hrufvl+e4uwTp2ZTKF9vZWb9d3w0BfjfXw7qpddPO/Dq6b0N9F93bjjHGSadeihsk5W7bGQTaEfbDbloJyqd4rFMLpvSOctkumxe0j68JkKc8TLCRZl5wnrW9QaJQdCo9/K/4Crsmmy3ILnvw8n5Bj8QNWaU8AK461TzmtOTvxfZ7/CDda7le/+o+noeFkzafDEW9dCkO6M4ADgNSgpRlIt+zUzhMb1zOKy7ol0y42qtZFVB0xWmbsqxBOxa94GXAAoQdg0GM8/1L1/OSzC0HIKRX3aoOazLDS6UUKLrlTQ8iVnGMD2SM8t1Euu1A70chyS/vcgNBkm7dxLmWTYmtDVz1XNIN81bBC0xZWdYSxBU9yqd581inhfKI5p0ycJXSUxe2ZkQWmiWGwM6XbrjYS3ELpnO2QQw+eV13KwKlowIQhD9ED4pXd3k21kcC9VE89zyXiJjjK15hYZSfuj+yrrkKM+NF09waEIoRXc8AEENSy1FiEIXLycZTmfVOdbdVvSs1ObrWNbuoxIFb6OZycQ2fcme/CcN0ljclpNNaIdQW0H8o73m2a27McVibVWbVaJb5PsHuuUeASwSltC3axzSVvKLO8W/ANUzGChRpRSwshWobpJsxOmSqiVy2X02dMlysuOL5EFCYaJcs7rysupr2yTDNV1S5LGl56+hf6V6zllpv4IE8LZc1/2zFo798CUEJvlRy6uNp6z5q/wdaQThK1FYQkpMtFKdITayi9jBsWJ77K8Rr0VflJOKTgA/DUoMW0UBYWueq1e9+v8ePjM1auKGn7JvXEvIyJQEZ7Z8XQyXNT5DRVQ8By7GkJi50+W3xYtNhqUZctO9G5ePrqgt9BumCO/NnFV1MisvSSKve1rDdMV5s0KVU2plcWAtETUy7Ts23qREXxTKxsuUguZeYJbJKyK5AGbAk11VqKcKJNvAQA1KHEmQoRY71J79aqvN9y1yl0WVe6qVKioobFcvia/tzzbzUQAFdIMKsZ5D3CxKzjiS8uO3VXiKV2m7VExY7DFdZCbfDocKbPv9PF2TWREguEYNce8wrGs4lG7l2oekZ/B4KnVJYiL30FB5FV5+vsq+/qYpnk0vTQ1tcVxIeNffI+RTXBjLXDQADdMLLLGNtCrfOJrOaITSbLVrvj59helO+uUNF7yinadodRemWBVl1daFR5oRnfnDwKy2bm8qldaVnX38pRll8GTrShG0IRljnTPfgD2NSl2GDMpCCchaF/HXEwTXHrzlSZxRKSVDIVSH0Mr90vSG1h0t2Wabjw7A5/LNMHcK8Z0ngrDInq4aNgUSuglmVGzq518qtLJTqaKGntG25K3lcsopt021WU4MZ3W0ljjoqmNUCiOAyy3XXUBlJK1BhXfF5ZTFWwqEI42OlxwgTNxxRTuIneL4B8H6vxgmPEMGOy8fbcdWXpjKCzEJq5kIBk19n3N9cvRT6SP9eS+hwktHN7vhlhix/kV0fOxaq30FrZlShP34JCqmbGruooZWuAA8DUpzJQwtf0vhEc+XPt3M6lSpSaxUoRl0wfc8i2ARsSNDAGWT9tVZaBZKvqgKWnfcFRKtre4l4UNjY+heZ/qe5rbLbSoY8jorUcZJqN/eMmPdxGyS/J52JKXyUc2tnFG558iLHV/xyYCe0DfRc693Pp+g/KO8RcYEydZXC2R6AwqwSHSq/ILdn84f6vvwcPqlzlk8mAtJOM6y3sM4yEHHFqt5571TFavLXFSmZC/UvVmKREJ4LTxCG5HRGRymjwA8jUpjOQYtfnOM1vW9/GapTi8XUtmWqVKgxBgPYNdUyT7eaApzcnmPCKeUxbkao0mFsjU3IERgv+r6rE/3RVIhjmtWyjp3786tLdfl1a+6uXdGqb8ltuLs+snLIpG7ja66Wope7PNmwsWRpZ8jwaTnExSvqGuodIf1JH7wDTS9spTCgyR9Pc+7Eauriyx2KeRZljrftLOYcNuDGhxxygk3pwlTbOqloT8V6aGD8FmSU/3LNdL+fgc9DvCiqugVkoX4IRuIy4A9DUoMSZWhQOiIOkIOjf16q+5mpxdJVyZEi98Y/LkqlRSCm/cedb9XCYb1IhRIhgQBMSZiVJU+nh+eM+S+DBYSLAm81C5SaT2IjDH5ap05+cFekyBzSJ6aNWmvf1VrC2zmfD2dBeKKvlJpOau3JiKe6fKAJqnszqPO/oLIMMikU8BYAW3LmtMVb082WnEKJ6LM1QoAFEQgSG3/Ts6OPEGqXpRCxZBsu7gAQA1KVY4VoWDokDrn6e2sZJn1zx3arFoBErUnEmJGQGX52EPyjdKXQctjMbpirqsDqLRRAefyD2G6odIdPmU59TzzHtrbwY/x51vVX+aDKnVDCPiuJc6xycheLTlDkzF2jcjGVJRclOLsKIm04G50UmM8jx8l7LQD/bgr1d9Lm6P/BRI+AEMNSqskWKqKLzXHjzlyJUvFqlQRV5KCBkNLf3yFnH+7VJGaLR0kLdyzL2vlppG7rfKnYaCRnQws+exMgtT2tedUkwxXX6MvqaCavUEZCpZlfHOSxhq/MtoFv/RTtsSR/Z9I36esa5eQShv0UatbyUDGeymSJ/Ezys6u6vLNULCwfLb1LwipPDRciudy1UhS8u+lii83c1MmiAIQEiQ6xfBm2Zu3uNkmv98LTS1Cdispq5Z2pmcKKaofsn649IxScoTwQrLBG/YjWCtSVIRvKdkqlKyWka+AP41LDEmQgta95fO9XKnDet8Yq4upMt+XxV1FSoF8/+7c3uVdCfMyy24DXaVPGwz7UMqr/XabPp1lfpuZEHPj6yt8rAnfQkt6SfPmzIyNJ8lq1LQi4vcsTbMacrmxayqmsposqSWaqTtn53ebt37aBnbfE99o6yoosRcBkrokuSoqXxStbrE5MPNkgFPoMxpnqKrtjuAAQQ1K3r3Pj8ePPOq1M4Vji6Wq6j7i+qlRBQS9183MNHH8SHw4cvbbm+WuqUmQ2NK367SWrLcZ6FXs1y5B3zqvRu/5LYCvHnKm708qbp1QGd1bWOcMNHyjOuidf3ilxlep2luaWRa9wu0ZhRR+qPYmXt2V6d0qelko+tWlWtNzmdUyiCU2usP7i939BQQj5KGBkRHGGKGWJh3mCTQx7ONr5Qis/gBADUrDEQYrfOib81edTla6XfNxeZKklJUoGJ6O0sD/OLzV3CWAcOrpamsj+n5m+KpmXYqQ37bOpDPG2NKKw1wnTQRunYm5I9vBzw9kLY2bL10JJjPl/FSvLc2KNQFvkUutMWMdIIrIwR0gA0SoO3xpp1pMC3BPlSZLnhvkeY7Qts67K/NStjRNt1yPrO6a36cz99R0B3kc08lw33JCdwX1cNlDJoXL+wODmcFKgx57jVESijE14+8rQUr88cCy2m2prN4kklmSZEsm7pSeEv3CjtPZQnS1Kp1U4AA/DUsNRZSDEmhEOhEOjesvMtV8ZdSJMsXUusjQ+KiKE2fTck0qqbKVb40lMx2DzEArMNNtttPaJs7dC0nJUPJjTWSw2EpwZpoVPzEi4xKWFw8LGYefy3P0ukXTwt8nNfXj+rowtuKTZVhpplLjfeOdPW7SC+XPG2zZfNw5xeBZ0pOXc4oSZrYFC3u2QIrtp7jkE7ONL7x8mVLdsxhq2PFTXzoqhzzzfGOWcrPPWmUpXhx1n+3KXjU+vWcGSck7BXrWlXPgAD+NSpslBax34vikb6q4nekkrVIq31xWtlqlDcviv7PlHpxaJUfCQNzVQt03wlUW3+Oc4LJP126k29z0YV1ZLBa6AxPMcwNSY4wgJhfPu18t7GfwVLFddVp56dX9Fj2ee39Wb30Ub59vGotE6v8M/7bRn6Cx8NG2l+dlP2ZJZMp1wi3jas18r9BzXffbRGeckThBThkjRRuURNWmb6BHSISJKX4DgEINSqQViCjSnNSr68a4qprepSM1dRmXIKeMKEVRnIyqlt1odYANjAbNQzXNTUu8RRZjq6yyXKFp6JW3paNw88k6ubiozXdRd2pUxWvkEqEom1+uaLEhL80ZrL0roMI2SCLcczJ2wv30QCfKIrIiIYqdfYjp10Y9TpbOXGLtdrR2pNiGgdtE9mF27CxW5bsWwoq2mFEzBnCvWUTtDJYx/TYs74O/o/DLYpPzRjWIjLZZNKmpoxIIRhLVKlp1tK5WVrVqT4BBjUqjIQemEOkPHG9TnJ5WSrpWhKiU810mmSBb6d7d+4MqL6utVFbMSp4tYimZGajG7cDCychNy/O79/kmcywW6PrE9aiDdbjUrhCiGecfVbA9R489fPLVsYHuoIFsirQv88PY9L193bn2Tliu+un0D4WHqp47999EtIUtRXqkk7J7NslIxDDDwjWxZgIVZvPmAtREvK/k+vj/DmH1tbeuvS/gaHAK6J0zEj8aX3IvfwA+jUsNWgmiYOsfMK588z68alyg0qSoAmuJUJV5BhnS+Izq3VLQ7RXsKYtx8xdbIB1dFf18u+e2vK5gTuDe+TC1YnSXOH1z6+39ltkY9Y/GZThMpjmN2osCuQrip9qsCiK0AACwspxPtsDXI7R1Z/Kl2+rw9HPPatSyzBX0svDvtoyXEtUaByCbTaqm4kaotbXImYGzXhQX0hiNeJVKy1kFjGF6nLZVwD+NSw1WDa56uu+sy/Mq6rW+M63Gs1SAanle4Jlh0fTI7uUPkWG1EvO1VSncKnCx6ocr+KeO42TaN0vflSf0jfFtSs1FUNfxCHPW702k3R5WQUw1sHN7krfqHDsMtbv/GfQWaP8G+WqoXdakLi3payWxC0c+otN1g62re25ct+UxoWa/bTcZLIqaFdGap0iK2jzsm/RrZ8SLl0dSHDeLxK+0vUmHrKrh8SJq56Cwf1XAQ41KbEEEI9CQdMVM9qxOKlVWlamalWCpTuglANc6La6aAvZl/b5VleBSZwzq6u0Pna9iyXP2RjWMNj8C+9HHm9ePM0w5WK0VT4F/adrpwalix21xTRTgt6N7dQdvUoY2iRj2tBB5sT0cqho6rKjQ4E8OjssrA3YGrqhlo1QeK8ikWCLHpbFmhGizZB7Ah6ggJB5IMWVTyKkDBSkEqI4HhiioJGSktLYG4KZ7gUtefjPYaD/zN/xALxQsCfRPPmuh3LbZ67QVijlobdoJ4/ongD8NSjRBjoESaIQ6V81LVMrqpVatUrjeqqwse9VdAcx9ZgXzKyY6Zkn7KW/Um9efdcWI3odjype06y+ZbZb7cZiNZv2Yl2akJ2LpVFUcTQTuGG6tKEm8JvEgo1cuLapETie0bDt6u5YsEkjDOy3Dvjw1eT35eKV6UpdfbnLRk98BNJUM5xXtw7uU8DfEeW6mLrC56Vyrz2yjaxWQ8ILPCT2sUatno+IV25LdLxlX3KWgc7yubFOrQ3QXvRwDgEENSMMYx6QRaIQu61SZnUyStb0km+KirUj0ipUWP+8KdnfjS2er1uxmUO0ybCPJb8WR+/6PP/NyWyqnstC9PIFlTa6Mlnfp+tp4VmDjm2dOXWAxSya+qrtLEiT9RLbh03FtZwXXN1Iy5NjfvlJlItPRCJNperFBubBOwvC6u4joXDdIxjMkQFVc1E9AZPK3K0Uxd7WEoOqEuADZEup2VmgEWJiLQAAL5ZzbH92lt9fspIp2M/EjYtDAre0F79lM6An2fkjwAEANSqMkxat9ovVVKl1cqtZdIa3dtvVeZdXUoWD7GEe8qh39VR1nGbTmK7C0jZ0wg494kYCsarc52OXDjTr7oqO12KyKkr8wv2cGbUSYSh/j52RAUt3RuPTK48J7mzw0nRoXtszlMJac+Mk/Ghs1vFFuh2gd0pGKpknff1djZV9r9qidyvFLiBW2wo2JbDFcDHcl8s8tBPUKx8TxRrT6V7P2PSJYdcq4AEGNSqwXQsPWPEpxS+/Kb1JeS5kR+JXHUShFDIVOft0nWSplbJ5fzOdkLK2k319WWxLwCzVWEc+YvO7fcL4peRXIWQfaBRPw9aYsrnBYm6j6rXV2Hx7USTGnmsGDVrzQ7DHR0BK1nCoJim0zEo3iFWVgasxUr9gwjPw36guRFhbfRapDRbaejKGWEjdXhh22Z9TMst9vIAvzsWpZMxWRHWQRUUB677mt4AA/jUsNVg+tfnS7prnzTJqrjfCZLlPpwqVBA9Qj5ZqnJVaPa5XdB5BTp+Bzr2f9iqUeU997jt2R65yDzS82jnZojJp6F6jK80fX81yWUH1JLi8fTZbj7zRN1fpHUKGiky3a9uIg+MYIuwYhpjoF/uRFGLezfHHw6/BDbbjMmR/JLawMXFtv0hCgQuizIoj361pTQHTkd+3YapaALJrloCtHntpgis3RBF0KstgAQCuON8vBwEGNStMNB6p4aTTfXjrnqrqS93qkqKHlV5VqgJvrgR7AxoVWjNBRzrEemjWhm0+L/RS3qa9YGu0lynIBi9ZVgY6nYXmkrTKH6M9ZQpxLajbXNfHU3oMqoY55NPPebTudTSP00V+e21Wltmo0aW40dFa2iutKnlpipbNSpqTFB9bsC1KIB0LJpRHkYy8v8mUwFWs+VmWc+fjH9DttyeXyT9l00k9spyK/JdO9UsyvC+fQU7oc+WfcdlrWkq3Njdj3CuWWGTOPAEENSpspBat41tfPUkmcc9ZMlayS15R6WwkoED1231jz20qoxJB5J9cObTYs5sTO1ctt7zvcXmW2R1pX2Vtyh/+kw5Jm0rSylt0fINLRJkv+CnYCNVwMUPhUvBPvvHUviPNZJ+wuHV3cqR1a+dPbJZ269N1dT4Yz6tuDcqO63OKMOLH5+eWnHtyzCgdqklIuvZlFOquSyePHM8GQZM7FM6UvJZBtq6vOqmAkHrWYvBhwAD+NSw1eCa56y6urv3444yC5vUVIf81xCrMliMZSAa6ZS1moXOviXDJ66Rr1mX6+uASxx0u14Qaqfk9s9xzayP+ErsHYcBa5lZsGdqsaHW9OxgIS8G7Q7xdgaXHDhU6szQR4w86O1u1bM2vuZMLQSNVNq7OLaGEGVVm9UoRDCaJaNIGRfgQnggjo2i6beLMRwxUkbdKCe/NTu1kNkTSXcaCxBnub4ABBjUsNXguhYOrd2rVceteTclq1MvVA+L6hV1KoDsmgMal4+JvPoVNS5pvhe0yfaZUPcXiscRgvPePdAfuRfqbzl8WcyeUGnyxM7ea9CJsT7gZ6PttKFpsRW7nZnmiDpMKtnaOZoaXDPahfTx6iWof2g889z7/KtMfVWDB5YU3MlEO+W2Nxd0T+kXh6yuZr9fNyK+GLFncFhutqrK3kXV3gitxRVrIqFcGJHXLvTpZUSGNPKRUeew3KEMqmFxa7M4zdVqOjgEMNSsMVBCtnG2uZk6VrfG9XzqVrIrVF5JVa2oHbwuqH+evVWuKhWJxt9aODTNWqyE7MVyDHDDrqvJJ6fGWZ7DhGyV5S3Is0vbGqWsLZ9eoUSlztnebsoUtgMDX2r+SFBBQjQ2wFluCTJLc8ySU3uq20aq2DYg56+UAdIZTzTtJdbq2yVZhJM1kWYUV0dhsNa03gl7LOvVW2ORVWNLhEMaJhkuXE/vGBjr9CT3sZESUCt68ZSTx2TPUrly2LcCnLLKNYHLCpajHbuWXrXzqKdrl7xhSexGblQcLqXcA/jUsUVYph1rxnfCXvWsvd1chFWTb5XJW7VAQuZwZ4w7paYAqjTqqu7wUKG9TL6JON93QzWfO3XkYOtwx11+pR0t1YRo6dKPj0suXPUfAnUX8WG7x9+QJA79JGcOzp4W6GJUnxXSJ8kueOIl4WA+Vks04Htu6qcrsbOekOMZBUPKNqyqiiSrviyyWXKe80PEpbwV7KsZcTgEGNSssRSaEhaEQ6IQ6FvOO5V9d+d8UlXapMtE50PIUqgsvU8XmXNqbwrxeKjRjgL0tZkM3qaHf+iccsQfJot21ZpMvgRq1mkhMb5RbbTKeysfTMYR8UmuPPcjsJvFW+HhIO42G4ZYph64ofqwXo1MO4h0mneU4sMAXNWGyxyFrKCNAsIlpigTCpUD1EpmQSS11gpgt+U140jCKMtk83UcoSVi18sqXWzWDMDtNTJYFSicZ4p1piYWTEW1GKQTKbQtLdUlZSggJTrYpDq+f0V2lZZKsFqXqcAEKNSiRRia58+ZvVb6zS6ky6uSrpD2q+iVV0A470kfVkkqaQzbK9jXaEGNa0TZVmAm6JxbCntbTSs2sSqx72jmZbALe2IiiaiBbNKQJepMReKWkCWjdYYqVFhhmaVHYoosxgS2HroPIFa2kZqS0g8tYJ2dt97kNdTBg7qtEhyRWD2XAtsMAIVBve7PMXAEMNSsMVBCtWs3pmtZnlu2qS96mIkpJgVAbt9Jc/wfvKgpqjO4aFDwz+eJI55w1d4CfJq7B5YKd6XyE/jtdr7mThHwzhpcPSBsaTSc4zSv25eIafdE9iKVLGOBepJ7586sgVzRXFq+4UqhmSzSwQMykNmBWNUHfLzDLNH8eHdjcgFNU1ksFRbngoocyDhnRaEJdnc0+ZFASX2TS1ySyodFDKjrbdJVZv2AZ+w1Uj40VU3jcllh02tIjAtWN2GEb+OyeT56oW1yrOH8NOuUc3WbBVes7V8LbW626EqTtSaclpglGPabjXgEUNSpsVCC5IlK1z1MiZ1RKupFL1JglKDjkqv3J9tF3JyChvOs2xlVbFia/tCyNbGil18GpUvb0AKWWqay2rpWvLVIFSatLIOp9gMwRVlaqp5u2uz9b3S29OPb3d7xPJKkWYviqU0gSqaUHAx8fyMI769ltxDwRutTXH6rdDY4+6T/lL1zSWbSs/8dmH8KyT5b8mOcJzrNFn1WW/qShzgKbYTj2shS/WPO/S2Cdc5g0K5p1295WzVrfGZkL3lIa8S8iNOABBjUp7LQetetz48Spet6vKtdRIKj3dVJkq6qBl8FZIIzMJW232JkW8JhRDSEnRM8MZakDLW6y8VN/vb43pXt4GfN/zfs6eHhBx27bx2Z/33lNZqo8Oy3qn87cJAoHykTrTknCXZStNfna76OO62d9eE9wSRWJIdHXRVFNUfLipwQqZ+KaFPkt/KWetoNDixzgAQ41KpB2IQ9CQdMkjeu+rrWWqWU43q1ZdJHblAB2a2P1q2GMNnhq+psnSWBaw5+C+PgPNXyqQ+p5BnH3tfJv+z5PcrYoxcdAP2Ck591H3KcNuDcaBiUzxXHxvC0LdoINIIRS6TiJktOlhQiv53kMx2ctubry8Lc+lFhfT0krXljjmVQu9JpUJ0fKSajl4J+TEppXhyZKebTkVb5Zl2JLyfKjGwsHdESca7YAM5CVBqIRCIHWJWQdRCSMpGoJUIzXBInkjR0QGOxyPdL7A59KmNNhnAEONSrMRCaQg6Ygt9b1za84vKuprElLSh5XrPZABb6BhoHTbG8usdz08S3NKcFgsYdH+30T7ap3sfiWNUzSRMmHYDeZZBbRPLX6MjJ5mRbqaxP8xS2eVQzSJwvQkVhasySzq7dkDHowZTAYougJM/Z3Jfwss3RQuIr37LK5MsbFnGehhOxiD0iPjuwfJxkG5peQNkgX28SOXBBhNY722VE94mJiOqY07KJqjRcBCDUqzJEOqbl7x13rzzqVmruqmaRKjHjeCKgR83utDxlystsgY2AbX7GydLZtpELEfwdDzZzmz2ts1I147pHxmx6XA2mmCkYyTewLTMrORfMnU6vXqyoqLztNFYWlhyF/zzzDpXS9zpxIRi5NIvOrh5JLqqI4dv278a6g05DMQnXhVZ3cOVtrVceETbMMb9cs2GFYbD78vCy7xmlPGq+23Oo6se+SqasHkkQXMScBtQTkuCs6zkqlh1N1QRLRX+CdjgEKNSrMbXM31vdXdytTfGTVZxmlSPe3SYiroJnNKt7E+iYKdWSyVKxhfpEBrRUoSq2HAJI9vPSbbQp2FDnLfKN3TzqjePn4dO9HPV2PLUD2ehqUhW71RLWUY2UJFC5wEAocrFiWomVFd1HYObYyfjGbr1aJfIf47rbkevqt22c5A13hKU4T1vshLWltay3pC06QsNBtkObgAQI1K2xNCgdS9/Kqlde/xzeqvNXzdXdSZaPSqlJKAY/ChcnyYmUVfYmOkC53XrLJfo+NwAftmV/k2aorJ/YczFzZZzjq79WJ8Pp2V1iscBj8PMCrEZmdvyWUWBtmF6yfN7dJxiuAeE9DmEjUbWPKgiH52KfdNNMwWJi4W/X0IFerVXZUaphWBLMhGFiTEzlNdxqDtKRNWuZEQlrRnuGKg0sRFe2e22/dVd3p0wVaobPVkk+NU1cNcdBXlQ8Es+N6Z3HDiKqgEo1FPeFH8cF1u+4BAjUqjFQ2hEWkEOje/HMrLl65uytKSriZJT11IywCf/O3u9sfVj8qgniCRTwqSCZwqu0aXsecEtZa6TbJZNVtl9bGCZJOVVbAmQY5imY1I0snIJJW6iKxPVCQIgd/Pg86TR0s59aTyXW5PO8yT5z5AyGVVM11dBsI1TfAQC9ozqmPgJvDvSnceRyqVASqdD6TsL1ynlivN61T5KRZB81xWZv2wzFkosKtji2KHAD6NSw1ZkELUv0Xbm5Xs51WdJU1kvciKt8CpGCG4IAm0XEzODa7DqaeMdW5pQ4weRpvg7HH69hFEbo8zINGrRj6kmVc8phihElxgNPiIO8Y1uYaPlbj4zHymaSmkjdWw8kan1B99XI+GglOOrUCbVu2Ksw0LzS3999WdySB3Lvx/u3gYWYeFsg8hn3TS2TNt19rVWyjpn0lXiluQcFlnS4KaqLLVEaDYzIhOcDJDzF774ZZRAr1eBA38kAwdJzuSTEJC+ABADUqbJQQsekOO7aIlIQiXkzgUtVBmn9V7estG56HvmFPhPNJ1QoJtFyeYXOoGxV9hcMBo+N6FwTN4sGDzoaNYN51VJvBuokBvKdzKUNlDKGuyfdKOz05Y1f/v4B25U7e+2XXXlzl5tnbk192ectSHLM9Nz8wwKN969tKjMVV20DOVnxC4Ry3Rryv67dVa1nNpDcv9NlgSdxCQKvjWv/7fdsYGel+uz2a9F5ELbqcDZqz3pb/VkUoWStjK8pXSn+NKXtw5JcKc5aDU4yWtHVVTrWLVM+pKCUufAEANSwxNioMRaIQ6l+l1NVzqXWq3q5U56qtVUqPrrqoqVAbw0yK7knZDNbyWMvxvxJ1pDI2F7L0yZFmqmXH3bOImSm2g1IlszaU5smRIs6NdVwT06Uy82lFrxU1fIGO6ssdW2el4WeEzyNSiZEO058+dJxexRWStb+cTxjVAlfH2oS6TOTOeOS9pTmKc6qxWipwAPxVLDUoQwta+b5vXj4evhrmrmiIq5kfbUqVeXQJE+nVS4YZc/m71G87jWCiwxr9k3ubgLPtWD5Z0OT9Da5/8rlBW3qHzATK4lkaXBZyphcJo+RQmcYi0N8p6/UsepZebqK7M1uOzRztBYdKLfn0k9n3qxV2lPLwMDyraXIC1YXVtV2yhIN0EbJ8dtuj4Ybl+ZSSfLKqGKIL8mwYrWqw74Le16oI5csUmXhJRTjK9sSPwAECmbKTQjpGWajM5ZjnXZjnWaV1TynG6e+uLDzVf31/b9f31W+Prl/fr36+/n379q48IOekIDcamhGSTkJMwogzh69V67ddHZlwcZR5GZW6LSet62B13NIJIiVAQtiREAUBYB1RcEdc+ejYoYELZ31TfhanJz6Z9KGb2HkhEhQl3CzBfS5TuxAcsoTvbXf/cv/IBVEOpIw/3y3VNg+xdRg1OajQsycnblgOesbECUqMncm7HtOs9gh4ENJuQvy86zVwNCQN/IvHU6xxN3v2tzbXGh2aSCGsPqcb7Ou4+9AjO195TncBDvUoympCD0dB0MB1jBf29/X1fHWq21u+XEqvjxBHOuZxv/Hn4SYV/+Q/h6rNseo4niNryOY5JpuJqOdzu9WPTtD4E6mpJNwpYsWM6tFIPHMNWmvf40AixKZrGikP06EAfF7dxyMkjVd3zYMZx0RukpSGsfUDTy3TDcRZ8wIb3C1kVcd+X+9UZTz5ZZHHHx4BJjUtkL0Viomrb/rv9c/Ht7z48OI21JD7mZFzz9fUxKlAM0JSBJLwuWuV9psX/d4b6XS6uKMIMgyufYze4wcIjFsa0K/Fa1fshcSshJJSwantA7X/zffgTcQI76QgOAEQSROAcQZfD17ia9BWsKRuZ58oFpGgWXEsnU9gwfeNig+1RRxsSRDNKrULEvTsjHG6BYZrlUAbmGDGz3vKrIrwSit222tMOlW1tYpcrV0o5E06rslZa1YvK8Umh7g/p4M5ibUJR+ABMjUtbGgKl0dF1bc9/M+5bemm7vjOaec7uLff6+Kq1KgMNVu89g9Z9K1sDZixiLuqyO0ApZlKWxbg8mt7+c3705/6aM3XjD2vBut6CBVkpcLXPrXNcUzL45repukvdn2Ysfd7PyFU8P1P+iw6GmgJGnrsLAJl4anmKxbGsDSukJFjRglmhYnNXZIgUFThWDuk2MSEHDlmnE2xyeOa+TtaSRUmTILQZ+Wng8ABJjUtcERGjoure+fn7/49eb5zjqpWqkmY863ZU6/fjERQImvWdvvlwDvYcRlwapVHEe2F0YR6mV21gY/qDcfaFL2X1IDowFol+X78I1AfLdZdRtezL3t7nch2nx30fOSv4xH4/rXQuIjJNWufCVY9wUFo3yoLEBZFxIxla6pWZihHD4id6hwFlzritgzudacfekvHTcZp2ojtyAI7ikcbd4zuNxZSNXMqY6gZJz3QPAE0NS1wVD6Oi6t+3141/n11177/Urrm5M1t0ZzKXL/HtlhkBpSH837xGgm/e5Dns2AE2Sqadi+gKzd5p8cPjn4mRERTbTYagJ7m6hXD83m1Ze+r0R2AlH4XV8CHfpyAfnFqb8t2fKkQIsE98qnP4TBVmD6L58c9Xb3TvEYu4xIadH2uzWSq2xZCzM+Scb6TvdlswD5ydDTXUEEICCAC6KDBZwtmqPN8zryszjqiqt50CsA4ATI1LagqGg6CwdHRdW/r5+P6/+Xz+O+PH63m66L56p08+OU63r+erqLzLBoxtf0ASac+TuPbCphr6bzVqnjxqZvf3qbmiGh4HVNNvfY8vAOJMtaEvJodVvZbPtc47BYRkRZ5MDi/T4LKhuKBiyUkH+QSFZcWYqSTCEcJdWzQrQ/RlaVzU/ofVMBxHVuwx5z9mSeS324M0Z6vqPG6D8F0Aiukc5zk+w5UlrNVGEAHLuq1Zod8h5VSNzIejx/LTa90idwBHjUuaCoKB0dioOtfP9fxz/p7+a1iup6687lSnxXpKyvj9/bVK1sE5/m2Rlnth4cGYum0bkkWjjxY4x48jQWQ2Gz0+QgN8UOPbgA0p4FAQ+IzQt5ZLNp1CYweeUQCqCoBBFQw1bXmi+PZQUwwsl+guBiSBV0AnckXcdP3Nsd3Y4UHE3xVhLsSMZG2dEfg1nDrzkaITdfOG1FJpTkNlgdJkRrExb8BNDUtjEoaCoWisdD0Ih1LX9fx39V5tf2/C+zqmdPHHN3Th/yy5l7AQzyaUq/XJ3PG060HBI8XySWWWkQGsGiSChdQXUBX6bqkXVQs4y9hG0VB1/68SPP6HFbte5Y6ZdX0k2kpmW0ecwhrg4TgKi+N18M9iEBJQyQwgowVqLXpmJCUlvnPDZhvitBivSkWmaHhpJq3m/lrEvLpUBIdf2XBlzG6HHTGoZvltzfq0wudssXN7A+VIsUGyDwpbkIdJh2jWx9QzO4ClgqDTTTixDmEQy/wAcABMjUtkGQdBQOjsVC1jxzuv5viceOfjOvVcXeuT28+JEz4+/3VK1iACzPRuSx0bm3Wha15aueKhElqZ2Mr7bIFcy6jBMLgAsrxlAeJctG4caTyHzOqvwJ5mWUTH52foyw+N8cMHijYQqbvtpiVG7OzH+blzL9/hdg5KpOI6Z191xDf+lJRg2YQpv12LKeMWQsqRK5MfaUkE6Pmqm7OU3XsTUTRY1gF2ccBCjUtkJoKh0VCsNC1j+39f1/bj90ut/WarcvStwDnru+HfH6/F0lKNMM4gcGGwMCGyuksoTqDvBBSubaRq9eCG2DTWKSnAXme3QbKPs4NwIsqFZlD/mOAMDgBeUpxuVw69Tfndpk9a2GFxwFK8kg7aKSnBtf4hh06clsvj0yoUkhFmYtCMldbW6spW+fy51BYbPx53T2RFT+qcqksnEdEvfKkEamWFqnGJnWttfuT02hViU1qpsyenBuKrHWqFWtrdo9xF8RsXAEmNS2MWBSTRWKh6x8+/19v3nG73xrPbnLvXNHnzxlpWvx7XuQgKjJSlJn1Fwpd0dMbbe4g+7UBrPc7rTwuUw0MGajaVRLUqQg26scgKdDC/TOREX3B8nWkhUhPdhuyrJyptVRXvX9n5q4pWtogoZE1gydTW8o27pFxlObRXpb0onZh2G8ssVxu1Fdp+R7Gmc1LVb21ynuj3HKruNMml5CESBxwQKUkyQcOcmOe1FJJcAEuNS2QmhaOxULRCHUvnV+/+fH1mZ7XbLyXSOyvdd089/7YSpAFNM3NgQMuX7cE/AT4snUpjpF67F3P5HNVGQKCICXcsxLsLiApIjJA8jlvrdK+a2C2J8yqiZMMZqcd8soQE8riUBILlw8+J5EigU7DQZNnIZ82uM4t9a/COHVWEzoeO4trvc/4aYKrSycCILLBPcrgwx+bF9E9SJiKFknyBVPccvfJr9BA1FJHAV0fw83A5/mCQHABLjUuUEIOjsVD1bxrX2/0PHHE1U7153UR2X6zzzqr+/sJUAAoeqUCRRnq6gV0N0xRrcfTTQBfplNAq+B44V0sDi4ClFpxxGRw6uF5hRDAAFmrs1ddLkHeVEjiN6b7EQC0yQBXhZWdA5wVGh1zlCrGT6r2QjetubacjjkGzoc8yP27xTmCSLC2HiqfLFYg5S9DeaCuuWaAZkAyWQAHkOflgsTO3P1G2jbK99e5br3YrGoUkUM9CBRHBnAnRI8BLDUtkGsLDEOjourfae3PxvpnGpKgWx3X3dXF/rrW4hQMND+bte/nefpaBqFVq6R6Rv1L6u3PIJev+b5VIenwMuj8iV0UzqJEiIYoeQQm3QGhApYyRhqaR2HrPNjZBSFjOLRIha/wqQaUn9qJxrVgTVqVBegn6GHAEeCKjDL4O4mdYwrU+u0bC9GZRoeQmtlADQc9GBYpiKgG2g1tzkJ6QsUM7TJoQyQZKUBghBA8ARo1LJSIOxNFBKFq3z7/f17XEteSa21Mj6l801M/xxUKvAgnzkw/+Etui0V9g/NMdF8x9kxY4XbRFzHEqJ7zbgVkkvLgASm4KxlBtf/fxWsYmITLEiSnik6X2XlpOMKiOh0kKjS/f5Z0ufKNGp5Dx4ZYYJ/l9aCwkeDMY8ffGuw0qWuS1Wp/C1P62DO7+z9GqqLDLBVDRghqkTlsAOsS1xfWd+gaieB7X7RQT/tFHGso+lLNsjgCyAzkA+ABLDUszGgLJoOio2rd/b/HPS71N8Ss48e273p5UyEfv8VVSVUaYZwAHMNokAEKLEroL+iVuf+FrON3dm+YBJBKmt9eLUGDvLr06XnrKKJscUa5bnBEBBF3iS0BUmOWsHEgATH854jz/e3M+/jywACHTAwVC7Q1fIB4r1jt6lNXGVFaLy98RjOLr2QK4fn9dw/X7Fnfx+1wNwj7HncS8mtiNK4G9wEPNVmZJurZn5isf+9H2GtqZ5O5gmhA5RCAIAnAARY1KNCkNAdHRdW/jx8c6+q31eNYupc3T9r1eSte37+0yJVRphngcAw3QBwqP572iO/iC5HaLHyPypVTpx1gOB+xy5RKkChQ7EgUDlHO5zx53gQal0eAdCKcgxNGaoLy5EBjXO9EC8/C9pdyamGq+rWPQSqDk7yaUdW++5/VUnKheur7bnOk5z+Zynac18xuMhAqXTlalBDmFqVsOlMyBYU7WrL2qZHvuVQTEgVEFCJBsWmZNuABKjUtbGIkBIOiscC0Qh1L5vzt99ui93vTL4cu7387lXvzf+4ihphkcHkw2yAAEPt3/t6u7/K8z6lvKqTiTiCIGbXhac5ctZAqkHa8bZDJjKZlUO7tz/rSJ/vqaOexX+N3dewy6u/5HcEBmlm1Twqqz+0Cm+P/4VEEpR15UDmCC7q+oUg4lDDKVkb3ndDD8h983biWwL41nri2PSJv0h8xwYYfW7SP5doei+gkSxy9HZYhBplDDX5P+f87Krz6QOABEjUtbCctBYVhYOhUOhoetf2SvO/jel5nW/f78TFP6vUiutfrxeRKgO7XZyjbGDqruwhAPSdVXU21DN5F8hnQHNEa5WJ94cCGF0/lN3mzrCZrVvUTHE+ZvgmKtmad320eAGFMxuaHFYoHXrNoD7qlRXndJf1JoQgg0TEXg+mNW6OBgX54Nwajbn+O7N0nt/D/weq4iyaDGsZTAp/fE5cx5TCqQnI8XAEgNS1wey6KhWGBaxv38e2/vz5z4zqszV5xz37Pe5W9Xzx+PbaKlWDJK7BJ0s9zo0KFvHlwkgO/2qZBvV8dN7lYJK7JhjxuWjr741TWp5IpEQz279hA79VfIheUMtu8S8Yat/v/9jqpyW20Ba2aYzTmN0+I8NfSVqPijlT2qRcpyIUjRRDLhAjI44Vff1I1x/N3K1ZbRvk1ltkTDGPUvRj/hnTK2fEYmMxQxDliGeQaci56BcDpcy9PJEELlQxY3V4BLjUtbHoLCsWioeiEOre/HrjPavjfnVTLjnqvf4ejWW9sv281CkwFKSnJorHO5Wf5eiQLzfTeuy1OXhUonYr2Vl1fuqanfIdpy5rDF5P5dr/GUw6dg2pUloaDHmJke7X8cHMqCiNxk0eVK/2qZwNnIvJCwcUIo6ECxAIpjEx2T0qGO2ldR139JIxPtJDB4bZcXPTxb3PeC4dWaJVyz/rHp8A4ATA1LvoaLrX6N/jNc/zNazWZOOdTm3nxiTiuvvwKl7gMNN0TnJez1jLYqbYJQJvYpRp2z3IHjCHylRkQH96mGcIClzf0asiIjTqFIOY4lkcx6kNUY0Lcph76HakIWaCXwYWrMMXVzHe8p0Kq2mi4JOJvTMz39jiNe05q+apsjcPOd1LHptIBVJqrLNNugTgR8JKg/qsa0t3b98kNq5sKUkVGXsDKuxwOC79kZpnOrAc0jDFceLAK8TgIDwwduz+AAQ41LYxqHYtFQrDAdGIdS/r+ldXadZ1K6rN6ky3/3bW+Odcf7TLlM0Nhtde9x9Hqyj0LUxNtsDp4mYl7uPofKxeVHRF8/xuOcwp8GlycRrxlMmK82CWw80JACJHjVOCzRNs2K6AtmVoUc1N6vi6+3ev/WJNB3Bnvf7palJ5TGHlZE5Gcpap0P8C31RVBrC50+RWvSKZLS0xjsTSty/rtW9wVODiri/DMP+HhsxU4XbjGkypekLAcBoAOASw1LnQ1DooFYYDokDqnPvrU56y/aa3xN6zFW89auqbv/HEqVFWDCtPlEVrAVnvmWkdth1t568XceE/C7pjyPvWbQjEIqd25n/QdTRHEC0YlSrigGQCLCAtQm81NYL6da9RiWYHzGW2XPi0rE5N629gJXoR3Mv5M28e15z3PeM+NHpvxrNMQGByZXb/67e+G9OmUtFEbhAWhM8BhwM9crbp/njvtuNNYxm+n6ji+psWKx6FwxiMM3/XnKgHbw7HAATY1LsYdEwqFoxDqXqvvj7fvvjv4VZxzLqPDV7u95ev+qKiYANZ6V2YpLPQBIbeKIDoDn3tEuS/qW56Xbh6RpNVWAycRNtWB9w0IyxFAUBZpjQ9sz5hj1F3WbNvTExqbC7yBjdwRh9W3/bcftqvNx03E2mIHE7BM4fskwX1JEhnYbbLB+HQMggVWJfn8voBKMlGraFmclwy+1ZLV8Qnx962PRUlV57M6tMtN8bj1zNIKzLO2AOABMDUuyB0dBsMB1r1nG/b5+Kvn2r23rmpcunn141UyT9/upIwCinva/E48Sf9rkp2m4NC82SHC2pI7ldEPDPI8XjPMNU61SMz3mPyfExRXOWlgvOnGeq3K593RqmjjpqxBRr9e9RlgFV6TVWzyW3JJhWasUnh3YtDbniqi7WTTEXCiFi5bjDdsJlmo4J8qeDhM7X6viPMcgb43RqqeHJPUHcEXkrwYtdoMzIIvYWoyxMcBLDUuqC0dD1r7V+Pfrj3/Hv1G/bxxvzlreG5crtx/PV5KkyAVK99E1GF9rdlHPTqojGYPYnQaiPMLUxOaet487ORJyGwevBOIE5/8Tr9xs6twNiskr3wb6ZmF6IwYHpyBTNm28eM1fVvG2k4zxHKq7cDCaVkV8mvSYcSllXrfmm1LdHmh7LQCqkMMZLzm0eC2OEzn/b03oTSzb0v11nnOg4o2yYLRioR4lteAASw1Low9HArDoYDq3zv9fXV58evvl7qV1mtSnbffCu33/F5C8qAw+o9M/kLLzfUZJs7htv3nMX8HZE1dB81ZdbB77CP4LSJEJG5oKP0levX3o8p1qDLtVLrB0T67isQfncWicJSwn57iS1AlbbOJLVGv13UtG2UluAvISOSvNixw7BfAkW0Euih+nhTq/Y1HdV0J7ipybv4I3s7lI015yHCYtiteY45nqcGYVaHX2byGPOn9f7nt19xNqIWeAR41LmxNFA6CwaDq3f7ffOt8Xp55q6zWe1828nG73qvbhKsoaYZ34AMN8DAEhiWfwScCq+s5Agfw3sUx8X4t+/niaLnOecyHLWa4s3Fmq7QC62w6counx9G9r/OcpIlj3ShQPKhrzt7thwiMlRVKHFZa6bVMN/e5luzmNJpAFzaAImMmi8+GCExxCookOMqMIqjRnFs1onkTq4JBTVz0CWao2ZdDVY30UBN4n8z9EuQ+XwVnCgkA76DrcsEkyyXZTcP32OLATJQzuAEINS5QNDMJBat/fx11nPt7d9a5k3J1VqhEo85Kubus8jlW20Prf1WZh1drJh1GpcY89ycCbIbdBZVG8jTbaYPTuBQ9yza4V2rJvgrTFd65KMPQZ5Za6cLtcLFt4rtgRiOsh7pjh3GdRJGy4xMJDaQr/5PgPPBZu14r+01/L3gjd6gWi10vpt6VY9KrdxoZfG5FCTFHI5tAAc1Qlh+dR0014Df99ow6FyXW/BL11+tBUKol8AEgNS8aJhaIw6kQ6F7+v9M48Z+MnnbTxrqTXOneyRnxMuMRwBRGfB/VHNm1v9UPrEprIuzbZXJXcxrKebd0ywC934rZkczusp9Kbj54wh/pIiMfcz2zNFePEcpqKJV877z8z/Kak35+0qicsE0BsNI6+KGdT4/BawiBU1qcnBcTOazy0Zp6JRVkhrSKNFGbrb5x7mtsdN7LGwbog2TOUs+iC0tsTmiQX5iFgM4HAQY1LvQ7Cwdc/6Z+/jpHWNd+axxNl9Ry/dPMmcVkOBaoegRdX/pPQejchxv4dlR4j0riUMSnlkRepqTlwvmxGauSQVgOHEUBmiCRPru0yx8+dNrYzw04Uzxm7PiqJXQzLNFdEEilFZzseL+5/8G43TqSE5yxwoaIJhIQCStxdr4/F7pkMLob4LkZgoMbE7HFLWIhNm62Gg/c/lK4vkcF+YzGmwAhm7r5dNrhY7Wktjxbom7x3A6Vppb1Irw2d3WC1wkEwhwBAjUslXIesfx8+eIlarVXlcVy1XStVl2+OKvIlMgrYCmpu3qlZbtogzXtqx3O99IjJAysUjCrdp+pMHJGIxs3BTFS4ywzqxBGplmtT8WZdssy0eUskq10XXdpxsacgEE7atQJJcgynp6eVBHXQwUw0MyGGGENBOAiXAosHgYFvmlyJ/VK4S1f/DtPhGLJXYaHfa0mMLtPiZ1iCiSBqzwYiFWzmUFkFpIJP4jgAQQ1LRS4LY9e9VXTuaryyVnSquNctPxp1mgoCBbeWpAuZsyKup08SJGvO0BkSNycD8r273CwX2v2KOVcfsFpksZBxC1oiTKjCq3u3ymA/wZZJtaV08YMWnfK+O+Ujd5p7PAQmOG0BbUm5Q04SKYpqCoUUpBNqhHTyo1Cl2jaGrUte/JDaOVeZqfcNV8myP4qUZhqpNGJtwRtsKCC6P0nUKycI3Tk8QV3vXABBjUuFKsOvdzI5T41u5XPHWSXl1fb8nEuLxKXQkfYaxi8Y7Jh1PDR9TpXPVjBmqH02kI6hXMVw4rG8de+juCC5rmxa2hGOtsd0njt+a6/5KGmsVUvZhVc6huCXvGRpqnV2041p1ppxOP9vpoKyrnnGRz62NmgnqDZL8DJAPb811ynM3ybIaTJ4rHYvtrw8xkOqxsjhbQ313lXS8sZgmcN3qcLcYee+vkQi8nu1kQbjbZ8ARA1K2xCNpUXfOqtZGaSIpfjzEqpUp21EF/jMPbuWekgZ3pPI1d62h9b46sUtwyXeOV7Rec7Zcgtkg08+f4TM8r23LcoxlyaydvdWVJa5LXlb7DWCFsN9fyB2MjFOqT7W0vVAxeLLG2ya9z19o37AWFIQdR7WsTJ30h/lp1LMwuWpkgqEwyfLmB49UE3ZuTDhNEwdRIFfQ9l2pW4DBC9Faj18Gpqx8QHO6rZZXNTO9dCvQ41rajCw5C6wunAwAShhNkFY3IHWxpYQhC2II6hgzwAPMy0LWSMlUeBknJKlKcO+vgBADUsUTY5B0Ih0gh0z556bled3IySSC6lTH3fkcFSUPWPr32zZNRtNfy67OpVUqdvP/XlQROZcbBnxDuc7pM+HEropFGBoct3ERNwkzeNFK+TJjU7lG+jDUUmsPFOhnYXyn+y2eRL6N0mxtyzTSe2+S6UfCeu9LGfhhwteirLrjonNawGQLdHi6kkBU7JPDUmRuqVhf67fQAslddkt6SSU634AQo1LDVIPrnv5zipz1Nb4m64zVSrqXkfGnCKSKgvqdSfEl/mR9KUWDdKljrXVjZEFYODXwqq0ZVe9NyeP972rvHA9h9u730DQ2XBBQa4YxtTTEPsfWsFURISMyx7psLFHQUs+Pc4vHyElRqrkzFU09UxrKfW1rWbTlTa1guTHIhq8nU2efdiwhFpkZfVetqSJLeSw+/VJXXk949i1NG4D9KTNirW/a1TYhH4AQQ1KyxEERtKrlNcyV0vJvi1SJKJUUlHnWsgo/h7H6x5ZkdKs1uurH+UXXXi3GctjHvous0ar7Uje+OfAdz49zmFZXknO77VNG3IcPmQfK+EqIyit22t6+auFb5zWbZpo5kZbVp75KkrMHq9deoAG5lvWjycy7p4QZZb1eAfmBcLlrBXfLpKoKFFNgjb3L2SR6ePPJu9ks6EOjV46fQvj+LIsVvZKH1to5nVT8pICXSvDs/R1zI1YJCvm/9u+ceHK3HV9cexbrJ1Q7EVmAY4xjAG0OZ2LpK/wITMpZ1LBgcY3QmgZwD+VSwxJkWFQ6EQ6VA6V9lZnUzfxVcVlyMNVWuPD+3fVn+mSVBcv/nifhieVZk0MCCfFV4z1Ah5BLWVdp+DVsSTcVMfssfBdYaDCc1EKLcombU0aJyiILu5NMq4Db3d1Ei3VniTpaAO5EjTKlJM1s0kmtiZxqIhh5EeiwkAQVUzl7Lc4unsvzyzH+D9fsqyKckfccjaMmApuXJ2uiIQopVtAEQ0ffj8gtnwAP6Ybspht8PbMW0pF2Y4OPm5L785/Nc1zrR6rz1eV6uWF68T58y3PC5SA77QSOGz70+S+NTgeSz8X44RIyGBEqAei5uc8VdLZTrIykqFDCj/g+NvoRMYR0/n7QzE2taAYLK3ZREHmehyNy3ynI6b9lTpaNG7B1mc0Pjx5EbRRmLcuBk+BoIpgyXheQkRzSM2CdH3TmlANnr5ugSiHjXgAGLMLD6a9/1cCEHZF0O4vOgV0Xg4c4iAH0qtBWXxr2/3MV4/Rfkl0dX7O5xJXXy4m6rpe3TmT1sBJciJamhyJZDlx/KArY8lZrLdXlgXoQBMs81fJ9ohiQzCKCxJwEldJAgA4AEI9SmMpB6FQwHWoF9uKrV7q9Yuoa21iPyTi7zolFX/oLx/VBaXikfjEs0kMmFUAcwHNGTdJQmW7ZXBT6ZM7u+x5qap+xs3wyHHchy08sZM+dOyg57DoS4J5Ds5A5TzMOVT2QSLQJanbwEmVtzcKXfH6kbm1kbaqh8FFJ8w4NiXxvSc3a9rtfABCDUqUKYWsd3Wt8OfOXe9InfUpJKke2rqVJUyDMOuafOg01a5KzY2ln57NdVrTqW9eLcWNDFZvY6K9c5rSlVkllgK43lGk2Y1apuHx9K/T1daWGlh7zDtmdp1e9guRNvN5NajOuLrmytrW0OQ9hLYPIgfqprHFKqqMrevQtX7I8yZNluhMlRhReo0km6rjVHhjQNz23Jp0wix1T4YCrJoEOUKbzLXEVBxdVqqxE4veHWdaU6T1FwBCDUsdRZCC0ZB0hB0RBevjurW56lSpeZ1zwVoq3tw6koKE46zX6Xp33aGFN2mPUYGuNMlJuGrCgyUFg8hKvWjkoN5Ep72rSziEeyjYZoTZ8HZLcwS31+RKMjmg1ZiVlL2pr8LLw7jljrl6bPwG1qX758MTtrGzZOFZEIgKoxFLRmvdO9s8ltb5nLdTcOAETv21A42lpuhprgcMmygYzQ1G4LeJiOPJp6hTBcTpmlGzIiUwfkfuZfAAQI1KhCEII9EIdCItK+eGVraXK4ypLpeXjVVD1vrKu6ihUfk4S8zPUFQlrfoEOOeJBdDyS8BXck0p+pk9yeprpe3ka/VZBks05LcgqbQYjMp8VqnTqkRT7BhmzwnKYpgnWg4spGia7aJthPnGkS+SOEMunTTrwJ9J1/7nekp+WiYGUYzwZyn7NxsJ5NRZG+BDmj3k2RijdLHP+mqOWaitV+KCc1ZqUnHg96DgAEINSrMVBkLSCHStzGu5HGqyLZa8vOtxK08csFQbL3q1dmsD5H6Zm+WblqV0EbNSAz9TY2u02cwc6+Zbr6nMWcO2alvYjdYFHvMqOaJk9cekjatSnMekMhyC9w/QhDRatUMTJtKYn0sCmTdUs7bde86PV15M/KbGsb1soKVmzCfsd9OGI7cewM2Q5bpBG5gbrPyu0DAAsP7D2emBhUYgVm1a/MOu2cGHBgjQBQVeI4cyOLDXgESNSpMpBEfSi2ayV7Yd61N2uUqXFXrIjrogExsJ42NhbW9WWiSv2Uun1hDENE1v7rgus02UvdgpBqZuI+x8YMZRM3cGpPzqzhPdRRf7Mo03OwRw4rhdpzbDGSXLpvm6n5Fh5eu6XIrsc1rp86hdL2B2UnQPXE0qzil6zTVyT0BQl6UG4MI1WNRhmIs60GmoZ8W/0owpgmlSlcoe28ej8vlNSKgQ8QFhG897LmCj2Bg295NPSnIUn+WDdaDpTHd6qYS3HqOAQA1KmyUFrHzeJmcZxBK4o1zqpFH15qUIyDzb4xXtTxBrxXxMtu3cteUKZQVOKtdVsSGasGkFBM5grWYOrdgpyjDaaOzNRq6HkB1IbaBVtosI59be27pTfLtx/EvVNVv8dxnRTMCdJ7O3mN1srXIdZg+brnMSLIZxNOMteau5FY6JvNIJ6hueyIAIQsdConVz1HpPjkI4AEENSsQRhkLUvGs1vhK1UuqkkVLrOKrVUeYJli+/+3i0d9EueHpNBpsBKpvGkdixWKtfHVTHbsrzq42HTwVptXXa5oGP1vZUe1W7nL3jJE6Za4Fnt+q1Nu06dH2ps2n/N45+oFOXM7+wvykt/v0rMG7hruy8/UFNC3TxrI3Vay2xVn0LKqbcMlOxLSIjz8Dn3hvEoADQtLOZ0ciXlrZbceUTKro4Z98qZTDEsTpPRIyDnFsmynTLIJGjM19GFL3AdYjms8hIAGSm53bpwQWWH4JknbwAQg1KgzSa5mWqrycLyEVreiVrHVaqpdSsGr9eWod0xEOmxyL++w78tSx5mUmhZao0LkG8cYqcCTf2mhvzbgRqyFZGfvs1F3p8qZeP7F2Z9c9W+evgq9QzRLtz0899tWq2u1KIVNfBVOGZ7Vr2443zFsoNZZGqQJUIGtZFMnYoGqw7UcEqK0rQWx7WZrUskAIovCelWWvCGoMAG3bGu44JQQhZjeH/uqz6ITIU29cp2XFdp89hC5BkVm8pM+bblLn9iqkTi1MfvdPFRPi9TeMcaT14nsgEopv8+ABAjUo0PQxPeKoqKvWWJe5VypKanAhKWPZ92tXsucyl89GFMGkQomfDRbLZuhcedtJGTBEhinaZkhxo2RlTJExVVhDeYuEjMXEMEyOxCBAo5yoacYzuo0S/tIa11b6/s/237hz34Xwb8arVrF16EvPOBML8HwUzeponWfNxVKTGFlqyNat+fpYc60gL9krRiilaMGJXS8YMibM8sYi9lWo7HLIyjlYbM8itFnvYpaM3WFkiG8mrT7DpCLcXwwpD1pPNjVlT4P8AQw1KW0EDpUDoSDpncquOeKq7zjEZ1zqFqe2q6r8MkKBZ2Wqmo1zDgLIrw/zUY0dmSKS8L2DwHHjPwwuz9X3x8yeHqlqMbKeWeT+JQcXWJgB9cWYbaarxUpkXZa8gtbdeTvJfrxvaqymYXMwraACULBTOsGNIqe1C6CNAsCmuAOgc30hdAejENWhhwqJlOmfgAD+NSpQpB6t+eK1nHiXJFWL3estJkp7wEpQ966A6w+UNL1PtCIy0MZJa+SJSitg9zeX/K6muY1/V3GRhcgNTZymwj8wjrqVUxcxgGyiRoTqQnaWcMNHYAkzqeWqK3TA9E3mD1ydJmxy2uUzm6XR8bNPDvriUjo4hZbNSuK0VQihGDfUG9EiIMuHQJRGgS6CwDDPvMGVMmMzYrn7U2cY60lzfoOaqsOOlflQSZR0kVi5n4ABCjUqbHQZG0Ih0Qh0Tnjx1XGZnVubvv4qroglS7o8ZFAC6fXieDMS0CbDCznL7lYbglOVpMWvsmL0vea7odyqg8cZXBmoxbNf7XPPDdketmNoytYi2ZQlrDOQwMZd+dw3VR1/x0n6rfLfj878/yYC9eNj0zWntHfdRLkcnIQeQ0mXHQ742Cix80rgXX4d7pewmQTrC/eZn1vdXatQAyR777qFrPMCrPQRkHnRGFiM4QZctxgowIjLlyUuUtycKoasDgD+NSpMhS6ER6EQ6EQ6IQvto51zHSl1vzSLy8uiPfylbi6g9n/+rIlTVqerGjbtDNimmISaGrmvU7aVTdiwjEhtdDMlioFiNJXQ4hEacWicnq1Wf0jDPml3Zo2aDWZqO3TSXTFxtuestHX169dwjlbFC3W13jVVGN0MZMgsIsFhicX5yjVXjo5MsxyI0picSYXGMt4ZIkJQNWgWVYKG6jLi6UGHutSt54v5+7YXUtadqrC3JSSfbgD+NSoM0WvzLy92vfRKSC5vVRU4ipV0oPxf6kfYoaOGTJU7kw9JZM3FGYhUtSlKTdTEYMD4Z8GXO+eZ2GvPNEbOWWVTeFV1IvLl5fO8TZXda2bNc2ZVTzXbikVJJ+XXPHe9yW2Z6uEZ185mhqCUiTqzRYmttWeikiRamqgAAiYOEBSaFY1jOkyq1YNcUA0Y4S9cNI4LemEZXZU1s/GcuM69dsn7ECn+XltbBVaWGFv070qd0LzvrhJLJPPwjDXdLFjv4jz3TihOGzhdaRwBDDUprKQ2kEOiQmieHDclS186i8vLvJKvHter+qLvmAJ6yksqd1aodTAO0X0y3k1B45i+XNQk2jYzY1QmUhJJbs57Y0Yb9b/afw65Zo181PDB8d1suyZ0xtrFkE6Z87a6QnrzsvqFcfQ7uKDtNcalQwcGG8vrbDNlVARLIVypn6KK1OBDrWZIZ1tWxO3MzY52+cfAOrJZyiFcXSXLwBiLNZFXayzfEnwBAjUqbIQgrfMuVu2eZV5eTW7klSiS7opKvB9xocDhMtHlv1oSyRL8SHd1Z6Al1HVL6ysHWAhr2/OCVNdrbVgzMtpI20YpJQMMMaFhorqjABpUzW2W15vXql/8Pmvu1cLtCyFt0X6K9eijqObsG6zypPMmhZR0012NC251TUlfnWj2TDOc9rBYCa807DHWPhTOfFcynnM0sVZUThDlwoYWFIVZ74Ut4NF1+vsdD562huheOlP0LbYXaaUtXRw5U4em0rVhcnWNtu69NKnps7LRXlD33beahW2u3AEKNSmM1B6pBaJ6k13rtfs3dSJKkMlvi71BT73KBHn79DzAYNgqylBMwjUA3SJgukaJ6VjbWajKdKdPVPL5+Wjblrzuvmqz6TT5T1ZdiYV6d116zyLZcslAK5USSJfa2+lrQuzlK0kK2++00qRKmvhkxSLapTLN16igfoJmVGRH3BYPDZiSZ7MrCtCUw4ABCDUpkQQerbqa8dUrzvjm1qXda3ZKt4VKpKlA97VtvZGt3Tqo3BpQBbZpddzo2+Q2I9M1dpQYSirWXEVblWieGHP71VtMabxH5uUjc5/v3USbXoUYrZVCwn168nJBQtJd+7JrMquYnER62ANsmxNx9h1YkdvM3qCG8jNC8sslMRmiMNCOmTLoCZARghJYYnw0Qt3ikUFQOMgiYZS7/1n7Rzo3o5qsjnHvKg2nSkvNAmojNTcA/jUqjHQQm0hB0T9JLy93qTjuXvipUTJdQuI910oNn+Qnhq04lmVjeEgScYaeAFYlPaRKpnLGTjc061Ga7l5MHALprYonaKGNoUhEpJcBGGnbP0+Q4lk1NuoJUHQU/Zrbnv30FZ3ZtVJT1WaBvPTq6VlWMRSCvbdJestxzmgUTrUaDxNQame14mtLauPcxFaMfU84ruzYDlP0aFrePP/m2GXCxKTPF5xbdMhPTFSXuI4JPN2EDrpcGfgBCjUqbJUejEOjEOhEOhbrVFSuK1WHVVaSrUU76rUlQCV5G0bXGztaMwuZCzJUY1u5AaOVWWqv+RYSEGskopqljHOoR8WTSG5S0h2IGPZEz+uhVjOSmzV6rmGJRXvxl9TYkXdPeZ8N/YmKebLdJTRx+I3867I/TxyfFrHirZPVIyc473Tu69clz9WpFvEoK9abrG5wBZuusdMzJFG6lJukzuatiaIVoXVhu2MFay3NAC6PAPo1KoyCJpBDpX7cJOZK1ai7yIpdSo4e9KXMB/0fJmtp2u54+PyDqwWqddsJB4SzLuitiuuUFismq7CvfK0GZ0VRIe75uoNPQ89cpAOyMqzkhq6nTNlxuUpBVvr0s+in9tfhvpk1W6u2UPHHPKWjWqWFWtcjJflJkSVuDeGJDpW7CTsv0ynaguMAMShQkoSXPWFrlJzyyfjdzE9FMoboXreJvKYwI1AZMyqSK05sFOABADUsNTgjFIuiEOjEOhfn65y6vt8VKZxF1WrypGS4eqqsoPqXhQUH4gw+GUXh/tt3G5qkRaSlsI2rdvkZPxsVS0TJ23gLseMnpy+dRzQecthoseMqDlpOtHtilVxj/A41qxW3FxcvPayU1bUmlqFA+xSvWFr1NbnB2exY2D/BoDhlbN228r8pzmLXT01pGIa38r4bUqrwswOjfPUxvrnzg0oU3oc2Wk1V1kQGVw3X07em4GetRnobC0jSkwTpOGdQOkT0ae7Zsi5Xq5VhwAEIVSzUhkIfRoLQkRQ6J3onjhu9Ryu6kik1WPaa/GCFBlcHseJ/187j/zkwhyeH9fkMH9/723j8fP3NmGU5aoNDFNlb9c8mTV60ydXujO2/POwpKKZNBFQPOkqs5ZdNUuZzVxdua655GtPO7a7/daQSdL+IiT8Xvh+fuYxYTdif+aBWwfyXzut7X7gBIZaKASk0V3NRa30lIILqOlEvNJCrOqaqtDfap9JSX9WeDjbJi0uIc47K1sV4XJdWzqTDlwEgmTaSUbaaitdmMNsxir6k0mupqv/w9vZZZvzP+3n94Zb2t//Ff+m/LLfVRc9NJ/Qc9XBwBAal6RUijsW25+OtZy3NrKUGwwBtbH8/cPL+G9Jv370G/f+FDNf0fz/nkIMqHfbLV4doDM7SCDWeeS/7swdY5XFyX4zpqqDVExDaKjrql+nlBnBQMgS5FN8S1LjLaCMbQXGg2QjD7tRDek/KPRuLI8CbYjwRGFPDIkFbTbGM5likpFg/4H7zubSYGw/YESaUvOO0xgsjWawqRx3Y+/rPlzIOoHCB8tmyF9HNPMAOMXynAUOAARz1LUhBTooHoRDohDqX+vt+n6+Pi9zrOKr3+/v4/59/04fnj+T648vj72lTJQxnGT1m2N9fZmVXq2/MzorgTOqntz4unHxk0KgqJfSMo5KHLgePiaJXqQ/9EaFg0yEb8D9as8jtAM7eOKXj5e3VPlg2Ep5viOBxjA/XQ2aIg4ABMjUtiFs2ioVh1zxK9vn93q/9N7zr5868edc08Oet2609vpSDGmGTyATDf34ABj/XWpWXP245v7d4jtrauayDyHLEzCUScOETlzCcZ8zBgV4KS7eY62cnJMGq7QpoI+0/Zxoyj9cAho5rMQpEkN7/JhD13Dc/a2MEenOsr6/i7paX+WYcMCekoq6/poO4Rq+Y91vlpgnxtTpeL6FnGv6iByTcTfmFtpz6RreGfAESNS2kKEaOhMHRiHUv76+3nx++73f3zcl8zjEf2vVqvOvj/Ki8lB73iwwWK0koS2GN4V0sgo448COanpCVkVuk9WyuKi4ZCIr7ZKoHkQQ6Lsp0GGDDkevXievu8H4C1swrc0QQYgg0CXc8HbKRmmckUEMm4AFlxlD2FM56ndpXAN+BhW0k8Vsut9AtdhkwAFVN1cS2FdszZjXwAOABHDUujD0lC1r7V4/H26/V2zzxtKvjnjb1esvWs9vxwK1koHOfM+dkVXzNxjdwuCd0bj2i2SjjqNSyEizLzZMwKtkCktuiOzFDpic+OvTjriindILJzdM52FYaTDryKRX84MhmI8h8q43547a+46AMDiGEi6MUuwYj5VAjhVPcdCW8V14+g++y5thqY9lp6R62K93BPhuU1AwuTcABGjUuNH0Vj1r3zx+vj4+K355vqry98NePL0bvR56SrVKA5q77kTO3rL/yj/yy7Qb8qEM9zyqtUxnlZwLM3NEd4p/q+nXLJU3/vYqatteM06PoK8Pi8U0AaElQgvRWoWOmf5OBcLWb6zdhlK5bQ2K+xHumUCYo5GFRFVAoIIyvEZ7fQs+UqFWmUUyB8o+pPLNKU92D3D+N6cSCGZwT0rtCk9IDorS5mlaxiDhp3X31PHMVmDPugCtXARY1LVENDAWFrH9Pv+fx7/7ePaGqm7uZmlo96T21qYioNMM0jgmGwABzBrGSez6iD1NR/UO0NQ/XKvf1yQRw7zJRx2JJ7g4u23Gh+rsCuXR3FbscTWDtLXM4rM0X/nsbiLC3aoFay9iyd1b2N1YIzpdtOhImRAooTniYsp+a9VSaydwvat4pi4SUYQGCwM4yqsY4VPDfKg1J5DQ2YGi2bUCgvCgUS9lbrwx8ErwreWa9LQNGAcwMhy9Xhet3ARg1LXRYToWJrH6fXr7+/3k9fjNJy1dWSPWlTzxZUJVBapv83IA8QtwXPnXObfu3rTXOJKsYfVtL7NzLHr9t9MsMWrwleb8vmr9Gs2aNtpsobUspf5t0voQQlCxlV8q6qp0jLIZnTcLdVBrb8qntoHARIs5CDRF+M83QwP1yDcUoiuYRfdTRgens0ws2su00HRNbA24TVtCLC0tKCu7DY7JUJtCGisB0E47m/U4cARQ1LYw7LBbHAdGIdS/bjxrjjnVTU3dcXvjcy9RePasr9zWSq4DTwUybajJ9W2VT7jXSKc9PW2ZQx5mNT51AYocbvIjQ2EO6TminBEFGfO+vECsx40mmSTjiIGlkK1G1XE0nqA1YHJgOTQC3EkHMsSETEkmknod8X5KTbnQYngxOX6ZwKCtxyDmwtHIOcg0rr8bt72NonA8IiW40gjnTSTpbqhZpuOGnIn5DQl91XYF+PQRKtfAdukyqJnITIDafrE86rRwKQcXrzNHjz9Va/vQMjjzxiAb7gOABJjUssKscFouubzPjm888c5qrc74mt8ayMe2tV7e0qLwCVFq0nBiYIauByHKxCGAdGBIfAnAcik+apOAvmWx3DCtwhDUFNCl/c4BNjJqpeS9Aibqhe+cvx1zZ1Xtdbsu6+8UtJ9sp4mwA5FdFQRuA+AzQ4erxRhLAIwXbPnvR3aRLb54FSBLALcuSAnamM51GXuMetPguve65kpVyGYYWzptfhmdDVfVI/x7QSBDxC8ABMDUs8KsMFsMCsTB1r8687/FRnF0rKvhIER6dV+/tkVKAIWz0r3IsP/7tLomnyyMrHBIfNeRUFyzdi8ITVxeFDLLICZaKMv73SRJ8jPyh0/xHHJXlFEhtaqFCsToYhNqFxsa65dayePdW10zTGqgZQasDKqiEB7mGiycu5ef0k8XgXZCzsHfEt4Sr9tBTmfBFi6XV8VabjczEwsDbb2J91vm6QcRk4uRN2u1TW2p7/1e+DizOxXUruAEwNS5MIQ0OBWJQ6Ew6t776ntXx3q80xS1alSuO48pPv9xFSmmGTwOTDYvHAtC98HtQDw9+SdgqE1kvQysxLjBhVy5EfQjjlt7uNbNY+XSl0cMxgO5ki5adYhxY+ZYawjykDozsbs4YF7JBLWilxZFAOjy4tF0GgePWyQBlh4bPxEEIFCRT3XWigcTCYZAxgYj1Fx88XRYv6R61MGYOX9g/F9J1oBz/aK+4PbG6++5+F3i5GieXcdPMfqlM6yXUw+6/EA4BJjUtkFk7CsSi1jx+fbPa+F8ZiVfPXfxyrjeiPOvr71klRAgO3L6144sK/znYbyw8hVDCyj4I6fyuLYaQgSGQcJwR3h1Io6+xVA1OKA/8WMdzAi0dGmzy/6D3Gv57t8M9Lvi1VNwuZez3U49ZOf0hrctjx/KmXC+zy/mSuNZsAoNOgZk/iHF0k7F7Fr2R4Cl1tsxijrmHi+BzD5deqZpeL+tDqXo5O/S1QqZmY11WkavWfjwBJDUtiFoLDcWjourfb7fjx/PFXm66cbzVqR8XS5b29vM2iUaYZ/I4MNi8DjjrTzoTo1VjabLXA8qf5tSB0wiMMQI59B2FH8dTf2SdSt7duUThegPo5Cpg6ryw4kySYa8WKTAjdQgzRsJmOnvYxwxi8eTCYlh32H0TTo1Z3prlvavybb7lO9+urTYp1yIbifjjDOI0ZXpKomYq48RWl2jHxk84HVOOSvsKX6Vx3ozTUJhB8+iWAYROQB4BLjUtdIQmhYOhgure/r8e/+/M1489U6ycpB2sklPPxwxcyoDCpErgnRrxB9Z7SPNaagQTRCW20IOzkZeepdv5ibaiDxOQgxhO9dBscnzLPDCbIbbVkHvbSXae2LZBPBw7sPzhoCJNcKBXyc/YE35+zo5GQlOhDSnQaj1dBF0/O++RvVeSOyxTM+WnKtS0myaWLNrNLcJ/UjJ2PRKkHvpugxvH1ePMR7K7wrrZyEYDnBc53AEqNS3UZh6OhaGBGLUv4fjx/v86vL1rXatSVKd0pfi29f9VCANcw3f3ATkZ/vLWA261gk6M68VRMI1o0H5nJayoulwiIDE6Zy7rIBbTEAmC2WYOKs1k06en484Alw6odpfI5UYkhvWKs5HHIKkmQApqMO+ecGhUdmCOPRQBDNKue5Zb/jGSWizszEl67XKpnPGhpNTaxqJL4Ui0E/Zm2kXnbqI1SEkSFRziOAx7a91GtpgcARw1LNTVFQ9FQ9a/bvzc9tVd1V5Fu+Ot8Pe8Xkn7wujIFba6/N/iprvlYFBAVqf4ZDtGnxQBo2muTUqBovJPp5J6Vbs9pD7lBogl9u/uwRggtpOWiUcSM72uGFPQZf9fYWw6YpMPZkKth/KNuSXRx4aERiT564OlvY8l/czwEEIINwCdp7LcCZcf1nu3XGBgyb791O0Y3LTU1/4m4aMk0mLlAoIcARhVLnBLFobFAda/ZXnf69+2a51msay7y5p9bp8Zv76qQKBCDBIRofJBA6CIAaxpWiBZuufpuZAkGFICBik92HdYuLtuNj7HJDrVs/u8FJtqRTMtHB8oThvdvLa9CtjjzX6lzg5F/wcfayoUEfqY72zss/mXgovAKC3yuZKcLs4wCVLpbqKsp5kcyjVik7aR0cf11YgYE4HkxkxudGWfLGVz5aZeNTGbKao35WKS8Gy4neD+smJsltaiXM62JPPSlljGM4zcAS6ZNstVWoVarKddmuEJHVfLnSJ0vPVPbnTh/X/av0mt6BM/+Px99HPD4V//c+/+ipvR8F32gE/jvvwIQHOWbf8D/tm+i22zBK9omowh2xLJ/gwz9BnPCCLLSWlrkMuXDYn2DPkM3crKbLB9pX4A966AyBqrBmvkc37OuQia+jR+Fsm7wbvyaKAQtZpVcZetiYvTscFUjHX4IY35bb+gJ7nDAztQHJtWq2AFXz7AnB+Uhuaj3akKwuuekFxRcASihr9xUI+X1K+W6ccj8Ji189973PoA+r3P2DawXcvj9dOIbmuNDWlqWVDkxD/vSB1Z5A6R5rCkyB6hz9Fb2sPh3+AYEI8IVHH9XmTx8NpKdqWjwAEg9S0MshQLRMHQwFw6xAv79c/HfEq/ibpclSs6fCmu/jO/51SEr/3EjfXmLP3pvGPSPYnUXcXSt8Uc2tXNwI9Mn8+TCrDfLeZsgCDuPn0nlMDGBijlm9/RRBg8ntx63GcP8EkMJAmcC2zjQ7OX+uOLgB0GZ1HdXGZpmCsyu++T4/Cw1akA7q/zuid6kVS4ATA1LvoYFobC4da745+PXnn8d/F1XfU1uVOHjkU/D1/NoVeQAIofIS2TVWGESBuPVPbpCaKVDUe9R4+WO4WaioLCdBr3HKIECQcEA4pZoGDRkfKQGsjF60h2vrVjW7fGiLHEXGFvIGiAYYeGFLdbFlr68/W++k9kqdgSu6RDAQuc55989g/d+r73OnGWpo6rAgEqh6qznr+Q3KquEWMYxc3vu5+9wjPCcbzHAS41Law6HBGHYlDohFqXr6/P6/1/F+3PxU2kc9JKS9nVbr6kpCmmGSOCDDfoAAEDergP1H7sv4qSXUXnj5HvFJkiVB1W2MIczsw/rhkpoh0JkZVauUTQWtjJ1V2IwYdsLRqNaQI6Kud9X0aYRCXCAQRhpxwRUMrGZqZaaNTrdaFyALtMxhPo1ACCyDu/CRnMYEoGghpR4oESF1/IfS2KOPpfzGhGvS3FZSVEaI2dB8fl9vG5nUoLvWB8N3t6TA4BMjUtbFori0Kh0KhgKB0Yh1LnVX8/ff1nnKqXe6eeTvu6FPj/al7tUAGIt7chVNd8kP3+bviqsWkSIWTuYmA0rwNg3WMmQXN85i+Xy36VQ0QwJN3Sx55bfvW2kmCQkjTBL5Pq+NNG3RByCMp3k8rxf7P9bv7TGGryoimMv7e1Mq0Fqm4z+3E6/9ex6s6ndbvHUSask/EzgD2NxHPUBwEsNS7KLRMGhaMQ6l3x37fp8JNfXdOMqvPet6fXsu6rjj/ZUKlAQZR+uPS38/5BvVa5i1XAqgDBXDPNM0/GhMcaTotI76IRZxCIeXR53BMKqIKjFLKd4xY0MU7a09Fjdg4Q27JchyDvPGd4SG66XjTwPx7i3Kf3OjF0QkWEOuHNLWwnz44pmJQgLM/H7/DiAlUxEU2v490lyVb4EPz6QzC3o1mNjQNjx2NV27nzOXVSHaizRK3A4AEYNS2MWw0NSwNA6IQ6l9tft7fPHmV6+6199bl86vOKsgHXx/sVaqA55JqzXn5HKi9QyO7+eUe0sydD1OB+DsbYzChXod/EoSLtH5D0Hgon6RCAvJ9T+fydMvvOpeE5g+yXrIPHuFxWhSnZOErNDVwYBXUmcCdK5BUokFHp/DHKGOr0dFE/NN3NXxZ2M6lgQi35Y5LeRa2llFu8fIytDaXNnlyzz32o1W2ps7ATxlU/Dm4f/h5GiAHAASg1LlAyFoYKwdY518/Xbqb6XzqpnCVbxulnfH86lSrqoEXBs/0M3sKMJmLGXN+S7Byx+64lTMgW0JOKaj6N0ck1S/YVNRT4MSUDQAY1kcRseZKS7WvHnaGfisy6RSJvJodj6Pq66xmcn7OJd9C5IfOuWFKlpX4OVSLxenZ5ebMJJIcMQ3GUZRQjOfUI6VVPrbmo/d81n5rH5E+rye96RENhV4kZsmdIoznFOUsUA4qOlKeugQ4BJDUtFMQkCINBYJC1b9Pb1+u98V54XWd663pUuVVzDv/WZakoFnXbk+xWeH8zq8aA+v2zn/DuS9w6klIGHjVcBnyWNKVSwhgDzUtEwaBCHouh7w6bypL0rtOs4GlDpQAHVtsvJVbD9ovBgf+oeswUnzeteDcmN+BQEUXZTipfk/ZyNP/HwSShgSKGSczqHgzxtQDFFcSKTFZLneBboqpd+6I7gviSzGcT45wcLRCwNONcBwEmNS1Upj0LWvmV+O9PPG/NJPn7zvjVXUytOyPomSUNMM4f8GGwODxz1DetDgx1KQvMqqnQmUrn5I8LPpPYbJdJfSnqMUI5h8kSfTXziAXtjSw0uYnvua6733hYkBdJtUDXnSlMhdvj1BqYth+BtKWKWbuNpKJN+zvlyJoW3QERLwwlQqPtLdZWlErTk9R+BVdwFOk2dRiBpczIsZjnogxCm5GRw3OsuLSDhP4gSpbq7QYcJ2JwASY1LXEVFrHOvXxzx5udRi2skujWTDo1ZL3Igevnuau5vW/3/K7x2/OcI9ZdvguXlRdBk2FZyfKk3d3jI9mwVjIx5jYCE3p+0w0B3c9q44ekRsrHw1J0SKNylPwSLcKE+Y9QJZZinbp7S6sIKksu+qOlNntlvYDRYhF9iGFIQQpyzIMPwRqk8NIlwVJ4UAHEkGUVdHjikqk1Pxc63fhvfuxeY5c15iERus6DVGeAARo1LJVGNrH8fFdPiU4y4lSSmaRKjt1xuyUoGPBwf9l9Rjs0niVPdP67uXrVHvdb6rlxuPgOu9X2zngVsiiZsdcVOYC0uMQ2MpIxhH5QxmaJotjMGYDN6djWGD8JIO061Xpl6kpWMlPWupieUsaFkGZquIjnXnKAzFPGCOVRqvVPRes7WWhVN4HGSRLKzTJfLZXRgdUSY20Xb5s4xQ1matKb6HRQBoYiiRnWEqKzA7E4ARY1LTBrJBUFQnDrXrjv45841LRecVQumlO9fE3ZVQIj7r5zzbzPVm49kNqRJK+oy+uTB7fk0HNR+ZjRefUWvmTGO/MuELfGSy50mU9m0p+k0xwfb7jieH1XpCrOM4z6Q84vjtz8BZgeIaeu/wR9u2OOhs+Hu7+JKkBfEJYROhKSxnUiiCh0QUp3Nl6tFsULvL6ZXQQYbgmHXMDdnTeUa47djs11BiKw0WUcO4m/j+/mZ1Z5echwAQI1LsQdHY9EodIgdK/r3x59V1J5znVS9bl1zApntfP1U1wr/ArgOjrE1ebp+44D9H+f22HXM4pqIhRKLiIEZZiafxL5hys30IuOsy0Awq9mrlJ8/TbJ4iawkgqx4wmJ1nyiEWHaMcnWm5MYQaTcctDrQm6fgiCCybEJ0J9pQSFqdYrCbyWsDLkXwQViF1nstjENSJE4nK9ZJzEig0yO6Fj3khcv3r1JuiPSAB+jtvWdx62dMT7ot9ErjTvt2Lj58cQQUsACt18fXwlS1xbG5rwAMlDtLgEGNSqqLRMKgqHRKHVPtW61E5vzSVWRxKf66Z7OuoqrVKAHBA29njPMnayLOgSCjbpsIgn/w6zg82/VGypABAZ0MOpOOeequlxoiOYpdm8+o/gXFSp+U7b97eMUGyl9p/u99qEMxjUsptHf578x2dDL5mYhWDIQqlEV0FUmKd0g069/2KTda8lC5QYSPplxJBeb/n082VyA33eypqtyqOeHAP41KVYaRCLDAUEwdU99ut55nbjXLUzPNXapXj2Ke1XlRANvT1VJ2yCf4HYq01qYyjKs5tXmquCVknbv9X9C/WHTLJ6mJbrjDiFZShoI0rpnjOk5UEO1HZ/Q+evplFBjU4fFGHsSsqgoujCjjgHkhjN0tQ3rit+5tJmoWSLGE2SuNNAkcqOWBCbWkBJjFBZXWREoU3J00wcVVKTI3a/fS/HYApP7i6JOCECfLtZFsXA000UAkI+oNY4veJb0SjHVcSYLk6sVpTxUKF5nAOABCDUiTJoLh0SB1TvvzteSaVrK4b4y5KlD0qdTaAB/tMY1rMiRJRotsXZiIlCOzLyr20wW+S00TVOUVHRw0BBulv35OvkpVFrVgoXtpvxKTEm8suUkFVTnir4bn8rJTTIw5U1VeVaIxGt7L7TuWW9Im1OqWRKNi1VE6IDCxGAYJRpjGqWrGNJ37h/C/9OTzZTixxmJhhwH5qmqFT8A/DUsVXYVhkKjFTxTE1z0p1ssutTcqePaVBe14ClxGR5/JhcaW83CpRsemqlf0IwapfKV+d4fR6A+sH2vU+OnPbcnpqlOW62bBzDUOMO6OrqVmMr6nY1adlKrlVhr3ZqO/roJE80N52psE16NjX69ijWsAxNtEz0uyVC0ebebmPhmQYisymBQrlwTZ17cXl6bKcQzzh8rsFw253o1PAqF7QAgQs3KqFSaD6zvxwvCamUHBumbwOVZvn8d3GqnEWy64rWv2/f2kXKUXaFv6OGuDwdKutNlprQ7lZdJT4MeffwRjm2ynux8XbJsl24N6UvIlo9pcvWbDO3ZEcAA9DUsNOsLJ0RB0ZD0JE0b+mQ1KzUzUqrqZbVQWVNPvJxgUESwQKiuqxUyL+Xp9v9Lb2//Hra2FeJ1u6EYyTOoBuQB1KqcmrPt/V6H5URCDbUlPSuSzhIm/e8td+U2obteKoVqQZgoXqq3XDCk61V47exY7LYylC1ScVWP/beeM70a675o+sp0GRnghP/3Or76iCDQvNMHofvxH/aUI/Od9ZbJBtjXuMza3wD6NS0QaxMVBwFA0IRax/C6qU37IyWZe+IdO+H7OKlRl5BfHm6CM8KemFOoQnwsqDlYiHWPT2NhSIp8PDaYs2JvXRWU/EvoSVkb7r5BhVtRsFbTTYY6vqGNvYck9Ly0mh9TzUjk4zB+xnBADfRuf/59gjzwKQ7jEl27b/eA0/fBELHo/K97SSE5R8OaLZumNPuH/w+smCJgxnrqpjRgwGNq4AEKNSt2HRqHVO3FbzzvTjIrPOK6qZrI99SrvJGICPimnBmng2+0YxiiVkPM6g6UPEUsSdr+UQ92Z0Sqp2ygTVGBk5C+QWtRzC4kh8wDiHeFLZ5TzW6UeBNDDkHhmgXILdpI197JCeXDspW+pERCmCViwfhX55XKIdEA0X/Gz/uWvpjSuOKig1qp5EMgsJaZnyVqlTHVupoM20TNz3WK7h4AeErLG1t5ZC7HT5dAvgEENSpsigoEial8/GbVda43pl5c51WquZvirrTzCUjTDNH4Bhvj/g/eTkXt67PzXcp+RqypKfJMS2sZXeMcD1z2weiura2jXq9YR6LssMNILaHO6/X1cOzSB0R8ptZZCSaGR40Oh8+a5dy5T4b5s7kuG3u9HDOfCQucHjD/jDdZ2pJ4V8aaTmn14tNr1xHXPfPcqOJlVWUAHnJU+a/gzt8gzdggQ6IfPToXcoJag+UHtl+ijwYEZKWH4EGkOgy78eABAjUprQEuhEeiEOhe+TisuZxRVry6tJV1e5wp6QICX6CBzaQeo1XSsRSlLQmosH8zNVK4HE6NmsWPz0Do7tKSTyeui8+3bns0X/tMXb2/d8K5rpaIoTq7tN9utsYbwu3otQtdfe8+PB8ptXXRr1pbG6qzGemXFzTjFcAtO5muIp7xByTwsFYq/hSG9iulZlmC0qcKZhdvd5q3W+t+nu91sW9XtNGGWS+cyxMskt0D8kpKw1thPC5wmkaKSXgsjwD2NSwxZikoSP4mu9YvVVL3LlSprF5eRxrJKmTIN4X1W+vz8qCjLjaG7ZmSZaE7sNIh2WSPRo4oOOgg9EtK8PG6K9Ti15PGxhXvCT2LQOKvE6LKq5NMYGmXzpPRmX4pBicLuUEJFJCCm9yK9VFVla0TEpWQW9VRsnHA0wmUBZmG83DOdoC8CRLBjC7X3eVz6AWKgHzstWSVCIM8nnvW1UhzCcBeUHGtiHXlnpT5gLZ2vYIrPnYfSw3odQVKZ3Dnjnnyiv6C1J6WGbsWpSUNUWRwAQI1KeyULoiHpCDoiC+Vm0q9XUlSrVJV0j6ntddVKoBD4k0u0B7xuAWwz0OQSW5GmCOgGhF8XOwEtc9sn6akkBIMZrA9lluUb29s6/Dqu38m7dN0+cs2ew57vMsV30Il4KTtPhFT8cxIsLae4B5xoo9h0alt1Dh9m0uOTXJec9RfxrEycuG/4iJ/LGZ8e1bDC9tDLOkwLwkXOo6MafLTehqkzL3hReZR+AD6NSw1Jla1/XjhUmVwa5l3laVYun86iZeSYCSiwEO+65HQnysdsq1ozfdc5pRqRmqpkMuj+kw1JiZpd+tyh7Tyc8M1FuUPdwWCeoYfGMa7AkYlmqMKXTHXjpu6WYrl5urMuzb3BY9O7w/XXJ5LZa9afhdmimrHTZ0xw7ErTzfS4NLcLnza66vnedzmwpWvY2zErJ6pMb+eu01Gpr7gIZpIbgD+NSxRJkoMVPVS8ZxvVaqVxN3lokqVcq8EKE2+ZQ+5fL5mPzPl6m5/7gmVtDx8xzDXMu+wSzKM/3PhxeESSXBnTPdb20xVrxV0bz2s3m3NV4eVxRKmNe21THkhJT2nX1hFz9S2J8C7LpOXtD1TcPBfN/vyvR/AcQq+A4lrknt3Ln175+i57Jn7Zjn93Htg3lDMeYnueXzbC5HJRV1syHOzsLtYZxHcsa4yB+rTNkiGO1YYvBJbhgldkjft1heW764WljzLIUnCLjehWlLKN+DQ2OuS2pbAkslH8FrVlXFa8LQW6Qu4API1LDE2IhdKgdKgdC/tk50urtNVldZeSE3cgd8R9Agf9fuJXxwFS6ZMMF6VC1FeLlF0Vy4zF6c3KfsZ0nNs5FXTibKQiRMfakBQkF3BDBD5aKZmS6Tz1FedM9eMxZjOtstdVxYWVUpYcmRrRi/+0vX+plhmiuN+2Ik+InMbkbppFpQ5FUt6SWgkXg8qvFR5wcQXVXEMc3wA/DUsNShDC1r5dbXvvriXlTOFNLy6yP29XVRKvIIjlQSnadofeRdtoskanIC11e4GyWqtdkrN0vJ953N5xXNk+1SFyv6hbS65DYR5q8ZNUOFuSYV1eXArGkymJk7GFqsuaZEdnJRNdS07lsdv0gVA+FjjpL7V63qcvJiJYxV6IvfptRSVxEWGwC0KdtRhMnSRiJ4YA1VOBIgKeczy63bCKECpoxOGdKCGH4ABAjUosUYhEFLus0ldbuqkxxWtyuGWpcVdIKAntslhZGCZzZ2p83cfdbjcyj7OI39nO9PQ9vmx2dF+hvBBbXVH8LDy7lYHrccevveAzu28yxuUw1NkpnlV9CxqrQVTJw2cafHXXnjuQGos5NKAjvKgYwTp01LKr8IU0htXp2ma9LXLaSytTmub1BxGMOUvhjPuuZ5dGa5y3pOdiVgBPe6EqkJvh0aNf5vt5XjruS8BYE4rlWx6VASwRtGktUqG1fg9dJSykdU78a8GKFpxL3jwQo50jGWM6M1JIz5ynPgA9jUpjOQWpImhfpy45nPxnDEZ1vVIkVAperqHxdQNk/TOPbl7Nymelp7RMldunuusijdajG9mrmHhpaF/HTj7h+/Zuup/VzVYi/VZn5aZJ/CfKpps3m8OBeAXNckkk5xSLrJwrnzptlmrq1EMs2eajKKM4z3jJMzhYkpfnD+wB+M9aTYptn8C++uU9b2knVZkt+OW2CxKKiydnV6daq9CxwEENSqshBaMg6YQu0ZNUuZWqtXGVpV1CPWSxMuBl5crxlzJgx8vs0BFUX2pZ09PEvCZ2hl9euea8ffsEaqpliwCaYplebiLWWLWRTKrtolbJ5BKaNslkPfyZh9Vv1cITiKRBp+3ss1XZpozz8ecU9ePdr5S434PRSlM9NHC1hko99duyvfcktdBxEld+sLhmttuiFlSotM7E+DxKdpSIMwKa7SgSxi3oO/KZAlBd9kQDsWt+rC/JGTjfgD2NSpMsg6sQv435V3fGaWq81WavnqpUY/+IKJXA/W9HPzpS4rDxRz7/JSporOMplRbK2l299k1alTfu4ESrQhb8W2OomslWb9BiRXXEnflI+3At9vVFuvkeXm1Z6+HZrp+Hd8KcGBLqKJAk75P4w+e2ebj3NK9XCUoHD3XU2zMl5Js6HBwBpczTjQMtSz0oMwjdadqxgVZzsgiTpwZf9lzkqSRlwD4NSw1diIMlvyrV1OdLvnW5w3aa3aUWjLq24ILRIKG2QD5BGiNdEh8ZO8e82YA9eeVGIfYPIZBXzmhhbNlap4SLq6tsAxzI92wk5srFyrcmqM7ZpHn5FcnWrSnQ6+AlNGxuRFhSyG82Yku2Bo9Q+C0M4YvNtJWUTzXxrH5KSm5U61luf9cbk5yjdlZ0T47XoGbamtrJ5UKubWNeAV8HQ3eWk8lBQPRo4/UsTOpc61l3B0ugLnJK03/hl42nIytbpDw8libE8aGWM7/QIQcvxTOwTn1gUElCwHGHVWLQuR54JBzWEYIUGA+7gD4NSzQxlaUhaEh6IQv6Xl+eapOMitKq4lXVwG51X1hKjBbHkxbnNWRVc1VdW/OAXbsFUGjWJVbN5FVoradFKfZKaqpFN1SwTAnPokITppM0g+ykBqqqpsNX67EWdK3qlpVs7hRnaVuDUDTgSFVeROBAVTCxRQ5LGbVQaRagwRIZBW9A0TTk0rVXaeqzQZbQX3k0GS+xlrSwVpiTDx8haedWCHHA69uSf4uAP41Iuw0JphDpX7dc+e7c61dS6LgVdB98TOM8gE/+Zi93rEjeFkMo1+qo7ZAOGs7B6ostBRVtNlv29toLrFtJiGZtdEnMptxU6aElIUURGur99Vy/Rdp6q9FytVU3Rdm+aam2TWUiY00tpguNGPPPhJpm06EwuUhDIZ5zizhxyovGxCT4f3+E5P7+Z8/ycDIHKBXqwNPUsU9mXOVPWcu08tHAPY1LDVWOQ9CIdQ/N763VX46vjd1JMl1VybJb51VVKXQ0rWAcDVORZUS2yjuAba1194W0zUsmTbSU9J6tV4zgtBj9elxr08LTHPt8SZsKZ7WToSlnZq2HJNFa9bGv4SZg3LRh50JK1DQUGxJdEdfPyG6zY/GTXq32Vd1nSNO+YPC7RIPwiXOdq59gvMTeTHdy79XjJmV7GQnlAqFjznBtYRIVLCKQ2wHVXplP1eroaWnyAMsShDyoenO4AD4NSwxVjELWPtzrI3K6tJuS8XFXUy39wEAHb6lTY26ZLdGvm1VTHkoTpEl/yuLlU/n45mPrMq1FtthOaurbYfDPrpdAonEllzip2HAzjt5NfRLevSiSd8pGoQeb3mIal+axpzvxjCjzamkTqScX7FsrtKaeL06RJgQjwskpcJJSqZWslaq+uUbJ3G2y2ymryuRozrZ3gASejvAAQA1LFToagiMJTmOYy9VxMq4JdVquNqgiooIN/PSNEg5dtOT1x6w89GyEv0EdWiWcHnaNBRv+DqebdGudr217wF47JgvQ5qrh07S5cpuoowfWrrbC26OJtEL25SPQqUujwKh9Cmhzw7cdbf/E1ozPs2KF1VaifU2EGqe1TCcekw+SstNmlg3q0NRRHFvBs33TB7wGWY8B2UdREzTU+LDsZnLZtEcIrxjvVLyQn0Vsgv7xouwpTLaT7bwczlPC5idZzENxKEYggNT2pUkitUoSRYOrP4Zd8RohZ/H98aww169J3E4d785dzxcXWcD4JvzfEw5UI9uAQA1KFEGQgtGIdCQtEQdCQ321uTJfPx3damXW9ayQp+W9urulTLoNfnG0rnWqdwZFimbJmEW7aUDcTtL0uk7HiVczfeUgGNUlTfCbsRpzqC7o9ZFpyFmoblTM1ZQnC7G2Luo5Vyl3z8pFiGvenm2NEI+UzZvfS9pU2XDaVqvDPTheG+EAdr1OAElCHzSRlNaeS7dDh3O9p7ajbLfyhPNJIntlw3CsxTBP19oPZvxACjr/3qpCOAA+jUsMTYqE0ZC0pC0L886qO+q6lSq1I51Kk3qn66+ioAaNl4FT22IlSbIj0cmjFKetoJyA+DH0VDqUbm3uqsvKyJ2/V0KynxmfJpT++3c40N6kHDMkS6TbRdzPRYk2kKvsqqsymuHCew8bKaQr5NLvsUHUrBOGwK3kaIjL4lTB4aYlIl542Hd7wJYKpqxtGUEaUrSgtSj+ovQJ7WmKFVGYNt55lyUcAD+NSwxdiiLRkHTvtvzVc9NK1ir03qJS6Ue6cKQCkKFBTxK0/J682w7XVYIWJjeg3Gn8W7sK2rtxz7bc9lsQSr9gTBkw2dgTSkrs39lkNNUajP3VArNRlQDHCZnPrtRTFQrpT88hZ7KXKhiF2lObjz2HDaZmmbkY1WK1ChhOFkhXjbENJbmeLr4YB0J2AGokXKp8EviYlGSAAgmb84LvJs9lOsrzTDyhSSq1cAA/jUqjJIooe+LulLhFSXRKuZKnCUlVdQMf+rOOBGVDmMTD5qqrFFhKd4aSa+cnjD29yItmeOfYqI4qMYGqTG2xguSpkrc5amQavi1swTDDEpTCsuFSVXDu2hXLl2a5ZabpJUtM89TlHZqt7ZL1kOi+dqjAFIrsAllNkfDPI1vcjibBLIUlBRsQbWBXuXOxTAgRCQdAI/GtOzRQSQhYoMSvnCqQDdGo63lWSyrDjngUyUqdXZSk4XbbUJbydpNcVz98MtdMEk/SkjCXMSvPgD2NSyQ9kkLQqQjv2k5lS86ZEzUElF5H9x1vjZbLHenzrUq5tiGE0ZMLwU3ouFiLG307HOFzA6uRerbOriUnZNdHLXZ36cVpYIGYl1Qk3M45ManNj6cvfumSrRtQ6aZLoG4rj1by7bpLJpOyl99Ws6xsrEiBkCWpIqR7TRwM6ohbGVRWt5kZgCS/QtVZ/dWkXqrVEsX/P2swlCUDTbBuqCd1kordC8Zxu91U7njN5HTOzE24m6J2qFG/ZN7ZnDD2nSdG6P0R9zPD3zsS7XrE9N/tdrc59XBympPAQI1KeySFoSDoyDoUDoiDoSI925JzxnFdbTfFRUI/Ea+tdJuiUM4+6gjE+0QJVJxY59TFDmCVhbRtCO4ObLcPOGgXma0dN5ixXLyq9W6qQb8N2zNKL2xqsByunn009t1mU8NflCCcoFClFF1S1KioIsxmIpvbqq94vJrx8cFTA7RjOlJTuc+BiC4R3Me3/Ora6E1ZBlsehl60Pr5qUt+WlHkNtxlreLMyDgA/DUsNMZaEFz9JMlJnmp31jV1ms1u8lXPMxBe7ElSaIGcar5yEnlN+2mrGpYjQkbIvliu6ExVNNyeng1NFJpr8leOjSVNHM7fZglv2ll16E8MOym6juxcaKXXR9OVGEx2Pc5pSDZ1pprzbbDM2SXEc3yX4BSZjCMMkRtjAYRC1ANDkKK1XKbWI6yEtfeu+8Bb9yWWlYmWEVTUaM/WNbR33wVbd3K9IodBiuitSXgmpjWrYtDWPrNKVcO3gAD+NSww1lENg6MhaIg6EhoJ+kiG2ro1l0XKq64fknxXCMlXgicnAupkVOazjVVxi4EciVeSgTrpsaRY89jJpVMmG7wuqp9u6bDZlfdXJmw8qLeys8DmtI8aqG40yrIXEbrWqnronZLO95KKkyGgSkJHJyfM//EkjYbq1JWhpsbxtIiqiLxJPTzl0bi9e5Un3gF/TXri3avNEZHOyDyjQmZl1SukCjl99w7WYTUyWoC+Pk8M6z6ZBwD4NSwxNhobUkLQkF/Eqd+1Tny3rE4pN6y8kP+cSkPwBumuRTNRNqhTELciD090xQn0cL0H47rMjl0eOqiQqHp5+mPWswIvPqihVhZtiTxrcqhTsZq2iSIS5+vHKnIppyEYrjKoX5FRuBfiFKahpaO3iPaSYywU6wBQtO1gfkhKSoAYsQ2k72DobvUYv6pe9Hu9FSN2U9eO49ly+AEINSoMxAkkSOcuuMmTSpnG9FaqxMOpKKlTYWcctzaDkpJSojlKlS22Jo1WXqSk9jek9YpKrJPRY9avZZA0KgpgWj6yfOi03ftZ+cLQWo+Hujrjx3y1N8JJyl+/bP45LdNTVh24XXUduRdMr9dFNklDPbYenKKDXtUWqykqkzEwW+WuUUeeu5RiMLJaag7uGktjnbvUpAPRkqwRYxgAtm3GMsIY8mlxDFqPOggBMx9dJ5Ua4klADkPOPUqSELUcWz3yY0sEe8UOyaX811oZp05RiVkcAP41LCykSI6ExtKgdIgX9N8Kqtad+d1qtc3UvhkSU//qVf+m5Sxx5H64Xq0t1juzsaySBP62msRN9wVG0WOqOZHPFa1DWkwawK1WXfZO3tDJPSYhTY7ZjDB18tblC5nt6/D+uy3qieFrniDqPb0tnsWwEJCNV+WnvmzJFz7M7Zxy5/3v2AByqthZIV/jLdNnb1X5hZm86QlgwkNaascSZGbDZUcFBUIL8U4BKDUK9FsNC1QhbJT8/474S61U1Sc6rjeoj1/01a/F1X+g8/KUmINIRMmpFidK2T3qWInUxDuOpaAY4ceAU/EigXc996l1fomOnXcMnILJJQYnsXE5T5jgtf8t5Vq84aARdGzBxBoMSaiXRtp7Xdi/h6ByqRKsr8rUxm+pRftox0x4NuXlXkqyYEee78dtXagbU5ti8td6tT9V6h515Sq0b/OzLvE7s/5zBS53JAOHARw1ISxyPBKFAkCI9O51fjg49/qmS91ql76zirpT4HZeRDTDN4ABhsAfANIkaRgyTuEdxL1LOYAu6Mc7kU1C9zInFJynzzsbMP6Nk+K8TfsM/i4lhYsMeFXC10kL11VVRSIXOEcbLlAapM1LYiWXGgFRMoqdGkY1nele8+Er+36RbfyeZWqf8qw2+1XXmrJLVOa9ao2LON4KU21HRIWYQBqSl7JAm/hix6o0p1qWk+o+1b/0oxPk77tyvKqk9qOfl0W4wM/xcAEONRpImBMIlpV8yGe1ayZvzzNZrcvPOUskIqAhZHPGYnd3BkA2Zq8BKvBwZsccWamYu7ydshszNjjFcgWgr2BTioUTRq01aS/mtle0FBWRQUFNDQVkUFfNelcKCgqEnk/LuSMrdRpXza4bpPcxRQ1NTNJlfN7WM/Rm4YSATuAGzMyOeKV4Ydsh04zAAB8QQwp0AZPgwd9/cD4+Gw77+5H+PjMM/v76B8fHwHff3IZPj4Az+8IyfHwYe/v7h/4+DDP7+5P/Hw2Hff3B/j4bAz+/AAAF3m1vb3YAAABsbXZoZAAAAAAAAAAAAAAAAAAAA+gAAA9KAAEAAAEAAAAAAAAAAAAAAAABAAAAAAAAAAAAAAAAAAAAAQAAAAAAAAAAAAAAAAAAQAAAAAAAAAAAAAAAAAAAAAAAAAAAAAAAAAAAAAAAAAIAAAUJdHJhawAAAFx0a2hkAAAAAwAAAAAAAAAAAAAAAQAAAAAAAA9KAAAAAAAAAAAAAAABAQAAAAABAAAAAAAAAAAAAAAAAAAAAQAAAAAAAAAAAAAAAAAAQAAAAAAAAAAAAAAAAAAAJGVkdHMAAAAcZWxzdAAAAAAAAAABAAAPSQAABAAAAQAAAAAEgW1kaWEAAAAgbWRoZAAAAAAAAAAAAAAAAAAAu4AAAuHIVcQAAAAAAC1oZGxyAAAAAAAAAABzb3VuAAAAAAAAAAAAAAAAU291bmRIYW5kbGVyAAAABCxtaW5mAAAAEHNtaGQAAAAAAAAAAAAAACRkaW5mAAAAHGRyZWYAAAAAAAAAAQAAAAx1cmwgAAAAAQAAA/BzdGJsAAAAanN0c2QAAAAAAAAAAQAAAFptcDRhAAAAAAAAAAEAAAAAAAAAAAABABAAAAAAu4AAAAAAADZlc2RzAAAAAAOAgIAlAAEABICAgBdAFQAAAAABEJIAARCSBYCAgAURiFblAAaAgIABAgAAACBzdHRzAAAAAAAAAAIAAAC4AAAEAAAAAAEAAAHIAAAAHHN0c2MAAAAAAAAAAQAAAAEAAAC5AAAAAQAAAvhzdHN6AAAAAAAAAAAAAAC5AAABBQAAAP4AAADVAAAA0AAAAIUAAADWAAAA0wAAAMAAAADGAAAAqQAAAIUAAADXAAAAlgAAAKQAAADbAAAAxQAAAKUAAADEAAAAsQAAAKcAAACwAAAA0AAAAL0AAADGAAAAqAAAAKkAAACzAAAAxgAAALEAAACmAAAAxQAAANwAAACYAAAA2AAAAI0AAADnAAAAxAAAAJEAAADTAAAArAAAAMIAAACYAAAA0QAAAK0AAADEAAAA2gAAAJIAAACyAAAA5QAAAJAAAADGAAAAqwAAALAAAACzAAAAwgAAAKUAAADVAAAAqAAAAMgAAACxAAAAuAAAAL0AAACvAAAAvAAAAMEAAAC2AAAAwAAAAKcAAADBAAAAowAAAMAAAAC6AAAAwAAAALYAAACxAAAArAAAAL0AAADKAAAAtAAAAK0AAADFAAAArAAAAKoAAACyAAAA4wAAAKMAAACrAAAA5QAAAKoAAAEDAAAAiAAAALcAAAC4AAAArAAAALQAAADFAAAAlwAAANQAAADaAAAAxwAAAJEAAACyAAAAwgAAALcAAADNAAAAqAAAANoAAACOAAAAtAAAALoAAACyAAAAsAAAAM4AAADAAAAA6QAAAIAAAACtAAAAnQAAAJwAAAC4AAAAvQAAAK4AAADaAAAAsQAAALkAAADEAAAAtAAAALoAAACzAAAAswAAAKUAAADGAAABEgAAAI8AAACrAAAAvwAAAJ4AAAC3AAAAuQAAALYAAACzAAAAtgAAAK4AAACxAAAAtwAAANYAAAChAAAAzgAAAJwAAAD8AAAAqgAAAKIAAACuAAAAwQAAAL8AAADRAAAAqQAAAKIAAADmAAAAmAAAAKsAAADeAAAAoQAAALoAAAClAAAA6gAAAKoAAACiAAAAuwAAAJsAAAD2AAAAtgAAAKcAAACsAAAAzgAAANoAAACqAAAAvAAAALcAAACcAAAA1AAAAKoAAACvAAAAxwAAANEAAAAUc3RjbwAAAAAAAAABAAAALAAAABpzZ3BkAQAAAHJvbGwAAAACAAAAAf//AAAAHHNiZ3AAAAAAcm9sbAAAAAEAAAC5AAAAAQAAAGF1ZHRhAAAAWW1ldGEAAAAAAAAAIWhkbHIAAAAAAAAAAG1kaXJhcHBsAAAAAAAAAAAAAAAALGlsc3QAAAAkqXRvbwAAABxkYXRhAAAAAQAAAABMYXZmNjEuMS4xMDA=\" type=\"audio/mp4\" />\n",
              "                    Your browser does not support the audio element.\n",
              "                </audio>\n",
              "              "
            ]
          },
          "metadata": {},
          "execution_count": 24
        }
      ]
    },
    {
      "metadata": {
        "id": "Jvcbt_2PwT2W"
      },
      "cell_type": "markdown",
      "source": [
        "### Speech to Text"
      ]
    },
    {
      "metadata": {
        "id": "2cVgAIoRwT2W"
      },
      "cell_type": "markdown",
      "source": [
        "First of all tokenize the input values,take the maximum prediction from the logit and then extraxt the text"
      ]
    },
    {
      "metadata": {
        "trusted": true,
        "colab": {
          "base_uri": "https://localhost:8080/"
        },
        "id": "qajQPbR8wT2W",
        "outputId": "715472b9-6e09-4ba8-831c-ef90110e657f"
      },
      "cell_type": "code",
      "source": [
        "input_values = tokenizer(audio, return_tensors = 'pt').input_values\n",
        "input_values"
      ],
      "execution_count": null,
      "outputs": [
        {
          "output_type": "execute_result",
          "data": {
            "text/plain": [
              "tensor([[ 4.7878e-06, -2.4991e-04,  5.4335e-04,  ...,  6.5678e-04,\n",
              "          2.6827e-04,  4.6810e-04]])"
            ]
          },
          "metadata": {},
          "execution_count": 25
        }
      ]
    },
    {
      "metadata": {
        "trusted": true,
        "colab": {
          "base_uri": "https://localhost:8080/"
        },
        "id": "G5l9lVFlwT2X",
        "outputId": "fee4a580-4b67-499b-8b39-36cc004c5858"
      },
      "cell_type": "code",
      "source": [
        "# store logits (non-normalized predictions)\n",
        "logits = model(input_values).logits\n",
        "logits"
      ],
      "execution_count": null,
      "outputs": [
        {
          "output_type": "execute_result",
          "data": {
            "text/plain": [
              "tensor([[[ 13.5454, -26.9272, -26.6922,  ...,  -6.3552,  -6.4504,  -7.6013],\n",
              "         [ 13.5672, -27.0129, -26.7786,  ...,  -6.3625,  -6.4637,  -7.5776],\n",
              "         [ 14.0376, -27.2252, -26.9936,  ...,  -6.2225,  -6.3798,  -7.7601],\n",
              "         ...,\n",
              "         [  9.5905, -22.7072, -22.4734,  ...,  -5.6545,  -6.1188,  -7.3590],\n",
              "         [  9.9305, -22.5057, -22.2692,  ...,  -5.7600,  -6.2040,  -6.5669],\n",
              "         [ 10.8207, -22.8730, -22.6375,  ...,  -5.5668,  -5.9146,  -6.4621]]],\n",
              "       grad_fn=<ViewBackward0>)"
            ]
          },
          "metadata": {},
          "execution_count": 26
        }
      ]
    },
    {
      "metadata": {
        "trusted": true,
        "id": "Dt8rnN_4wT2X"
      },
      "cell_type": "code",
      "source": [
        "# store predicted id's\n",
        "# pass the logit values to softmax to get the predicted values\n",
        "predicted_ids = torch.argmax(logits, dim =-1)"
      ],
      "execution_count": null,
      "outputs": []
    },
    {
      "metadata": {
        "trusted": true,
        "id": "tWjJdyrcwT2X"
      },
      "cell_type": "code",
      "source": [
        "# pass the prediction to the tokenzer decode to get the transcription\n",
        "transcriptions = tokenizer.decode(predicted_ids[0])"
      ],
      "execution_count": null,
      "outputs": []
    },
    {
      "metadata": {
        "trusted": true,
        "colab": {
          "base_uri": "https://localhost:8080/",
          "height": 36
        },
        "id": "2D5vo4EEwT2X",
        "outputId": "a32894fb-dd54-4e51-eede-b14ba413dd48"
      },
      "cell_type": "code",
      "source": [
        "transcriptions"
      ],
      "execution_count": null,
      "outputs": [
        {
          "output_type": "execute_result",
          "data": {
            "text/plain": [
              "'DO WE WANT WHAT DO YOU WANT'"
            ],
            "application/vnd.google.colaboratory.intrinsic+json": {
              "type": "string"
            }
          },
          "metadata": {},
          "execution_count": 29
        }
      ]
    },
    {
      "cell_type": "code",
      "source": [],
      "metadata": {
        "id": "nD8XtepY8cO-"
      },
      "execution_count": null,
      "outputs": []
    }
  ],
  "metadata": {
    "kernelspec": {
      "display_name": "Python 3",
      "name": "python3"
    },
    "language_info": {
      "pygments_lexer": "ipython3",
      "nbconvert_exporter": "python",
      "version": "3.6.4",
      "file_extension": ".py",
      "codemirror_mode": {
        "name": "ipython",
        "version": 3
      },
      "name": "python",
      "mimetype": "text/x-python"
    },
    "colab": {
      "provenance": [],
      "gpuType": "T4",
      "toc_visible": true
    },
    "accelerator": "GPU",
    "widgets": {
      "application/vnd.jupyter.widget-state+json": {
        "5b2f7e08340e427ba5df26376d26616a": {
          "model_module": "@jupyter-widgets/controls",
          "model_name": "HBoxModel",
          "model_module_version": "1.5.0",
          "state": {
            "_dom_classes": [],
            "_model_module": "@jupyter-widgets/controls",
            "_model_module_version": "1.5.0",
            "_model_name": "HBoxModel",
            "_view_count": null,
            "_view_module": "@jupyter-widgets/controls",
            "_view_module_version": "1.5.0",
            "_view_name": "HBoxView",
            "box_style": "",
            "children": [
              "IPY_MODEL_55e9adb6417d47c78f365355242b9eab",
              "IPY_MODEL_6219417496ba458d804d0ecd66796ba9",
              "IPY_MODEL_a732a95c15cc4d58836ecabb22a78d50"
            ],
            "layout": "IPY_MODEL_12c0dc7598964530b3ae6292f5635a86"
          }
        },
        "55e9adb6417d47c78f365355242b9eab": {
          "model_module": "@jupyter-widgets/controls",
          "model_name": "HTMLModel",
          "model_module_version": "1.5.0",
          "state": {
            "_dom_classes": [],
            "_model_module": "@jupyter-widgets/controls",
            "_model_module_version": "1.5.0",
            "_model_name": "HTMLModel",
            "_view_count": null,
            "_view_module": "@jupyter-widgets/controls",
            "_view_module_version": "1.5.0",
            "_view_name": "HTMLView",
            "description": "",
            "description_tooltip": null,
            "layout": "IPY_MODEL_4e0ed397a38c430788f3a2f99a942d33",
            "placeholder": "​",
            "style": "IPY_MODEL_8896dfc6c8e94e4e8faffb7f113e8e8d",
            "value": "tokenizer_config.json: 100%"
          }
        },
        "6219417496ba458d804d0ecd66796ba9": {
          "model_module": "@jupyter-widgets/controls",
          "model_name": "FloatProgressModel",
          "model_module_version": "1.5.0",
          "state": {
            "_dom_classes": [],
            "_model_module": "@jupyter-widgets/controls",
            "_model_module_version": "1.5.0",
            "_model_name": "FloatProgressModel",
            "_view_count": null,
            "_view_module": "@jupyter-widgets/controls",
            "_view_module_version": "1.5.0",
            "_view_name": "ProgressView",
            "bar_style": "success",
            "description": "",
            "description_tooltip": null,
            "layout": "IPY_MODEL_ec509aad45cf4c948d71b633174abf1b",
            "max": 163,
            "min": 0,
            "orientation": "horizontal",
            "style": "IPY_MODEL_ddacab950cb849b29f9e6d79a3bd2e40",
            "value": 163
          }
        },
        "a732a95c15cc4d58836ecabb22a78d50": {
          "model_module": "@jupyter-widgets/controls",
          "model_name": "HTMLModel",
          "model_module_version": "1.5.0",
          "state": {
            "_dom_classes": [],
            "_model_module": "@jupyter-widgets/controls",
            "_model_module_version": "1.5.0",
            "_model_name": "HTMLModel",
            "_view_count": null,
            "_view_module": "@jupyter-widgets/controls",
            "_view_module_version": "1.5.0",
            "_view_name": "HTMLView",
            "description": "",
            "description_tooltip": null,
            "layout": "IPY_MODEL_3787367e990f476886e30b4a7902e7c5",
            "placeholder": "​",
            "style": "IPY_MODEL_10e3190d4e8248d981a721e768baae52",
            "value": " 163/163 [00:00&lt;00:00, 7.18kB/s]"
          }
        },
        "12c0dc7598964530b3ae6292f5635a86": {
          "model_module": "@jupyter-widgets/base",
          "model_name": "LayoutModel",
          "model_module_version": "1.2.0",
          "state": {
            "_model_module": "@jupyter-widgets/base",
            "_model_module_version": "1.2.0",
            "_model_name": "LayoutModel",
            "_view_count": null,
            "_view_module": "@jupyter-widgets/base",
            "_view_module_version": "1.2.0",
            "_view_name": "LayoutView",
            "align_content": null,
            "align_items": null,
            "align_self": null,
            "border": null,
            "bottom": null,
            "display": null,
            "flex": null,
            "flex_flow": null,
            "grid_area": null,
            "grid_auto_columns": null,
            "grid_auto_flow": null,
            "grid_auto_rows": null,
            "grid_column": null,
            "grid_gap": null,
            "grid_row": null,
            "grid_template_areas": null,
            "grid_template_columns": null,
            "grid_template_rows": null,
            "height": null,
            "justify_content": null,
            "justify_items": null,
            "left": null,
            "margin": null,
            "max_height": null,
            "max_width": null,
            "min_height": null,
            "min_width": null,
            "object_fit": null,
            "object_position": null,
            "order": null,
            "overflow": null,
            "overflow_x": null,
            "overflow_y": null,
            "padding": null,
            "right": null,
            "top": null,
            "visibility": null,
            "width": null
          }
        },
        "4e0ed397a38c430788f3a2f99a942d33": {
          "model_module": "@jupyter-widgets/base",
          "model_name": "LayoutModel",
          "model_module_version": "1.2.0",
          "state": {
            "_model_module": "@jupyter-widgets/base",
            "_model_module_version": "1.2.0",
            "_model_name": "LayoutModel",
            "_view_count": null,
            "_view_module": "@jupyter-widgets/base",
            "_view_module_version": "1.2.0",
            "_view_name": "LayoutView",
            "align_content": null,
            "align_items": null,
            "align_self": null,
            "border": null,
            "bottom": null,
            "display": null,
            "flex": null,
            "flex_flow": null,
            "grid_area": null,
            "grid_auto_columns": null,
            "grid_auto_flow": null,
            "grid_auto_rows": null,
            "grid_column": null,
            "grid_gap": null,
            "grid_row": null,
            "grid_template_areas": null,
            "grid_template_columns": null,
            "grid_template_rows": null,
            "height": null,
            "justify_content": null,
            "justify_items": null,
            "left": null,
            "margin": null,
            "max_height": null,
            "max_width": null,
            "min_height": null,
            "min_width": null,
            "object_fit": null,
            "object_position": null,
            "order": null,
            "overflow": null,
            "overflow_x": null,
            "overflow_y": null,
            "padding": null,
            "right": null,
            "top": null,
            "visibility": null,
            "width": null
          }
        },
        "8896dfc6c8e94e4e8faffb7f113e8e8d": {
          "model_module": "@jupyter-widgets/controls",
          "model_name": "DescriptionStyleModel",
          "model_module_version": "1.5.0",
          "state": {
            "_model_module": "@jupyter-widgets/controls",
            "_model_module_version": "1.5.0",
            "_model_name": "DescriptionStyleModel",
            "_view_count": null,
            "_view_module": "@jupyter-widgets/base",
            "_view_module_version": "1.2.0",
            "_view_name": "StyleView",
            "description_width": ""
          }
        },
        "ec509aad45cf4c948d71b633174abf1b": {
          "model_module": "@jupyter-widgets/base",
          "model_name": "LayoutModel",
          "model_module_version": "1.2.0",
          "state": {
            "_model_module": "@jupyter-widgets/base",
            "_model_module_version": "1.2.0",
            "_model_name": "LayoutModel",
            "_view_count": null,
            "_view_module": "@jupyter-widgets/base",
            "_view_module_version": "1.2.0",
            "_view_name": "LayoutView",
            "align_content": null,
            "align_items": null,
            "align_self": null,
            "border": null,
            "bottom": null,
            "display": null,
            "flex": null,
            "flex_flow": null,
            "grid_area": null,
            "grid_auto_columns": null,
            "grid_auto_flow": null,
            "grid_auto_rows": null,
            "grid_column": null,
            "grid_gap": null,
            "grid_row": null,
            "grid_template_areas": null,
            "grid_template_columns": null,
            "grid_template_rows": null,
            "height": null,
            "justify_content": null,
            "justify_items": null,
            "left": null,
            "margin": null,
            "max_height": null,
            "max_width": null,
            "min_height": null,
            "min_width": null,
            "object_fit": null,
            "object_position": null,
            "order": null,
            "overflow": null,
            "overflow_x": null,
            "overflow_y": null,
            "padding": null,
            "right": null,
            "top": null,
            "visibility": null,
            "width": null
          }
        },
        "ddacab950cb849b29f9e6d79a3bd2e40": {
          "model_module": "@jupyter-widgets/controls",
          "model_name": "ProgressStyleModel",
          "model_module_version": "1.5.0",
          "state": {
            "_model_module": "@jupyter-widgets/controls",
            "_model_module_version": "1.5.0",
            "_model_name": "ProgressStyleModel",
            "_view_count": null,
            "_view_module": "@jupyter-widgets/base",
            "_view_module_version": "1.2.0",
            "_view_name": "StyleView",
            "bar_color": null,
            "description_width": ""
          }
        },
        "3787367e990f476886e30b4a7902e7c5": {
          "model_module": "@jupyter-widgets/base",
          "model_name": "LayoutModel",
          "model_module_version": "1.2.0",
          "state": {
            "_model_module": "@jupyter-widgets/base",
            "_model_module_version": "1.2.0",
            "_model_name": "LayoutModel",
            "_view_count": null,
            "_view_module": "@jupyter-widgets/base",
            "_view_module_version": "1.2.0",
            "_view_name": "LayoutView",
            "align_content": null,
            "align_items": null,
            "align_self": null,
            "border": null,
            "bottom": null,
            "display": null,
            "flex": null,
            "flex_flow": null,
            "grid_area": null,
            "grid_auto_columns": null,
            "grid_auto_flow": null,
            "grid_auto_rows": null,
            "grid_column": null,
            "grid_gap": null,
            "grid_row": null,
            "grid_template_areas": null,
            "grid_template_columns": null,
            "grid_template_rows": null,
            "height": null,
            "justify_content": null,
            "justify_items": null,
            "left": null,
            "margin": null,
            "max_height": null,
            "max_width": null,
            "min_height": null,
            "min_width": null,
            "object_fit": null,
            "object_position": null,
            "order": null,
            "overflow": null,
            "overflow_x": null,
            "overflow_y": null,
            "padding": null,
            "right": null,
            "top": null,
            "visibility": null,
            "width": null
          }
        },
        "10e3190d4e8248d981a721e768baae52": {
          "model_module": "@jupyter-widgets/controls",
          "model_name": "DescriptionStyleModel",
          "model_module_version": "1.5.0",
          "state": {
            "_model_module": "@jupyter-widgets/controls",
            "_model_module_version": "1.5.0",
            "_model_name": "DescriptionStyleModel",
            "_view_count": null,
            "_view_module": "@jupyter-widgets/base",
            "_view_module_version": "1.2.0",
            "_view_name": "StyleView",
            "description_width": ""
          }
        },
        "57b8defaac18497698d0dfef8a25cb24": {
          "model_module": "@jupyter-widgets/controls",
          "model_name": "HBoxModel",
          "model_module_version": "1.5.0",
          "state": {
            "_dom_classes": [],
            "_model_module": "@jupyter-widgets/controls",
            "_model_module_version": "1.5.0",
            "_model_name": "HBoxModel",
            "_view_count": null,
            "_view_module": "@jupyter-widgets/controls",
            "_view_module_version": "1.5.0",
            "_view_name": "HBoxView",
            "box_style": "",
            "children": [
              "IPY_MODEL_920812e291d74885b4c87dac89ffa6a0",
              "IPY_MODEL_b2c884882016444f8f16ea191b953686",
              "IPY_MODEL_1fe022444dcd408e80857444642e2d9b"
            ],
            "layout": "IPY_MODEL_4a136e5e4f394f20883525021d5b15e1"
          }
        },
        "920812e291d74885b4c87dac89ffa6a0": {
          "model_module": "@jupyter-widgets/controls",
          "model_name": "HTMLModel",
          "model_module_version": "1.5.0",
          "state": {
            "_dom_classes": [],
            "_model_module": "@jupyter-widgets/controls",
            "_model_module_version": "1.5.0",
            "_model_name": "HTMLModel",
            "_view_count": null,
            "_view_module": "@jupyter-widgets/controls",
            "_view_module_version": "1.5.0",
            "_view_name": "HTMLView",
            "description": "",
            "description_tooltip": null,
            "layout": "IPY_MODEL_1a4c7774f08746009e7a618197b29866",
            "placeholder": "​",
            "style": "IPY_MODEL_768345e92a9b4a0c9e663d3c6e0472f0",
            "value": "vocab.json: 100%"
          }
        },
        "b2c884882016444f8f16ea191b953686": {
          "model_module": "@jupyter-widgets/controls",
          "model_name": "FloatProgressModel",
          "model_module_version": "1.5.0",
          "state": {
            "_dom_classes": [],
            "_model_module": "@jupyter-widgets/controls",
            "_model_module_version": "1.5.0",
            "_model_name": "FloatProgressModel",
            "_view_count": null,
            "_view_module": "@jupyter-widgets/controls",
            "_view_module_version": "1.5.0",
            "_view_name": "ProgressView",
            "bar_style": "success",
            "description": "",
            "description_tooltip": null,
            "layout": "IPY_MODEL_f959cd5d96cc43338ed9cd69d95ce587",
            "max": 291,
            "min": 0,
            "orientation": "horizontal",
            "style": "IPY_MODEL_e97734b616834d1fa1c59304fa78afd5",
            "value": 291
          }
        },
        "1fe022444dcd408e80857444642e2d9b": {
          "model_module": "@jupyter-widgets/controls",
          "model_name": "HTMLModel",
          "model_module_version": "1.5.0",
          "state": {
            "_dom_classes": [],
            "_model_module": "@jupyter-widgets/controls",
            "_model_module_version": "1.5.0",
            "_model_name": "HTMLModel",
            "_view_count": null,
            "_view_module": "@jupyter-widgets/controls",
            "_view_module_version": "1.5.0",
            "_view_name": "HTMLView",
            "description": "",
            "description_tooltip": null,
            "layout": "IPY_MODEL_d98d5053a0c24754ae7e59b3130ddace",
            "placeholder": "​",
            "style": "IPY_MODEL_60b328f4bbd54af997c63ab71a447373",
            "value": " 291/291 [00:00&lt;00:00, 15.3kB/s]"
          }
        },
        "4a136e5e4f394f20883525021d5b15e1": {
          "model_module": "@jupyter-widgets/base",
          "model_name": "LayoutModel",
          "model_module_version": "1.2.0",
          "state": {
            "_model_module": "@jupyter-widgets/base",
            "_model_module_version": "1.2.0",
            "_model_name": "LayoutModel",
            "_view_count": null,
            "_view_module": "@jupyter-widgets/base",
            "_view_module_version": "1.2.0",
            "_view_name": "LayoutView",
            "align_content": null,
            "align_items": null,
            "align_self": null,
            "border": null,
            "bottom": null,
            "display": null,
            "flex": null,
            "flex_flow": null,
            "grid_area": null,
            "grid_auto_columns": null,
            "grid_auto_flow": null,
            "grid_auto_rows": null,
            "grid_column": null,
            "grid_gap": null,
            "grid_row": null,
            "grid_template_areas": null,
            "grid_template_columns": null,
            "grid_template_rows": null,
            "height": null,
            "justify_content": null,
            "justify_items": null,
            "left": null,
            "margin": null,
            "max_height": null,
            "max_width": null,
            "min_height": null,
            "min_width": null,
            "object_fit": null,
            "object_position": null,
            "order": null,
            "overflow": null,
            "overflow_x": null,
            "overflow_y": null,
            "padding": null,
            "right": null,
            "top": null,
            "visibility": null,
            "width": null
          }
        },
        "1a4c7774f08746009e7a618197b29866": {
          "model_module": "@jupyter-widgets/base",
          "model_name": "LayoutModel",
          "model_module_version": "1.2.0",
          "state": {
            "_model_module": "@jupyter-widgets/base",
            "_model_module_version": "1.2.0",
            "_model_name": "LayoutModel",
            "_view_count": null,
            "_view_module": "@jupyter-widgets/base",
            "_view_module_version": "1.2.0",
            "_view_name": "LayoutView",
            "align_content": null,
            "align_items": null,
            "align_self": null,
            "border": null,
            "bottom": null,
            "display": null,
            "flex": null,
            "flex_flow": null,
            "grid_area": null,
            "grid_auto_columns": null,
            "grid_auto_flow": null,
            "grid_auto_rows": null,
            "grid_column": null,
            "grid_gap": null,
            "grid_row": null,
            "grid_template_areas": null,
            "grid_template_columns": null,
            "grid_template_rows": null,
            "height": null,
            "justify_content": null,
            "justify_items": null,
            "left": null,
            "margin": null,
            "max_height": null,
            "max_width": null,
            "min_height": null,
            "min_width": null,
            "object_fit": null,
            "object_position": null,
            "order": null,
            "overflow": null,
            "overflow_x": null,
            "overflow_y": null,
            "padding": null,
            "right": null,
            "top": null,
            "visibility": null,
            "width": null
          }
        },
        "768345e92a9b4a0c9e663d3c6e0472f0": {
          "model_module": "@jupyter-widgets/controls",
          "model_name": "DescriptionStyleModel",
          "model_module_version": "1.5.0",
          "state": {
            "_model_module": "@jupyter-widgets/controls",
            "_model_module_version": "1.5.0",
            "_model_name": "DescriptionStyleModel",
            "_view_count": null,
            "_view_module": "@jupyter-widgets/base",
            "_view_module_version": "1.2.0",
            "_view_name": "StyleView",
            "description_width": ""
          }
        },
        "f959cd5d96cc43338ed9cd69d95ce587": {
          "model_module": "@jupyter-widgets/base",
          "model_name": "LayoutModel",
          "model_module_version": "1.2.0",
          "state": {
            "_model_module": "@jupyter-widgets/base",
            "_model_module_version": "1.2.0",
            "_model_name": "LayoutModel",
            "_view_count": null,
            "_view_module": "@jupyter-widgets/base",
            "_view_module_version": "1.2.0",
            "_view_name": "LayoutView",
            "align_content": null,
            "align_items": null,
            "align_self": null,
            "border": null,
            "bottom": null,
            "display": null,
            "flex": null,
            "flex_flow": null,
            "grid_area": null,
            "grid_auto_columns": null,
            "grid_auto_flow": null,
            "grid_auto_rows": null,
            "grid_column": null,
            "grid_gap": null,
            "grid_row": null,
            "grid_template_areas": null,
            "grid_template_columns": null,
            "grid_template_rows": null,
            "height": null,
            "justify_content": null,
            "justify_items": null,
            "left": null,
            "margin": null,
            "max_height": null,
            "max_width": null,
            "min_height": null,
            "min_width": null,
            "object_fit": null,
            "object_position": null,
            "order": null,
            "overflow": null,
            "overflow_x": null,
            "overflow_y": null,
            "padding": null,
            "right": null,
            "top": null,
            "visibility": null,
            "width": null
          }
        },
        "e97734b616834d1fa1c59304fa78afd5": {
          "model_module": "@jupyter-widgets/controls",
          "model_name": "ProgressStyleModel",
          "model_module_version": "1.5.0",
          "state": {
            "_model_module": "@jupyter-widgets/controls",
            "_model_module_version": "1.5.0",
            "_model_name": "ProgressStyleModel",
            "_view_count": null,
            "_view_module": "@jupyter-widgets/base",
            "_view_module_version": "1.2.0",
            "_view_name": "StyleView",
            "bar_color": null,
            "description_width": ""
          }
        },
        "d98d5053a0c24754ae7e59b3130ddace": {
          "model_module": "@jupyter-widgets/base",
          "model_name": "LayoutModel",
          "model_module_version": "1.2.0",
          "state": {
            "_model_module": "@jupyter-widgets/base",
            "_model_module_version": "1.2.0",
            "_model_name": "LayoutModel",
            "_view_count": null,
            "_view_module": "@jupyter-widgets/base",
            "_view_module_version": "1.2.0",
            "_view_name": "LayoutView",
            "align_content": null,
            "align_items": null,
            "align_self": null,
            "border": null,
            "bottom": null,
            "display": null,
            "flex": null,
            "flex_flow": null,
            "grid_area": null,
            "grid_auto_columns": null,
            "grid_auto_flow": null,
            "grid_auto_rows": null,
            "grid_column": null,
            "grid_gap": null,
            "grid_row": null,
            "grid_template_areas": null,
            "grid_template_columns": null,
            "grid_template_rows": null,
            "height": null,
            "justify_content": null,
            "justify_items": null,
            "left": null,
            "margin": null,
            "max_height": null,
            "max_width": null,
            "min_height": null,
            "min_width": null,
            "object_fit": null,
            "object_position": null,
            "order": null,
            "overflow": null,
            "overflow_x": null,
            "overflow_y": null,
            "padding": null,
            "right": null,
            "top": null,
            "visibility": null,
            "width": null
          }
        },
        "60b328f4bbd54af997c63ab71a447373": {
          "model_module": "@jupyter-widgets/controls",
          "model_name": "DescriptionStyleModel",
          "model_module_version": "1.5.0",
          "state": {
            "_model_module": "@jupyter-widgets/controls",
            "_model_module_version": "1.5.0",
            "_model_name": "DescriptionStyleModel",
            "_view_count": null,
            "_view_module": "@jupyter-widgets/base",
            "_view_module_version": "1.2.0",
            "_view_name": "StyleView",
            "description_width": ""
          }
        },
        "4fe1663d33fc428297d458c0246d45cd": {
          "model_module": "@jupyter-widgets/controls",
          "model_name": "HBoxModel",
          "model_module_version": "1.5.0",
          "state": {
            "_dom_classes": [],
            "_model_module": "@jupyter-widgets/controls",
            "_model_module_version": "1.5.0",
            "_model_name": "HBoxModel",
            "_view_count": null,
            "_view_module": "@jupyter-widgets/controls",
            "_view_module_version": "1.5.0",
            "_view_name": "HBoxView",
            "box_style": "",
            "children": [
              "IPY_MODEL_6e0085c0eec7485fa3fab52bb86cfc25",
              "IPY_MODEL_f82cb6cfba9f464999b6e916a6ee26a3",
              "IPY_MODEL_6eaeaa9a7ae546699e51fd2465ae2ba4"
            ],
            "layout": "IPY_MODEL_b86cffbda480468ca87661036585638e"
          }
        },
        "6e0085c0eec7485fa3fab52bb86cfc25": {
          "model_module": "@jupyter-widgets/controls",
          "model_name": "HTMLModel",
          "model_module_version": "1.5.0",
          "state": {
            "_dom_classes": [],
            "_model_module": "@jupyter-widgets/controls",
            "_model_module_version": "1.5.0",
            "_model_name": "HTMLModel",
            "_view_count": null,
            "_view_module": "@jupyter-widgets/controls",
            "_view_module_version": "1.5.0",
            "_view_name": "HTMLView",
            "description": "",
            "description_tooltip": null,
            "layout": "IPY_MODEL_0edc4145381c4d6ab9677f861468300f",
            "placeholder": "​",
            "style": "IPY_MODEL_6c3c2f695f214c84bef9cd91ef7937aa",
            "value": "special_tokens_map.json: 100%"
          }
        },
        "f82cb6cfba9f464999b6e916a6ee26a3": {
          "model_module": "@jupyter-widgets/controls",
          "model_name": "FloatProgressModel",
          "model_module_version": "1.5.0",
          "state": {
            "_dom_classes": [],
            "_model_module": "@jupyter-widgets/controls",
            "_model_module_version": "1.5.0",
            "_model_name": "FloatProgressModel",
            "_view_count": null,
            "_view_module": "@jupyter-widgets/controls",
            "_view_module_version": "1.5.0",
            "_view_name": "ProgressView",
            "bar_style": "success",
            "description": "",
            "description_tooltip": null,
            "layout": "IPY_MODEL_b2e5d448c54844918b9aa99b2ace0b94",
            "max": 85,
            "min": 0,
            "orientation": "horizontal",
            "style": "IPY_MODEL_27a02905835c44a68aee4b16dbdc6096",
            "value": 85
          }
        },
        "6eaeaa9a7ae546699e51fd2465ae2ba4": {
          "model_module": "@jupyter-widgets/controls",
          "model_name": "HTMLModel",
          "model_module_version": "1.5.0",
          "state": {
            "_dom_classes": [],
            "_model_module": "@jupyter-widgets/controls",
            "_model_module_version": "1.5.0",
            "_model_name": "HTMLModel",
            "_view_count": null,
            "_view_module": "@jupyter-widgets/controls",
            "_view_module_version": "1.5.0",
            "_view_name": "HTMLView",
            "description": "",
            "description_tooltip": null,
            "layout": "IPY_MODEL_a7cf45a9490d418198017bac27f755eb",
            "placeholder": "​",
            "style": "IPY_MODEL_af156c2efc02422cab1fa2db620f4fd1",
            "value": " 85.0/85.0 [00:00&lt;00:00, 5.86kB/s]"
          }
        },
        "b86cffbda480468ca87661036585638e": {
          "model_module": "@jupyter-widgets/base",
          "model_name": "LayoutModel",
          "model_module_version": "1.2.0",
          "state": {
            "_model_module": "@jupyter-widgets/base",
            "_model_module_version": "1.2.0",
            "_model_name": "LayoutModel",
            "_view_count": null,
            "_view_module": "@jupyter-widgets/base",
            "_view_module_version": "1.2.0",
            "_view_name": "LayoutView",
            "align_content": null,
            "align_items": null,
            "align_self": null,
            "border": null,
            "bottom": null,
            "display": null,
            "flex": null,
            "flex_flow": null,
            "grid_area": null,
            "grid_auto_columns": null,
            "grid_auto_flow": null,
            "grid_auto_rows": null,
            "grid_column": null,
            "grid_gap": null,
            "grid_row": null,
            "grid_template_areas": null,
            "grid_template_columns": null,
            "grid_template_rows": null,
            "height": null,
            "justify_content": null,
            "justify_items": null,
            "left": null,
            "margin": null,
            "max_height": null,
            "max_width": null,
            "min_height": null,
            "min_width": null,
            "object_fit": null,
            "object_position": null,
            "order": null,
            "overflow": null,
            "overflow_x": null,
            "overflow_y": null,
            "padding": null,
            "right": null,
            "top": null,
            "visibility": null,
            "width": null
          }
        },
        "0edc4145381c4d6ab9677f861468300f": {
          "model_module": "@jupyter-widgets/base",
          "model_name": "LayoutModel",
          "model_module_version": "1.2.0",
          "state": {
            "_model_module": "@jupyter-widgets/base",
            "_model_module_version": "1.2.0",
            "_model_name": "LayoutModel",
            "_view_count": null,
            "_view_module": "@jupyter-widgets/base",
            "_view_module_version": "1.2.0",
            "_view_name": "LayoutView",
            "align_content": null,
            "align_items": null,
            "align_self": null,
            "border": null,
            "bottom": null,
            "display": null,
            "flex": null,
            "flex_flow": null,
            "grid_area": null,
            "grid_auto_columns": null,
            "grid_auto_flow": null,
            "grid_auto_rows": null,
            "grid_column": null,
            "grid_gap": null,
            "grid_row": null,
            "grid_template_areas": null,
            "grid_template_columns": null,
            "grid_template_rows": null,
            "height": null,
            "justify_content": null,
            "justify_items": null,
            "left": null,
            "margin": null,
            "max_height": null,
            "max_width": null,
            "min_height": null,
            "min_width": null,
            "object_fit": null,
            "object_position": null,
            "order": null,
            "overflow": null,
            "overflow_x": null,
            "overflow_y": null,
            "padding": null,
            "right": null,
            "top": null,
            "visibility": null,
            "width": null
          }
        },
        "6c3c2f695f214c84bef9cd91ef7937aa": {
          "model_module": "@jupyter-widgets/controls",
          "model_name": "DescriptionStyleModel",
          "model_module_version": "1.5.0",
          "state": {
            "_model_module": "@jupyter-widgets/controls",
            "_model_module_version": "1.5.0",
            "_model_name": "DescriptionStyleModel",
            "_view_count": null,
            "_view_module": "@jupyter-widgets/base",
            "_view_module_version": "1.2.0",
            "_view_name": "StyleView",
            "description_width": ""
          }
        },
        "b2e5d448c54844918b9aa99b2ace0b94": {
          "model_module": "@jupyter-widgets/base",
          "model_name": "LayoutModel",
          "model_module_version": "1.2.0",
          "state": {
            "_model_module": "@jupyter-widgets/base",
            "_model_module_version": "1.2.0",
            "_model_name": "LayoutModel",
            "_view_count": null,
            "_view_module": "@jupyter-widgets/base",
            "_view_module_version": "1.2.0",
            "_view_name": "LayoutView",
            "align_content": null,
            "align_items": null,
            "align_self": null,
            "border": null,
            "bottom": null,
            "display": null,
            "flex": null,
            "flex_flow": null,
            "grid_area": null,
            "grid_auto_columns": null,
            "grid_auto_flow": null,
            "grid_auto_rows": null,
            "grid_column": null,
            "grid_gap": null,
            "grid_row": null,
            "grid_template_areas": null,
            "grid_template_columns": null,
            "grid_template_rows": null,
            "height": null,
            "justify_content": null,
            "justify_items": null,
            "left": null,
            "margin": null,
            "max_height": null,
            "max_width": null,
            "min_height": null,
            "min_width": null,
            "object_fit": null,
            "object_position": null,
            "order": null,
            "overflow": null,
            "overflow_x": null,
            "overflow_y": null,
            "padding": null,
            "right": null,
            "top": null,
            "visibility": null,
            "width": null
          }
        },
        "27a02905835c44a68aee4b16dbdc6096": {
          "model_module": "@jupyter-widgets/controls",
          "model_name": "ProgressStyleModel",
          "model_module_version": "1.5.0",
          "state": {
            "_model_module": "@jupyter-widgets/controls",
            "_model_module_version": "1.5.0",
            "_model_name": "ProgressStyleModel",
            "_view_count": null,
            "_view_module": "@jupyter-widgets/base",
            "_view_module_version": "1.2.0",
            "_view_name": "StyleView",
            "bar_color": null,
            "description_width": ""
          }
        },
        "a7cf45a9490d418198017bac27f755eb": {
          "model_module": "@jupyter-widgets/base",
          "model_name": "LayoutModel",
          "model_module_version": "1.2.0",
          "state": {
            "_model_module": "@jupyter-widgets/base",
            "_model_module_version": "1.2.0",
            "_model_name": "LayoutModel",
            "_view_count": null,
            "_view_module": "@jupyter-widgets/base",
            "_view_module_version": "1.2.0",
            "_view_name": "LayoutView",
            "align_content": null,
            "align_items": null,
            "align_self": null,
            "border": null,
            "bottom": null,
            "display": null,
            "flex": null,
            "flex_flow": null,
            "grid_area": null,
            "grid_auto_columns": null,
            "grid_auto_flow": null,
            "grid_auto_rows": null,
            "grid_column": null,
            "grid_gap": null,
            "grid_row": null,
            "grid_template_areas": null,
            "grid_template_columns": null,
            "grid_template_rows": null,
            "height": null,
            "justify_content": null,
            "justify_items": null,
            "left": null,
            "margin": null,
            "max_height": null,
            "max_width": null,
            "min_height": null,
            "min_width": null,
            "object_fit": null,
            "object_position": null,
            "order": null,
            "overflow": null,
            "overflow_x": null,
            "overflow_y": null,
            "padding": null,
            "right": null,
            "top": null,
            "visibility": null,
            "width": null
          }
        },
        "af156c2efc02422cab1fa2db620f4fd1": {
          "model_module": "@jupyter-widgets/controls",
          "model_name": "DescriptionStyleModel",
          "model_module_version": "1.5.0",
          "state": {
            "_model_module": "@jupyter-widgets/controls",
            "_model_module_version": "1.5.0",
            "_model_name": "DescriptionStyleModel",
            "_view_count": null,
            "_view_module": "@jupyter-widgets/base",
            "_view_module_version": "1.2.0",
            "_view_name": "StyleView",
            "description_width": ""
          }
        },
        "986a39d5d72b4f2db472b947468cb2d7": {
          "model_module": "@jupyter-widgets/controls",
          "model_name": "HBoxModel",
          "model_module_version": "1.5.0",
          "state": {
            "_dom_classes": [],
            "_model_module": "@jupyter-widgets/controls",
            "_model_module_version": "1.5.0",
            "_model_name": "HBoxModel",
            "_view_count": null,
            "_view_module": "@jupyter-widgets/controls",
            "_view_module_version": "1.5.0",
            "_view_name": "HBoxView",
            "box_style": "",
            "children": [
              "IPY_MODEL_b1d9313dde4d4f6a90e68432813e8689",
              "IPY_MODEL_8d4929a297944bc8b32bf986cc6caa8c",
              "IPY_MODEL_a687f7ea7bee4f0b8a6a3077f86ec7a0"
            ],
            "layout": "IPY_MODEL_c5a99076d91f459c8228f351efa7f3f8"
          }
        },
        "b1d9313dde4d4f6a90e68432813e8689": {
          "model_module": "@jupyter-widgets/controls",
          "model_name": "HTMLModel",
          "model_module_version": "1.5.0",
          "state": {
            "_dom_classes": [],
            "_model_module": "@jupyter-widgets/controls",
            "_model_module_version": "1.5.0",
            "_model_name": "HTMLModel",
            "_view_count": null,
            "_view_module": "@jupyter-widgets/controls",
            "_view_module_version": "1.5.0",
            "_view_name": "HTMLView",
            "description": "",
            "description_tooltip": null,
            "layout": "IPY_MODEL_6fd657a8ad144ba7ac10017ac48a74ed",
            "placeholder": "​",
            "style": "IPY_MODEL_e8b3be4148f645a58c6156080a01415f",
            "value": "config.json: "
          }
        },
        "8d4929a297944bc8b32bf986cc6caa8c": {
          "model_module": "@jupyter-widgets/controls",
          "model_name": "FloatProgressModel",
          "model_module_version": "1.5.0",
          "state": {
            "_dom_classes": [],
            "_model_module": "@jupyter-widgets/controls",
            "_model_module_version": "1.5.0",
            "_model_name": "FloatProgressModel",
            "_view_count": null,
            "_view_module": "@jupyter-widgets/controls",
            "_view_module_version": "1.5.0",
            "_view_name": "ProgressView",
            "bar_style": "success",
            "description": "",
            "description_tooltip": null,
            "layout": "IPY_MODEL_ad93cdc66eca4c95bbf696262f3a2347",
            "max": 1,
            "min": 0,
            "orientation": "horizontal",
            "style": "IPY_MODEL_0823df56effa4077b5c710ca61236537",
            "value": 1
          }
        },
        "a687f7ea7bee4f0b8a6a3077f86ec7a0": {
          "model_module": "@jupyter-widgets/controls",
          "model_name": "HTMLModel",
          "model_module_version": "1.5.0",
          "state": {
            "_dom_classes": [],
            "_model_module": "@jupyter-widgets/controls",
            "_model_module_version": "1.5.0",
            "_model_name": "HTMLModel",
            "_view_count": null,
            "_view_module": "@jupyter-widgets/controls",
            "_view_module_version": "1.5.0",
            "_view_name": "HTMLView",
            "description": "",
            "description_tooltip": null,
            "layout": "IPY_MODEL_a4340013d1ca4600b21b50ab9a632b31",
            "placeholder": "​",
            "style": "IPY_MODEL_3770752568fd4d7bbfade6a8c4404126",
            "value": " 1.60k/? [00:00&lt;00:00, 101kB/s]"
          }
        },
        "c5a99076d91f459c8228f351efa7f3f8": {
          "model_module": "@jupyter-widgets/base",
          "model_name": "LayoutModel",
          "model_module_version": "1.2.0",
          "state": {
            "_model_module": "@jupyter-widgets/base",
            "_model_module_version": "1.2.0",
            "_model_name": "LayoutModel",
            "_view_count": null,
            "_view_module": "@jupyter-widgets/base",
            "_view_module_version": "1.2.0",
            "_view_name": "LayoutView",
            "align_content": null,
            "align_items": null,
            "align_self": null,
            "border": null,
            "bottom": null,
            "display": null,
            "flex": null,
            "flex_flow": null,
            "grid_area": null,
            "grid_auto_columns": null,
            "grid_auto_flow": null,
            "grid_auto_rows": null,
            "grid_column": null,
            "grid_gap": null,
            "grid_row": null,
            "grid_template_areas": null,
            "grid_template_columns": null,
            "grid_template_rows": null,
            "height": null,
            "justify_content": null,
            "justify_items": null,
            "left": null,
            "margin": null,
            "max_height": null,
            "max_width": null,
            "min_height": null,
            "min_width": null,
            "object_fit": null,
            "object_position": null,
            "order": null,
            "overflow": null,
            "overflow_x": null,
            "overflow_y": null,
            "padding": null,
            "right": null,
            "top": null,
            "visibility": null,
            "width": null
          }
        },
        "6fd657a8ad144ba7ac10017ac48a74ed": {
          "model_module": "@jupyter-widgets/base",
          "model_name": "LayoutModel",
          "model_module_version": "1.2.0",
          "state": {
            "_model_module": "@jupyter-widgets/base",
            "_model_module_version": "1.2.0",
            "_model_name": "LayoutModel",
            "_view_count": null,
            "_view_module": "@jupyter-widgets/base",
            "_view_module_version": "1.2.0",
            "_view_name": "LayoutView",
            "align_content": null,
            "align_items": null,
            "align_self": null,
            "border": null,
            "bottom": null,
            "display": null,
            "flex": null,
            "flex_flow": null,
            "grid_area": null,
            "grid_auto_columns": null,
            "grid_auto_flow": null,
            "grid_auto_rows": null,
            "grid_column": null,
            "grid_gap": null,
            "grid_row": null,
            "grid_template_areas": null,
            "grid_template_columns": null,
            "grid_template_rows": null,
            "height": null,
            "justify_content": null,
            "justify_items": null,
            "left": null,
            "margin": null,
            "max_height": null,
            "max_width": null,
            "min_height": null,
            "min_width": null,
            "object_fit": null,
            "object_position": null,
            "order": null,
            "overflow": null,
            "overflow_x": null,
            "overflow_y": null,
            "padding": null,
            "right": null,
            "top": null,
            "visibility": null,
            "width": null
          }
        },
        "e8b3be4148f645a58c6156080a01415f": {
          "model_module": "@jupyter-widgets/controls",
          "model_name": "DescriptionStyleModel",
          "model_module_version": "1.5.0",
          "state": {
            "_model_module": "@jupyter-widgets/controls",
            "_model_module_version": "1.5.0",
            "_model_name": "DescriptionStyleModel",
            "_view_count": null,
            "_view_module": "@jupyter-widgets/base",
            "_view_module_version": "1.2.0",
            "_view_name": "StyleView",
            "description_width": ""
          }
        },
        "ad93cdc66eca4c95bbf696262f3a2347": {
          "model_module": "@jupyter-widgets/base",
          "model_name": "LayoutModel",
          "model_module_version": "1.2.0",
          "state": {
            "_model_module": "@jupyter-widgets/base",
            "_model_module_version": "1.2.0",
            "_model_name": "LayoutModel",
            "_view_count": null,
            "_view_module": "@jupyter-widgets/base",
            "_view_module_version": "1.2.0",
            "_view_name": "LayoutView",
            "align_content": null,
            "align_items": null,
            "align_self": null,
            "border": null,
            "bottom": null,
            "display": null,
            "flex": null,
            "flex_flow": null,
            "grid_area": null,
            "grid_auto_columns": null,
            "grid_auto_flow": null,
            "grid_auto_rows": null,
            "grid_column": null,
            "grid_gap": null,
            "grid_row": null,
            "grid_template_areas": null,
            "grid_template_columns": null,
            "grid_template_rows": null,
            "height": null,
            "justify_content": null,
            "justify_items": null,
            "left": null,
            "margin": null,
            "max_height": null,
            "max_width": null,
            "min_height": null,
            "min_width": null,
            "object_fit": null,
            "object_position": null,
            "order": null,
            "overflow": null,
            "overflow_x": null,
            "overflow_y": null,
            "padding": null,
            "right": null,
            "top": null,
            "visibility": null,
            "width": "20px"
          }
        },
        "0823df56effa4077b5c710ca61236537": {
          "model_module": "@jupyter-widgets/controls",
          "model_name": "ProgressStyleModel",
          "model_module_version": "1.5.0",
          "state": {
            "_model_module": "@jupyter-widgets/controls",
            "_model_module_version": "1.5.0",
            "_model_name": "ProgressStyleModel",
            "_view_count": null,
            "_view_module": "@jupyter-widgets/base",
            "_view_module_version": "1.2.0",
            "_view_name": "StyleView",
            "bar_color": null,
            "description_width": ""
          }
        },
        "a4340013d1ca4600b21b50ab9a632b31": {
          "model_module": "@jupyter-widgets/base",
          "model_name": "LayoutModel",
          "model_module_version": "1.2.0",
          "state": {
            "_model_module": "@jupyter-widgets/base",
            "_model_module_version": "1.2.0",
            "_model_name": "LayoutModel",
            "_view_count": null,
            "_view_module": "@jupyter-widgets/base",
            "_view_module_version": "1.2.0",
            "_view_name": "LayoutView",
            "align_content": null,
            "align_items": null,
            "align_self": null,
            "border": null,
            "bottom": null,
            "display": null,
            "flex": null,
            "flex_flow": null,
            "grid_area": null,
            "grid_auto_columns": null,
            "grid_auto_flow": null,
            "grid_auto_rows": null,
            "grid_column": null,
            "grid_gap": null,
            "grid_row": null,
            "grid_template_areas": null,
            "grid_template_columns": null,
            "grid_template_rows": null,
            "height": null,
            "justify_content": null,
            "justify_items": null,
            "left": null,
            "margin": null,
            "max_height": null,
            "max_width": null,
            "min_height": null,
            "min_width": null,
            "object_fit": null,
            "object_position": null,
            "order": null,
            "overflow": null,
            "overflow_x": null,
            "overflow_y": null,
            "padding": null,
            "right": null,
            "top": null,
            "visibility": null,
            "width": null
          }
        },
        "3770752568fd4d7bbfade6a8c4404126": {
          "model_module": "@jupyter-widgets/controls",
          "model_name": "DescriptionStyleModel",
          "model_module_version": "1.5.0",
          "state": {
            "_model_module": "@jupyter-widgets/controls",
            "_model_module_version": "1.5.0",
            "_model_name": "DescriptionStyleModel",
            "_view_count": null,
            "_view_module": "@jupyter-widgets/base",
            "_view_module_version": "1.2.0",
            "_view_name": "StyleView",
            "description_width": ""
          }
        },
        "61e4b82111354add864538b886588f2a": {
          "model_module": "@jupyter-widgets/controls",
          "model_name": "HBoxModel",
          "model_module_version": "1.5.0",
          "state": {
            "_dom_classes": [],
            "_model_module": "@jupyter-widgets/controls",
            "_model_module_version": "1.5.0",
            "_model_name": "HBoxModel",
            "_view_count": null,
            "_view_module": "@jupyter-widgets/controls",
            "_view_module_version": "1.5.0",
            "_view_name": "HBoxView",
            "box_style": "",
            "children": [
              "IPY_MODEL_f4eab0da795c41c8902a76d91506d1c9",
              "IPY_MODEL_c1ec704ad24f4b6bb7b2421e50a3d0c2",
              "IPY_MODEL_ad85fbe2a99344888518f83974044505"
            ],
            "layout": "IPY_MODEL_a94d3dac146b4fe08c1fabf544827be8"
          }
        },
        "f4eab0da795c41c8902a76d91506d1c9": {
          "model_module": "@jupyter-widgets/controls",
          "model_name": "HTMLModel",
          "model_module_version": "1.5.0",
          "state": {
            "_dom_classes": [],
            "_model_module": "@jupyter-widgets/controls",
            "_model_module_version": "1.5.0",
            "_model_name": "HTMLModel",
            "_view_count": null,
            "_view_module": "@jupyter-widgets/controls",
            "_view_module_version": "1.5.0",
            "_view_name": "HTMLView",
            "description": "",
            "description_tooltip": null,
            "layout": "IPY_MODEL_dc2af22758f84ef891186a2147e6d51a",
            "placeholder": "​",
            "style": "IPY_MODEL_e97f067345f642839d2fdfd3e1c57353",
            "value": "model.safetensors: 100%"
          }
        },
        "c1ec704ad24f4b6bb7b2421e50a3d0c2": {
          "model_module": "@jupyter-widgets/controls",
          "model_name": "FloatProgressModel",
          "model_module_version": "1.5.0",
          "state": {
            "_dom_classes": [],
            "_model_module": "@jupyter-widgets/controls",
            "_model_module_version": "1.5.0",
            "_model_name": "FloatProgressModel",
            "_view_count": null,
            "_view_module": "@jupyter-widgets/controls",
            "_view_module_version": "1.5.0",
            "_view_name": "ProgressView",
            "bar_style": "success",
            "description": "",
            "description_tooltip": null,
            "layout": "IPY_MODEL_9a916fdea98044e0adc003421c2fd8d3",
            "max": 377607901,
            "min": 0,
            "orientation": "horizontal",
            "style": "IPY_MODEL_a5bf03686a104ba58a9de7c1bf5165d7",
            "value": 377607901
          }
        },
        "ad85fbe2a99344888518f83974044505": {
          "model_module": "@jupyter-widgets/controls",
          "model_name": "HTMLModel",
          "model_module_version": "1.5.0",
          "state": {
            "_dom_classes": [],
            "_model_module": "@jupyter-widgets/controls",
            "_model_module_version": "1.5.0",
            "_model_name": "HTMLModel",
            "_view_count": null,
            "_view_module": "@jupyter-widgets/controls",
            "_view_module_version": "1.5.0",
            "_view_name": "HTMLView",
            "description": "",
            "description_tooltip": null,
            "layout": "IPY_MODEL_c7e53e6ea3a345bfaa449960b7f2dd2b",
            "placeholder": "​",
            "style": "IPY_MODEL_125f2e69167a409babbf88d51078e38b",
            "value": " 378M/378M [00:05&lt;00:00, 114MB/s]"
          }
        },
        "a94d3dac146b4fe08c1fabf544827be8": {
          "model_module": "@jupyter-widgets/base",
          "model_name": "LayoutModel",
          "model_module_version": "1.2.0",
          "state": {
            "_model_module": "@jupyter-widgets/base",
            "_model_module_version": "1.2.0",
            "_model_name": "LayoutModel",
            "_view_count": null,
            "_view_module": "@jupyter-widgets/base",
            "_view_module_version": "1.2.0",
            "_view_name": "LayoutView",
            "align_content": null,
            "align_items": null,
            "align_self": null,
            "border": null,
            "bottom": null,
            "display": null,
            "flex": null,
            "flex_flow": null,
            "grid_area": null,
            "grid_auto_columns": null,
            "grid_auto_flow": null,
            "grid_auto_rows": null,
            "grid_column": null,
            "grid_gap": null,
            "grid_row": null,
            "grid_template_areas": null,
            "grid_template_columns": null,
            "grid_template_rows": null,
            "height": null,
            "justify_content": null,
            "justify_items": null,
            "left": null,
            "margin": null,
            "max_height": null,
            "max_width": null,
            "min_height": null,
            "min_width": null,
            "object_fit": null,
            "object_position": null,
            "order": null,
            "overflow": null,
            "overflow_x": null,
            "overflow_y": null,
            "padding": null,
            "right": null,
            "top": null,
            "visibility": null,
            "width": null
          }
        },
        "dc2af22758f84ef891186a2147e6d51a": {
          "model_module": "@jupyter-widgets/base",
          "model_name": "LayoutModel",
          "model_module_version": "1.2.0",
          "state": {
            "_model_module": "@jupyter-widgets/base",
            "_model_module_version": "1.2.0",
            "_model_name": "LayoutModel",
            "_view_count": null,
            "_view_module": "@jupyter-widgets/base",
            "_view_module_version": "1.2.0",
            "_view_name": "LayoutView",
            "align_content": null,
            "align_items": null,
            "align_self": null,
            "border": null,
            "bottom": null,
            "display": null,
            "flex": null,
            "flex_flow": null,
            "grid_area": null,
            "grid_auto_columns": null,
            "grid_auto_flow": null,
            "grid_auto_rows": null,
            "grid_column": null,
            "grid_gap": null,
            "grid_row": null,
            "grid_template_areas": null,
            "grid_template_columns": null,
            "grid_template_rows": null,
            "height": null,
            "justify_content": null,
            "justify_items": null,
            "left": null,
            "margin": null,
            "max_height": null,
            "max_width": null,
            "min_height": null,
            "min_width": null,
            "object_fit": null,
            "object_position": null,
            "order": null,
            "overflow": null,
            "overflow_x": null,
            "overflow_y": null,
            "padding": null,
            "right": null,
            "top": null,
            "visibility": null,
            "width": null
          }
        },
        "e97f067345f642839d2fdfd3e1c57353": {
          "model_module": "@jupyter-widgets/controls",
          "model_name": "DescriptionStyleModel",
          "model_module_version": "1.5.0",
          "state": {
            "_model_module": "@jupyter-widgets/controls",
            "_model_module_version": "1.5.0",
            "_model_name": "DescriptionStyleModel",
            "_view_count": null,
            "_view_module": "@jupyter-widgets/base",
            "_view_module_version": "1.2.0",
            "_view_name": "StyleView",
            "description_width": ""
          }
        },
        "9a916fdea98044e0adc003421c2fd8d3": {
          "model_module": "@jupyter-widgets/base",
          "model_name": "LayoutModel",
          "model_module_version": "1.2.0",
          "state": {
            "_model_module": "@jupyter-widgets/base",
            "_model_module_version": "1.2.0",
            "_model_name": "LayoutModel",
            "_view_count": null,
            "_view_module": "@jupyter-widgets/base",
            "_view_module_version": "1.2.0",
            "_view_name": "LayoutView",
            "align_content": null,
            "align_items": null,
            "align_self": null,
            "border": null,
            "bottom": null,
            "display": null,
            "flex": null,
            "flex_flow": null,
            "grid_area": null,
            "grid_auto_columns": null,
            "grid_auto_flow": null,
            "grid_auto_rows": null,
            "grid_column": null,
            "grid_gap": null,
            "grid_row": null,
            "grid_template_areas": null,
            "grid_template_columns": null,
            "grid_template_rows": null,
            "height": null,
            "justify_content": null,
            "justify_items": null,
            "left": null,
            "margin": null,
            "max_height": null,
            "max_width": null,
            "min_height": null,
            "min_width": null,
            "object_fit": null,
            "object_position": null,
            "order": null,
            "overflow": null,
            "overflow_x": null,
            "overflow_y": null,
            "padding": null,
            "right": null,
            "top": null,
            "visibility": null,
            "width": null
          }
        },
        "a5bf03686a104ba58a9de7c1bf5165d7": {
          "model_module": "@jupyter-widgets/controls",
          "model_name": "ProgressStyleModel",
          "model_module_version": "1.5.0",
          "state": {
            "_model_module": "@jupyter-widgets/controls",
            "_model_module_version": "1.5.0",
            "_model_name": "ProgressStyleModel",
            "_view_count": null,
            "_view_module": "@jupyter-widgets/base",
            "_view_module_version": "1.2.0",
            "_view_name": "StyleView",
            "bar_color": null,
            "description_width": ""
          }
        },
        "c7e53e6ea3a345bfaa449960b7f2dd2b": {
          "model_module": "@jupyter-widgets/base",
          "model_name": "LayoutModel",
          "model_module_version": "1.2.0",
          "state": {
            "_model_module": "@jupyter-widgets/base",
            "_model_module_version": "1.2.0",
            "_model_name": "LayoutModel",
            "_view_count": null,
            "_view_module": "@jupyter-widgets/base",
            "_view_module_version": "1.2.0",
            "_view_name": "LayoutView",
            "align_content": null,
            "align_items": null,
            "align_self": null,
            "border": null,
            "bottom": null,
            "display": null,
            "flex": null,
            "flex_flow": null,
            "grid_area": null,
            "grid_auto_columns": null,
            "grid_auto_flow": null,
            "grid_auto_rows": null,
            "grid_column": null,
            "grid_gap": null,
            "grid_row": null,
            "grid_template_areas": null,
            "grid_template_columns": null,
            "grid_template_rows": null,
            "height": null,
            "justify_content": null,
            "justify_items": null,
            "left": null,
            "margin": null,
            "max_height": null,
            "max_width": null,
            "min_height": null,
            "min_width": null,
            "object_fit": null,
            "object_position": null,
            "order": null,
            "overflow": null,
            "overflow_x": null,
            "overflow_y": null,
            "padding": null,
            "right": null,
            "top": null,
            "visibility": null,
            "width": null
          }
        },
        "125f2e69167a409babbf88d51078e38b": {
          "model_module": "@jupyter-widgets/controls",
          "model_name": "DescriptionStyleModel",
          "model_module_version": "1.5.0",
          "state": {
            "_model_module": "@jupyter-widgets/controls",
            "_model_module_version": "1.5.0",
            "_model_name": "DescriptionStyleModel",
            "_view_count": null,
            "_view_module": "@jupyter-widgets/base",
            "_view_module_version": "1.2.0",
            "_view_name": "StyleView",
            "description_width": ""
          }
        }
      }
    }
  },
  "nbformat": 4,
  "nbformat_minor": 0
}